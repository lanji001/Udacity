{
 "cells": [
  {
   "cell_type": "markdown",
   "metadata": {
    "collapsed": true
   },
   "source": [
    "# Image Classification\n",
    "In this project, you'll classify images from the [CIFAR-10 dataset](https://www.cs.toronto.edu/~kriz/cifar.html).  The dataset consists of airplanes, dogs, cats, and other objects. You'll preprocess the images, then train a convolutional neural network on all the samples. The images need to be normalized and the labels need to be one-hot encoded.  You'll get to apply what you learned and build a convolutional, max pooling, dropout, and fully connected layers.  At the end, you'll get to see your neural network's predictions on the sample images.\n",
    "## Get the Data\n",
    "Run the following cell to download the [CIFAR-10 dataset for python](https://www.cs.toronto.edu/~kriz/cifar-10-python.tar.gz)."
   ]
  },
  {
   "cell_type": "code",
   "execution_count": 1,
   "metadata": {},
   "outputs": [
    {
     "name": "stdout",
     "output_type": "stream",
     "text": [
      "All files found!\n"
     ]
    }
   ],
   "source": [
    "\"\"\"\n",
    "DON'T MODIFY ANYTHING IN THIS CELL THAT IS BELOW THIS LINE\n",
    "\"\"\"\n",
    "from urllib.request import urlretrieve\n",
    "from os.path import isfile, isdir\n",
    "from tqdm import tqdm\n",
    "import problem_unittests as tests\n",
    "import tarfile\n",
    "\n",
    "cifar10_dataset_folder_path = 'cifar-10-batches-py'\n",
    "\n",
    "# Use Floyd's cifar-10 dataset if present\n",
    "floyd_cifar10_location = '/input/cifar-10/python.tar.gz'\n",
    "if isfile(floyd_cifar10_location):\n",
    "    tar_gz_path = floyd_cifar10_location\n",
    "else:\n",
    "    tar_gz_path = 'cifar-10-python.tar.gz'\n",
    "\n",
    "class DLProgress(tqdm):\n",
    "    last_block = 0\n",
    "\n",
    "    def hook(self, block_num=1, block_size=1, total_size=None):\n",
    "        self.total = total_size\n",
    "        self.update((block_num - self.last_block) * block_size)\n",
    "        self.last_block = block_num\n",
    "\n",
    "if not isfile(tar_gz_path):\n",
    "    with DLProgress(unit='B', unit_scale=True, miniters=1, desc='CIFAR-10 Dataset') as pbar:\n",
    "        urlretrieve(\n",
    "            'https://www.cs.toronto.edu/~kriz/cifar-10-python.tar.gz',\n",
    "            tar_gz_path,\n",
    "            pbar.hook)\n",
    "\n",
    "if not isdir(cifar10_dataset_folder_path):\n",
    "    with tarfile.open(tar_gz_path) as tar:\n",
    "        tar.extractall()\n",
    "        tar.close()\n",
    "\n",
    "\n",
    "tests.test_folder_path(cifar10_dataset_folder_path)"
   ]
  },
  {
   "cell_type": "markdown",
   "metadata": {},
   "source": [
    "## Explore the Data\n",
    "The dataset is broken into batches to prevent your machine from running out of memory.  The CIFAR-10 dataset consists of 5 batches, named `data_batch_1`, `data_batch_2`, etc.. Each batch contains the labels and images that are one of the following:\n",
    "* airplane\n",
    "* automobile\n",
    "* bird\n",
    "* cat\n",
    "* deer\n",
    "* dog\n",
    "* frog\n",
    "* horse\n",
    "* ship\n",
    "* truck\n",
    "\n",
    "Understanding a dataset is part of making predictions on the data.  Play around with the code cell below by changing the `batch_id` and `sample_id`. The `batch_id` is the id for a batch (1-5). The `sample_id` is the id for a image and label pair in the batch.\n",
    "\n",
    "Ask yourself \"What are all possible labels?\", \"What is the range of values for the image data?\", \"Are the labels in order or random?\".  Answers to questions like these will help you preprocess the data and end up with better predictions."
   ]
  },
  {
   "cell_type": "code",
   "execution_count": 2,
   "metadata": {},
   "outputs": [
    {
     "name": "stdout",
     "output_type": "stream",
     "text": [
      "\n",
      "Stats of batch 5:\n",
      "Samples: 10000\n",
      "Label Counts: {0: 1014, 1: 1014, 2: 952, 3: 1016, 4: 997, 5: 1025, 6: 980, 7: 977, 8: 1003, 9: 1022}\n",
      "First 20 Labels: [1, 8, 5, 1, 5, 7, 4, 3, 8, 2, 7, 2, 0, 1, 5, 9, 6, 2, 0, 8]\n",
      "\n",
      "Example of Image 2:\n",
      "Image - Min Value: 0 Max Value: 255\n",
      "Image - Shape: (32, 32, 3)\n",
      "Label - Label Id: 5 Name: dog\n"
     ]
    },
    {
     "data": {
      "image/png": "[encoded data removed]",
      "text/plain": [
       "<matplotlib.figure.Figure at 0x119194d30>"
      ]
     },
     "metadata": {
      "image/png": {
       "height": 250,
       "width": 253
      }
     },
     "output_type": "display_data"
    }
   ],
   "source": [
    "%matplotlib inline\n",
    "%config InlineBackend.figure_format = 'retina'\n",
    "\n",
    "import helper\n",
    "import numpy as np\n",
    "\n",
    "# Explore the dataset\n",
    "batch_id = 5\n",
    "sample_id = 2\n",
    "helper.display_stats(cifar10_dataset_folder_path, batch_id, sample_id)"
   ]
  },
  {
   "cell_type": "markdown",
   "metadata": {},
   "source": [
    "## Implement Preprocess Functions\n",
    "### Normalize\n",
    "In the cell below, implement the `normalize` function to take in image data, `x`, and return it as a normalized Numpy array. The values should be in the range of 0 to 1, inclusive.  The return object should be the same shape as `x`."
   ]
  },
  {
   "cell_type": "code",
   "execution_count": 3,
   "metadata": {},
   "outputs": [
    {
     "name": "stdout",
     "output_type": "stream",
     "text": [
      "Tests Passed\n"
     ]
    }
   ],
   "source": [
    "def normalize(x):\n",
    "    \"\"\"\n",
    "    Normalize a list of sample image data in the range of 0 to 1\n",
    "    : x: List of image data.  The image shape is (32, 32, 3)\n",
    "    : return: Numpy array of normalize data\n",
    "    \"\"\"\n",
    "    # TODO: Implement Function\n",
    "    \n",
    "    # Compute max/min values.\n",
    "    max_val, min_val = x.max(), x.min()\n",
    "    \n",
    "    # Normalize the image data within x\n",
    "    normalized = np.array((x - min_val) / (max_val - min_val))\n",
    "    \n",
    "    return normalized\n",
    "\n",
    "\n",
    "\"\"\"\n",
    "DON'T MODIFY ANYTHING IN THIS CELL THAT IS BELOW THIS LINE\n",
    "\"\"\"\n",
    "tests.test_normalize(normalize)"
   ]
  },
  {
   "cell_type": "markdown",
   "metadata": {},
   "source": [
    "### One-hot encode\n",
    "Just like the previous code cell, you'll be implementing a function for preprocessing.  This time, you'll implement the `one_hot_encode` function. The input, `x`, are a list of labels.  Implement the function to return the list of labels as One-Hot encoded Numpy array.  The possible values for labels are 0 to 9. The one-hot encoding function should return the same encoding for each value between each call to `one_hot_encode`.  Make sure to save the map of encodings outside the function.\n",
    "\n",
    "Hint: Don't reinvent the wheel."
   ]
  },
  {
   "cell_type": "code",
   "execution_count": 4,
   "metadata": {},
   "outputs": [
    {
     "name": "stdout",
     "output_type": "stream",
     "text": [
      "Tests Passed\n"
     ]
    }
   ],
   "source": [
    "def one_hot_encode(x):\n",
    "    \"\"\"\n",
    "    One hot encode a list of sample labels. Return a one-hot encoded vector for each label.\n",
    "    : x: List of sample Labels\n",
    "    : return: Numpy array of one-hot encoded labels\n",
    "    \"\"\"\n",
    "    # TODO: Implement Function\n",
    "    \n",
    "    labels = 10\n",
    "    return np.eye(labels)[x]\n",
    "\n",
    "\n",
    "\"\"\"\n",
    "DON'T MODIFY ANYTHING IN THIS CELL THAT IS BELOW THIS LINE\n",
    "\"\"\"\n",
    "tests.test_one_hot_encode(one_hot_encode)"
   ]
  },
  {
   "cell_type": "markdown",
   "metadata": {},
   "source": [
    "### Randomize Data\n",
    "As you saw from exploring the data above, the order of the samples are randomized.  It doesn't hurt to randomize it again, but you don't need to for this dataset."
   ]
  },
  {
   "cell_type": "markdown",
   "metadata": {},
   "source": [
    "## Preprocess all the data and save it\n",
    "Running the code cell below will preprocess all the CIFAR-10 data and save it to file. The code below also uses 10% of the training data for validation."
   ]
  },
  {
   "cell_type": "code",
   "execution_count": 5,
   "metadata": {
    "collapsed": true
   },
   "outputs": [],
   "source": [
    "\"\"\"\n",
    "DON'T MODIFY ANYTHING IN THIS CELL\n",
    "\"\"\"\n",
    "# Preprocess Training, Validation, and Testing Data\n",
    "helper.preprocess_and_save_data(cifar10_dataset_folder_path, normalize, one_hot_encode)"
   ]
  },
  {
   "cell_type": "markdown",
   "metadata": {},
   "source": [
    "# Check Point\n",
    "This is your first checkpoint.  If you ever decide to come back to this notebook or have to restart the notebook, you can start from here.  The preprocessed data has been saved to disk."
   ]
  },
  {
   "cell_type": "code",
   "execution_count": 6,
   "metadata": {
    "collapsed": true
   },
   "outputs": [],
   "source": [
    "\"\"\"\n",
    "DON'T MODIFY ANYTHING IN THIS CELL\n",
    "\"\"\"\n",
    "import pickle\n",
    "import problem_unittests as tests\n",
    "import helper\n",
    "\n",
    "# Load the Preprocessed Validation data\n",
    "valid_features, valid_labels = pickle.load(open('preprocess_validation.p', mode='rb'))"
   ]
  },
  {
   "cell_type": "markdown",
   "metadata": {},
   "source": [
    "## Build the network\n",
    "For the neural network, you'll build each layer into a function.  Most of the code you've seen has been outside of functions. To test your code more thoroughly, we require that you put each layer in a function.  This allows us to give you better feedback and test for simple mistakes using our unittests before you submit your project.\n",
    "\n",
    ">**Note:** If you're finding it hard to dedicate enough time for this course each week, we've provided a small shortcut to this part of the project. In the next couple of problems, you'll have the option to use classes from the [TensorFlow Layers](https://www.tensorflow.org/api_docs/python/tf/layers) or [TensorFlow Layers (contrib)](https://www.tensorflow.org/api_guides/python/contrib.layers) packages to build each layer, except the layers you build in the \"Convolutional and Max Pooling Layer\" section.  TF Layers is similar to Keras's and TFLearn's abstraction to layers, so it's easy to pickup.\n",
    "\n",
    ">However, if you would like to get the most out of this course, try to solve all the problems _without_ using anything from the TF Layers packages. You **can** still use classes from other packages that happen to have the same name as ones you find in TF Layers! For example, instead of using the TF Layers version of the `conv2d` class, [tf.layers.conv2d](https://www.tensorflow.org/api_docs/python/tf/layers/conv2d), you would want to use the TF Neural Network version of `conv2d`, [tf.nn.conv2d](https://www.tensorflow.org/api_docs/python/tf/nn/conv2d). \n",
    "\n",
    "Let's begin!\n",
    "\n",
    "### Input\n",
    "The neural network needs to read the image data, one-hot encoded labels, and dropout keep probability. Implement the following functions\n",
    "* Implement `neural_net_image_input`\n",
    " * Return a [TF Placeholder](https://www.tensorflow.org/api_docs/python/tf/placeholder)\n",
    " * Set the shape using `image_shape` with batch size set to `None`.\n",
    " * Name the TensorFlow placeholder \"x\" using the TensorFlow `name` parameter in the [TF Placeholder](https://www.tensorflow.org/api_docs/python/tf/placeholder).\n",
    "* Implement `neural_net_label_input`\n",
    " * Return a [TF Placeholder](https://www.tensorflow.org/api_docs/python/tf/placeholder)\n",
    " * Set the shape using `n_classes` with batch size set to `None`.\n",
    " * Name the TensorFlow placeholder \"y\" using the TensorFlow `name` parameter in the [TF Placeholder](https://www.tensorflow.org/api_docs/python/tf/placeholder).\n",
    "* Implement `neural_net_keep_prob_input`\n",
    " * Return a [TF Placeholder](https://www.tensorflow.org/api_docs/python/tf/placeholder) for dropout keep probability.\n",
    " * Name the TensorFlow placeholder \"keep_prob\" using the TensorFlow `name` parameter in the [TF Placeholder](https://www.tensorflow.org/api_docs/python/tf/placeholder).\n",
    "\n",
    "These names will be used at the end of the project to load your saved model.\n",
    "\n",
    "Note: `None` for shapes in TensorFlow allow for a dynamic size."
   ]
  },
  {
   "cell_type": "code",
   "execution_count": 7,
   "metadata": {},
   "outputs": [
    {
     "name": "stdout",
     "output_type": "stream",
     "text": [
      "Image Input Tests Passed.\n",
      "Label Input Tests Passed.\n",
      "Keep Prob Tests Passed.\n"
     ]
    }
   ],
   "source": [
    "import tensorflow as tf\n",
    "\n",
    "def neural_net_image_input(image_shape):\n",
    "    \"\"\"\n",
    "    Return a Tensor for a bach of image input\n",
    "    : image_shape: Shape of the images\n",
    "    : return: Tensor for image input.\n",
    "    \"\"\"\n",
    "    # TODO: Implement Function\n",
    "    return tf.placeholder(dtype = tf.float32, \\\n",
    "                          shape = [None, image_shape[0], image_shape[1], image_shape[2]], \\\n",
    "                          name = 'x')\n",
    "\n",
    "\n",
    "def neural_net_label_input(n_classes):\n",
    "    \"\"\"\n",
    "    Return a Tensor for a batch of label input\n",
    "    : n_classes: Number of classes\n",
    "    : return: Tensor for label input.\n",
    "    \"\"\"\n",
    "    # TODO: Implement Function\n",
    "    return tf.placeholder(dtype = tf.float32, shape = [None, n_classes], name = 'y')\n",
    "\n",
    "\n",
    "def neural_net_keep_prob_input():\n",
    "    \"\"\"\n",
    "    Return a Tensor for keep probability\n",
    "    : return: Tensor for keep probability.\n",
    "    \"\"\"\n",
    "    # TODO: Implement Function\n",
    "    return tf.placeholder(dtype = tf.float32, name = 'keep_prob')\n",
    "\n",
    "\n",
    "\"\"\"\n",
    "DON'T MODIFY ANYTHING IN THIS CELL THAT IS BELOW THIS LINE\n",
    "\"\"\"\n",
    "tf.reset_default_graph()\n",
    "tests.test_nn_image_inputs(neural_net_image_input)\n",
    "tests.test_nn_label_inputs(neural_net_label_input)\n",
    "tests.test_nn_keep_prob_inputs(neural_net_keep_prob_input)"
   ]
  },
  {
   "cell_type": "markdown",
   "metadata": {},
   "source": [
    "### Convolution and Max Pooling Layer\n",
    "Convolution layers have a lot of success with images. For this code cell, you should implement the function `conv2d_maxpool` to apply convolution then max pooling:\n",
    "* Create the weight and bias using `conv_ksize`, `conv_num_outputs` and the shape of `x_tensor`.\n",
    "* Apply a convolution to `x_tensor` using weight and `conv_strides`.\n",
    " * We recommend you use same padding, but you're welcome to use any padding.\n",
    "* Add bias\n",
    "* Add a nonlinear activation to the convolution.\n",
    "* Apply Max Pooling using `pool_ksize` and `pool_strides`.\n",
    " * We recommend you use same padding, but you're welcome to use any padding.\n",
    "\n",
    "**Note:** You **can't** use [TensorFlow Layers](https://www.tensorflow.org/api_docs/python/tf/layers) or [TensorFlow Layers (contrib)](https://www.tensorflow.org/api_guides/python/contrib.layers) for **this** layer, but you can still use TensorFlow's [Neural Network](https://www.tensorflow.org/api_docs/python/tf/nn) package. You may still use the shortcut option for all the **other** layers."
   ]
  },
  {
   "cell_type": "code",
   "execution_count": 8,
   "metadata": {
    "scrolled": true
   },
   "outputs": [
    {
     "name": "stdout",
     "output_type": "stream",
     "text": [
      "Tests Passed\n"
     ]
    }
   ],
   "source": [
    "def conv2d_maxpool(x_tensor, conv_num_outputs, conv_ksize, conv_strides, pool_ksize, pool_strides):\n",
    "    \"\"\"\n",
    "    Apply convolution then max pooling to x_tensor\n",
    "    :param x_tensor: TensorFlow Tensor\n",
    "    :param conv_num_outputs: Number of outputs for the convolutional layer\n",
    "    :param conv_ksize: kernal size 2-D Tuple for the convolutional layer\n",
    "    :param conv_strides: Stride 2-D Tuple for convolution\n",
    "    :param pool_ksize: kernal size 2-D Tuple for pool\n",
    "    :param pool_strides: Stride 2-D Tuple for pool\n",
    "    : return: A tensor that represents convolution and max pooling of x_tensor\n",
    "    \"\"\"\n",
    "    # TODO: Implement Function\n",
    "    \n",
    "    # Step 1: Create the weight tensor\n",
    "    weight_shape = (conv_ksize[0], conv_ksize[1], \\\n",
    "                    x_tensor.get_shape().as_list()[-1], conv_num_outputs) \n",
    "    weight = tf.Variable(tf.truncated_normal(weight_shape, stddev=0.1))\n",
    "    \n",
    "    # Step 2: Create the bias tensor\n",
    "    bias_shape = (conv_num_outputs,)\n",
    "    bias = tf.Variable(tf.zeros(bias_shape))\n",
    "    \n",
    "    # Step 3: Build the Convolution layer\n",
    "    conv_layer = tf.nn.conv2d(x_tensor, weight, \\\n",
    "                              strides = [1, conv_strides[0], conv_strides[1], 1], \\\n",
    "                              padding = 'SAME')\n",
    "    conv_layer = tf.nn.bias_add(conv_layer, bias)\n",
    "    \n",
    "    # Step 4: Add a non-linear activation to the Convolution layer\n",
    "    relu_layer = tf.nn.relu(conv_layer)\n",
    "    \n",
    "    # Step 5: Max Pooling layer\n",
    "    max_pool_layer = tf.nn.max_pool(relu_layer, \\\n",
    "                                    ksize = [1, pool_ksize[0], pool_ksize[1], 1], \\\n",
    "                                    strides = [1, pool_strides[0], pool_strides[1], 1], \\\n",
    "                                    padding = 'SAME')\n",
    "    \n",
    "    return max_pool_layer\n",
    "\n",
    "\n",
    "\"\"\"\n",
    "DON'T MODIFY ANYTHING IN THIS CELL THAT IS BELOW THIS LINE\n",
    "\"\"\"\n",
    "tests.test_con_pool(conv2d_maxpool)"
   ]
  },
  {
   "cell_type": "markdown",
   "metadata": {},
   "source": [
    "### Flatten Layer\n",
    "Implement the `flatten` function to change the dimension of `x_tensor` from a 4-D tensor to a 2-D tensor.  The output should be the shape (*Batch Size*, *Flattened Image Size*). Shortcut option: you can use classes from the [TensorFlow Layers](https://www.tensorflow.org/api_docs/python/tf/layers) or [TensorFlow Layers (contrib)](https://www.tensorflow.org/api_guides/python/contrib.layers) packages for this layer. For more of a challenge, only use other TensorFlow packages."
   ]
  },
  {
   "cell_type": "code",
   "execution_count": 9,
   "metadata": {},
   "outputs": [
    {
     "name": "stdout",
     "output_type": "stream",
     "text": [
      "Tests Passed\n"
     ]
    }
   ],
   "source": [
    "def flatten(x_tensor):\n",
    "    \"\"\"\n",
    "    Flatten x_tensor to (Batch Size, Flattened Image Size)\n",
    "    : x_tensor: A tensor of size (Batch Size, ...), where ... are the image dimensions.\n",
    "    : return: A tensor of size (Batch Size, Flattened Image Size).\n",
    "    \"\"\"\n",
    "    # TODO: Implement Function\n",
    "    batch_size = x_tensor.get_shape().as_list()[0]\n",
    "    width = x_tensor.get_shape().as_list()[1]\n",
    "    height = x_tensor.get_shape().as_list()[2]\n",
    "    depth = x_tensor.get_shape().as_list()[3]\n",
    "    \n",
    "    flatten_image_size = width * height * depth\n",
    "    return tf.reshape(x_tensor, [-1, flatten_image_size])\n",
    "\n",
    "\n",
    "\"\"\"\n",
    "DON'T MODIFY ANYTHING IN THIS CELL THAT IS BELOW THIS LINE\n",
    "\"\"\"\n",
    "tests.test_flatten(flatten)"
   ]
  },
  {
   "cell_type": "markdown",
   "metadata": {},
   "source": [
    "### Fully-Connected Layer\n",
    "Implement the `fully_conn` function to apply a fully connected layer to `x_tensor` with the shape (*Batch Size*, *num_outputs*). Shortcut option: you can use classes from the [TensorFlow Layers](https://www.tensorflow.org/api_docs/python/tf/layers) or [TensorFlow Layers (contrib)](https://www.tensorflow.org/api_guides/python/contrib.layers) packages for this layer. For more of a challenge, only use other TensorFlow packages."
   ]
  },
  {
   "cell_type": "code",
   "execution_count": 10,
   "metadata": {},
   "outputs": [
    {
     "name": "stdout",
     "output_type": "stream",
     "text": [
      "Tests Passed\n"
     ]
    }
   ],
   "source": [
    "def fully_conn(x_tensor, num_outputs):\n",
    "    \"\"\"\n",
    "    Apply a fully connected layer to x_tensor using weight and bias\n",
    "    : x_tensor: A 2-D tensor where the first dimension is batch size.\n",
    "    : num_outputs: The number of output that the new tensor should be.\n",
    "    : return: A 2-D tensor where the second dimension is num_outputs.\n",
    "    \"\"\"\n",
    "    # TODO: Implement Function\n",
    "    weights = tf.Variable(tf.truncated_normal([x_tensor.get_shape().as_list()[1], num_outputs], \\\n",
    "                                              stddev = 0.1))\n",
    "    bias = tf.Variable(tf.zeros(num_outputs))\n",
    "    fully_layer = tf.nn.relu(tf.add(tf.matmul(x_tensor, weights), bias))\n",
    "    \n",
    "    return fully_layer\n",
    "\n",
    "\n",
    "\"\"\"\n",
    "DON'T MODIFY ANYTHING IN THIS CELL THAT IS BELOW THIS LINE\n",
    "\"\"\"\n",
    "tests.test_fully_conn(fully_conn)"
   ]
  },
  {
   "cell_type": "markdown",
   "metadata": {},
   "source": [
    "### Output Layer\n",
    "Implement the `output` function to apply a fully connected layer to `x_tensor` with the shape (*Batch Size*, *num_outputs*). Shortcut option: you can use classes from the [TensorFlow Layers](https://www.tensorflow.org/api_docs/python/tf/layers) or [TensorFlow Layers (contrib)](https://www.tensorflow.org/api_guides/python/contrib.layers) packages for this layer. For more of a challenge, only use other TensorFlow packages.\n",
    "\n",
    "**Note:** Activation, softmax, or cross entropy should **not** be applied to this."
   ]
  },
  {
   "cell_type": "code",
   "execution_count": 11,
   "metadata": {},
   "outputs": [
    {
     "name": "stdout",
     "output_type": "stream",
     "text": [
      "Tests Passed\n"
     ]
    }
   ],
   "source": [
    "def output(x_tensor, num_outputs):\n",
    "    \"\"\"\n",
    "    Apply a output layer to x_tensor using weight and bias\n",
    "    : x_tensor: A 2-D tensor where the first dimension is batch size.\n",
    "    : num_outputs: The number of output that the new tensor should be.\n",
    "    : return: A 2-D tensor where the second dimension is num_outputs.\n",
    "    \"\"\"\n",
    "    # TODO: Implement Function\n",
    "    weights = tf.Variable(tf.truncated_normal([x_tensor.get_shape().as_list()[1], num_outputs], \\\n",
    "                                              stddev = 0.1))\n",
    "    bias = tf.Variable(tf.zeros(num_outputs))\n",
    "    output_layer = tf.add(tf.matmul(x_tensor, weights), bias)\n",
    "    \n",
    "    return output_layer\n",
    "\n",
    "\n",
    "\"\"\"\n",
    "DON'T MODIFY ANYTHING IN THIS CELL THAT IS BELOW THIS LINE\n",
    "\"\"\"\n",
    "tests.test_output(output)"
   ]
  },
  {
   "cell_type": "markdown",
   "metadata": {},
   "source": [
    "### Create Convolutional Model\n",
    "Implement the function `conv_net` to create a convolutional neural network model. The function takes in a batch of images, `x`, and outputs logits.  Use the layers you created above to create this model:\n",
    "\n",
    "* Apply 1, 2, or 3 Convolution and Max Pool layers\n",
    "* Apply a Flatten Layer\n",
    "* Apply 1, 2, or 3 Fully Connected Layers\n",
    "* Apply an Output Layer\n",
    "* Return the output\n",
    "* Apply [TensorFlow's Dropout](https://www.tensorflow.org/api_docs/python/tf/nn/dropout) to one or more layers in the model using `keep_prob`. "
   ]
  },
  {
   "cell_type": "code",
   "execution_count": 12,
   "metadata": {},
   "outputs": [
    {
     "name": "stdout",
     "output_type": "stream",
     "text": [
      "Neural Network Built!\n"
     ]
    }
   ],
   "source": [
    "def conv_net(x, keep_prob):\n",
    "    \"\"\"\n",
    "    Create a convolutional neural network model\n",
    "    : x: Placeholder tensor that holds image data.\n",
    "    : keep_prob: Placeholder tensor that hold dropout keep probability.\n",
    "    : return: Tensor that represents logits\n",
    "    \"\"\"\n",
    "    # TODO: Apply 1, 2, or 3 Convolution and Max Pool layers\n",
    "    #    Play around with different number of outputs, kernel size and stride\n",
    "    # Function Definition from Above:\n",
    "    #    conv2d_maxpool(x_tensor, conv_num_outputs, conv_ksize, conv_strides, pool_ksize, pool_strides)\n",
    "    \n",
    "    conv_num_outputs = [32, 128]\n",
    "    conv_size = [(4,4), (6,6)]\n",
    "    conv_strides = (1,1)\n",
    "    pool_ksize = (4,4)\n",
    "    pool_strides = (2,2)\n",
    "    num_outputs = 10\n",
    "    \n",
    "    x = conv2d_maxpool(x, conv_num_outputs[0], conv_size[0], conv_strides, pool_ksize, pool_strides)\n",
    "    x = tf.nn.dropout(x, keep_prob = keep_prob)\n",
    "    x = conv2d_maxpool(x, conv_num_outputs[1], conv_size[1], conv_strides, pool_ksize, pool_strides)\n",
    "    x = tf.nn.dropout(x, keep_prob = keep_prob)\n",
    "    \n",
    "    # TODO: Apply a Flatten Layer\n",
    "    # Function Definition from Above:\n",
    "    #   flatten(x_tensor)\n",
    "    \n",
    "    x = flatten(x)\n",
    "\n",
    "    # TODO: Apply 1, 2, or 3 Fully Connected Layers\n",
    "    #    Play around with different number of outputs\n",
    "    # Function Definition from Above:\n",
    "    #   fully_conn(x_tensor, num_outputs)\n",
    "    \n",
    "    x = fully_conn(x, num_outputs)\n",
    "    x = fully_conn(x, num_outputs)\n",
    "    \n",
    "    # TODO: Apply an Output Layer\n",
    "    #    Set this to the number of classes\n",
    "    # Function Definition from Above:\n",
    "    #   output(x_tensor, num_outputs)\n",
    "    \n",
    "    x = output(x, num_outputs)\n",
    "    \n",
    "    # TODO: return output\n",
    "    return x\n",
    "\n",
    "\n",
    "\"\"\"\n",
    "DON'T MODIFY ANYTHING IN THIS CELL THAT IS BELOW THIS LINE\n",
    "\"\"\"\n",
    "\n",
    "##############################\n",
    "## Build the Neural Network ##\n",
    "##############################\n",
    "\n",
    "# Remove previous weights, bias, inputs, etc..\n",
    "tf.reset_default_graph()\n",
    "\n",
    "# Inputs\n",
    "x = neural_net_image_input((32, 32, 3))\n",
    "y = neural_net_label_input(10)\n",
    "keep_prob = neural_net_keep_prob_input()\n",
    "\n",
    "# Model\n",
    "logits = conv_net(x, keep_prob)\n",
    "\n",
    "# Name logits Tensor, so that is can be loaded from disk after training\n",
    "logits = tf.identity(logits, name='logits')\n",
    "\n",
    "# Loss and Optimizer\n",
    "cost = tf.reduce_mean(tf.nn.softmax_cross_entropy_with_logits(logits=logits, labels=y))\n",
    "optimizer = tf.train.AdamOptimizer().minimize(cost)\n",
    "\n",
    "# Accuracy\n",
    "correct_pred = tf.equal(tf.argmax(logits, 1), tf.argmax(y, 1))\n",
    "accuracy = tf.reduce_mean(tf.cast(correct_pred, tf.float32), name='accuracy')\n",
    "\n",
    "tests.test_conv_net(conv_net)"
   ]
  },
  {
   "cell_type": "markdown",
   "metadata": {},
   "source": [
    "## Train the Neural Network\n",
    "### Single Optimization\n",
    "Implement the function `train_neural_network` to do a single optimization.  The optimization should use `optimizer` to optimize in `session` with a `feed_dict` of the following:\n",
    "* `x` for image input\n",
    "* `y` for labels\n",
    "* `keep_prob` for keep probability for dropout\n",
    "\n",
    "This function will be called for each batch, so `tf.global_variables_initializer()` has already been called.\n",
    "\n",
    "Note: Nothing needs to be returned. This function is only optimizing the neural network."
   ]
  },
  {
   "cell_type": "code",
   "execution_count": 13,
   "metadata": {},
   "outputs": [
    {
     "name": "stdout",
     "output_type": "stream",
     "text": [
      "Tests Passed\n"
     ]
    }
   ],
   "source": [
    "def train_neural_network(session, optimizer, keep_probability, feature_batch, label_batch):\n",
    "    \"\"\"\n",
    "    Optimize the session on a batch of images and labels\n",
    "    : session: Current TensorFlow session\n",
    "    : optimizer: TensorFlow optimizer function\n",
    "    : keep_probability: keep probability\n",
    "    : feature_batch: Batch of Numpy image data\n",
    "    : label_batch: Batch of Numpy label data\n",
    "    \"\"\"\n",
    "    # TODO: Implement Function\n",
    "    session.run(optimizer, \\\n",
    "                feed_dict = {x: feature_batch, y: label_batch, keep_prob: keep_probability})\n",
    "\n",
    "\n",
    "\"\"\"\n",
    "DON'T MODIFY ANYTHING IN THIS CELL THAT IS BELOW THIS LINE\n",
    "\"\"\"\n",
    "tests.test_train_nn(train_neural_network)"
   ]
  },
  {
   "cell_type": "markdown",
   "metadata": {},
   "source": [
    "### Show Stats\n",
    "Implement the function `print_stats` to print loss and validation accuracy.  Use the global variables `valid_features` and `valid_labels` to calculate validation accuracy.  Use a keep probability of `1.0` to calculate the loss and validation accuracy."
   ]
  },
  {
   "cell_type": "code",
   "execution_count": 14,
   "metadata": {
    "collapsed": true
   },
   "outputs": [],
   "source": [
    "def print_stats(session, feature_batch, label_batch, cost, accuracy):\n",
    "    \"\"\"\n",
    "    Print information about loss and validation accuracy\n",
    "    : session: Current TensorFlow session\n",
    "    : feature_batch: Batch of Numpy image data\n",
    "    : label_batch: Batch of Numpy label data\n",
    "    : cost: TensorFlow cost function\n",
    "    : accuracy: TensorFlow accuracy function\n",
    "    \"\"\"\n",
    "    # TODO: Implement Function\n",
    "    validation_accuracy = session.run(accuracy, \\\n",
    "                                      feed_dict = {x: valid_features, \\\n",
    "                                                   y: valid_labels, \\\n",
    "                                                   keep_prob: 1.0})\n",
    "    loss = session.run(cost, \\\n",
    "                       feed_dict = {x: feature_batch, \\\n",
    "                                    y: label_batch, \\\n",
    "                                    keep_prob: 1.0})\n",
    "    \n",
    "    print(\"Validation Accuracy: {}, Loss: {}\".format(validation_accuracy, loss))"
   ]
  },
  {
   "cell_type": "markdown",
   "metadata": {},
   "source": [
    "### Hyperparameters\n",
    "Tune the following parameters:\n",
    "* Set `epochs` to the number of iterations until the network stops learning or start overfitting\n",
    "* Set `batch_size` to the highest number that your machine has memory for.  Most people set them to common sizes of memory:\n",
    " * 64\n",
    " * 128\n",
    " * 256\n",
    " * ...\n",
    "* Set `keep_probability` to the probability of keeping a node using dropout"
   ]
  },
  {
   "cell_type": "code",
   "execution_count": 21,
   "metadata": {
    "collapsed": true
   },
   "outputs": [],
   "source": [
    "# TODO: Tune Parameters\n",
    "epochs = 40\n",
    "batch_size = 128\n",
    "keep_probability = 0.5"
   ]
  },
  {
   "cell_type": "markdown",
   "metadata": {},
   "source": [
    "### Train on a Single CIFAR-10 Batch\n",
    "Instead of training the neural network on all the CIFAR-10 batches of data, let's use a single batch. This should save time while you iterate on the model to get a better accuracy.  Once the final validation accuracy is 50% or greater, run the model on all the data in the next section."
   ]
  },
  {
   "cell_type": "code",
   "execution_count": 22,
   "metadata": {},
   "outputs": [
    {
     "name": "stdout",
     "output_type": "stream",
     "text": [
      "Checking the Training on a Single Batch...\n",
      "Epoch  1, CIFAR-10 Batch 1:  Validation Accuracy: 0.0997999981045723, Loss: 2.302337646484375\n",
      "Epoch  2, CIFAR-10 Batch 1:  Validation Accuracy: 0.10499999672174454, Loss: 2.302562952041626\n",
      "Epoch  3, CIFAR-10 Batch 1:  Validation Accuracy: 0.10499999672174454, Loss: 2.3027455806732178\n",
      "Epoch  4, CIFAR-10 Batch 1:  Validation Accuracy: 0.10499999672174454, Loss: 2.302813768386841\n",
      "Epoch  5, CIFAR-10 Batch 1:  Validation Accuracy: 0.14560000598430634, Loss: 2.2461206912994385\n",
      "Epoch  6, CIFAR-10 Batch 1:  Validation Accuracy: 0.18940000236034393, Loss: 2.1881515979766846\n",
      "Epoch  7, CIFAR-10 Batch 1:  Validation Accuracy: 0.18320000171661377, Loss: 2.1650938987731934\n",
      "Epoch  8, CIFAR-10 Batch 1:  Validation Accuracy: 0.1809999942779541, Loss: 2.1576294898986816\n",
      "Epoch  9, CIFAR-10 Batch 1:  Validation Accuracy: 0.17339999973773956, Loss: 2.1525325775146484\n",
      "Epoch 10, CIFAR-10 Batch 1:  Validation Accuracy: 0.16779999434947968, Loss: 2.146432638168335\n",
      "Epoch 11, CIFAR-10 Batch 1:  Validation Accuracy: 0.1850000023841858, Loss: 2.135958194732666\n",
      "Epoch 12, CIFAR-10 Batch 1:  Validation Accuracy: 0.22419999539852142, Loss: 2.051058769226074\n",
      "Epoch 13, CIFAR-10 Batch 1:  Validation Accuracy: 0.25459998846054077, Loss: 1.9957412481307983\n",
      "Epoch 14, CIFAR-10 Batch 1:  Validation Accuracy: 0.272599995136261, Loss: 1.945412039756775\n",
      "Epoch 15, CIFAR-10 Batch 1:  Validation Accuracy: 0.2978000044822693, Loss: 1.8816287517547607\n",
      "Epoch 16, CIFAR-10 Batch 1:  Validation Accuracy: 0.33160001039505005, Loss: 1.8608379364013672\n",
      "Epoch 17, CIFAR-10 Batch 1:  Validation Accuracy: 0.36959999799728394, Loss: 1.8164336681365967\n",
      "Epoch 18, CIFAR-10 Batch 1:  Validation Accuracy: 0.38280001282691956, Loss: 1.7450202703475952\n",
      "Epoch 19, CIFAR-10 Batch 1:  Validation Accuracy: 0.3864000141620636, Loss: 1.7057602405548096\n",
      "Epoch 20, CIFAR-10 Batch 1:  Validation Accuracy: 0.40220001339912415, Loss: 1.6293981075286865\n",
      "Epoch 21, CIFAR-10 Batch 1:  Validation Accuracy: 0.41440001130104065, Loss: 1.6058349609375\n",
      "Epoch 22, CIFAR-10 Batch 1:  Validation Accuracy: 0.4246000051498413, Loss: 1.458969235420227\n",
      "Epoch 23, CIFAR-10 Batch 1:  Validation Accuracy: 0.4449999928474426, Loss: 1.4275789260864258\n",
      "Epoch 24, CIFAR-10 Batch 1:  Validation Accuracy: 0.4643999934196472, Loss: 1.3423062562942505\n",
      "Epoch 25, CIFAR-10 Batch 1:  Validation Accuracy: 0.47600001096725464, Loss: 1.2862749099731445\n",
      "Epoch 26, CIFAR-10 Batch 1:  Validation Accuracy: 0.4790000021457672, Loss: 1.234800934791565\n",
      "Epoch 27, CIFAR-10 Batch 1:  Validation Accuracy: 0.4869999885559082, Loss: 1.2378431558609009\n",
      "Epoch 28, CIFAR-10 Batch 1:  Validation Accuracy: 0.503000020980835, Loss: 1.185430884361267\n",
      "Epoch 29, CIFAR-10 Batch 1:  Validation Accuracy: 0.5157999992370605, Loss: 1.1170868873596191\n",
      "Epoch 30, CIFAR-10 Batch 1:  Validation Accuracy: 0.5157999992370605, Loss: 1.1140855550765991\n",
      "Epoch 31, CIFAR-10 Batch 1:  Validation Accuracy: 0.5212000012397766, Loss: 1.1136367321014404\n",
      "Epoch 32, CIFAR-10 Batch 1:  Validation Accuracy: 0.5221999883651733, Loss: 1.0675466060638428\n",
      "Epoch 33, CIFAR-10 Batch 1:  Validation Accuracy: 0.5260000228881836, Loss: 1.067031979560852\n",
      "Epoch 34, CIFAR-10 Batch 1:  Validation Accuracy: 0.5293999910354614, Loss: 1.051365852355957\n",
      "Epoch 35, CIFAR-10 Batch 1:  Validation Accuracy: 0.5546000003814697, Loss: 0.959658145904541\n",
      "Epoch 36, CIFAR-10 Batch 1:  Validation Accuracy: 0.5436000227928162, Loss: 0.964241623878479\n",
      "Epoch 37, CIFAR-10 Batch 1:  Validation Accuracy: 0.5598000288009644, Loss: 0.936297595500946\n",
      "Epoch 38, CIFAR-10 Batch 1:  Validation Accuracy: 0.5605999827384949, Loss: 0.9280904531478882\n",
      "Epoch 39, CIFAR-10 Batch 1:  Validation Accuracy: 0.567799985408783, Loss: 0.8704927563667297\n",
      "Epoch 40, CIFAR-10 Batch 1:  Validation Accuracy: 0.5576000213623047, Loss: 0.8933628797531128\n"
     ]
    }
   ],
   "source": [
    "\"\"\"\n",
    "DON'T MODIFY ANYTHING IN THIS CELL\n",
    "\"\"\"\n",
    "print('Checking the Training on a Single Batch...')\n",
    "with tf.Session() as sess:\n",
    "    # Initializing the variables\n",
    "    sess.run(tf.global_variables_initializer())\n",
    "    \n",
    "    # Training cycle\n",
    "    for epoch in range(epochs):\n",
    "        batch_i = 1\n",
    "        for batch_features, batch_labels in helper.load_preprocess_training_batch(batch_i, batch_size):\n",
    "            train_neural_network(sess, optimizer, keep_probability, batch_features, batch_labels)\n",
    "        print('Epoch {:>2}, CIFAR-10 Batch {}:  '.format(epoch + 1, batch_i), end='')\n",
    "        print_stats(sess, batch_features, batch_labels, cost, accuracy)"
   ]
  },
  {
   "cell_type": "markdown",
   "metadata": {},
   "source": [
    "### Fully Train the Model\n",
    "Now that you got a good accuracy with a single CIFAR-10 batch, try it with all five batches."
   ]
  },
  {
   "cell_type": "code",
   "execution_count": 23,
   "metadata": {
    "scrolled": false
   },
   "outputs": [
    {
     "name": "stdout",
     "output_type": "stream",
     "text": [
      "Training...\n",
      "Epoch  1, CIFAR-10 Batch 1:  Validation Accuracy: 0.09700000286102295, Loss: 2.3031623363494873\n",
      "Epoch  1, CIFAR-10 Batch 2:  Validation Accuracy: 0.0997999981045723, Loss: 2.3038291931152344\n",
      "Epoch  1, CIFAR-10 Batch 3:  Validation Accuracy: 0.0997999981045723, Loss: 2.3023061752319336\n",
      "Epoch  1, CIFAR-10 Batch 4:  Validation Accuracy: 0.09700000286102295, Loss: 2.3018736839294434\n",
      "Epoch  1, CIFAR-10 Batch 5:  Validation Accuracy: 0.094200000166893, Loss: 2.3024277687072754\n",
      "Epoch  2, CIFAR-10 Batch 1:  Validation Accuracy: 0.17180000245571136, Loss: 2.2323455810546875\n",
      "Epoch  2, CIFAR-10 Batch 2:  Validation Accuracy: 0.1891999989748001, Loss: 2.142057418823242\n",
      "Epoch  2, CIFAR-10 Batch 3:  Validation Accuracy: 0.24719999730587006, Loss: 1.8300540447235107\n",
      "Epoch  2, CIFAR-10 Batch 4:  Validation Accuracy: 0.27880001068115234, Loss: 1.8613288402557373\n",
      "Epoch  2, CIFAR-10 Batch 5:  Validation Accuracy: 0.3499999940395355, Loss: 1.705021619796753\n",
      "Epoch  3, CIFAR-10 Batch 1:  Validation Accuracy: 0.3885999917984009, Loss: 1.8948500156402588\n",
      "Epoch  3, CIFAR-10 Batch 2:  Validation Accuracy: 0.3986000120639801, Loss: 1.722082495689392\n",
      "Epoch  3, CIFAR-10 Batch 3:  Validation Accuracy: 0.4174000024795532, Loss: 1.438934087753296\n",
      "Epoch  3, CIFAR-10 Batch 4:  Validation Accuracy: 0.44620001316070557, Loss: 1.570152759552002\n",
      "Epoch  3, CIFAR-10 Batch 5:  Validation Accuracy: 0.46799999475479126, Loss: 1.4920419454574585\n",
      "Epoch  4, CIFAR-10 Batch 1:  Validation Accuracy: 0.4717999994754791, Loss: 1.580148458480835\n",
      "Epoch  4, CIFAR-10 Batch 2:  Validation Accuracy: 0.4790000021457672, Loss: 1.5401499271392822\n",
      "Epoch  4, CIFAR-10 Batch 3:  Validation Accuracy: 0.48240000009536743, Loss: 1.350817322731018\n",
      "Epoch  4, CIFAR-10 Batch 4:  Validation Accuracy: 0.5019999742507935, Loss: 1.4918591976165771\n",
      "Epoch  4, CIFAR-10 Batch 5:  Validation Accuracy: 0.5139999985694885, Loss: 1.384926199913025\n",
      "Epoch  5, CIFAR-10 Batch 1:  Validation Accuracy: 0.5081999897956848, Loss: 1.4776145219802856\n",
      "Epoch  5, CIFAR-10 Batch 2:  Validation Accuracy: 0.5382000207901001, Loss: 1.4368393421173096\n",
      "Epoch  5, CIFAR-10 Batch 3:  Validation Accuracy: 0.5375999808311462, Loss: 1.2283446788787842\n",
      "Epoch  5, CIFAR-10 Batch 4:  Validation Accuracy: 0.5519999861717224, Loss: 1.3560140132904053\n",
      "Epoch  5, CIFAR-10 Batch 5:  Validation Accuracy: 0.5594000220298767, Loss: 1.3295530080795288\n",
      "Epoch  6, CIFAR-10 Batch 1:  Validation Accuracy: 0.5582000017166138, Loss: 1.3017494678497314\n",
      "Epoch  6, CIFAR-10 Batch 2:  Validation Accuracy: 0.5645999908447266, Loss: 1.34947669506073\n",
      "Epoch  6, CIFAR-10 Batch 3:  Validation Accuracy: 0.5698000192642212, Loss: 1.1257137060165405\n",
      "Epoch  6, CIFAR-10 Batch 4:  Validation Accuracy: 0.5776000022888184, Loss: 1.2657817602157593\n",
      "Epoch  6, CIFAR-10 Batch 5:  Validation Accuracy: 0.5965999960899353, Loss: 1.2268540859222412\n",
      "Epoch  7, CIFAR-10 Batch 1:  Validation Accuracy: 0.5950000286102295, Loss: 1.1890838146209717\n",
      "Epoch  7, CIFAR-10 Batch 2:  Validation Accuracy: 0.5947999954223633, Loss: 1.2471615076065063\n",
      "Epoch  7, CIFAR-10 Batch 3:  Validation Accuracy: 0.5885999798774719, Loss: 1.0224101543426514\n",
      "Epoch  7, CIFAR-10 Batch 4:  Validation Accuracy: 0.6137999892234802, Loss: 1.1571693420410156\n",
      "Epoch  7, CIFAR-10 Batch 5:  Validation Accuracy: 0.6159999966621399, Loss: 1.1781963109970093\n",
      "Epoch  8, CIFAR-10 Batch 1:  Validation Accuracy: 0.6295999884605408, Loss: 1.0742610692977905\n",
      "Epoch  8, CIFAR-10 Batch 2:  Validation Accuracy: 0.6353999972343445, Loss: 1.114719033241272\n",
      "Epoch  8, CIFAR-10 Batch 3:  Validation Accuracy: 0.6344000101089478, Loss: 0.9098628163337708\n",
      "Epoch  8, CIFAR-10 Batch 4:  Validation Accuracy: 0.628000020980835, Loss: 1.121565580368042\n",
      "Epoch  8, CIFAR-10 Batch 5:  Validation Accuracy: 0.6394000053405762, Loss: 1.0486596822738647\n",
      "Epoch  9, CIFAR-10 Batch 1:  Validation Accuracy: 0.6534000039100647, Loss: 1.0311428308486938\n",
      "Epoch  9, CIFAR-10 Batch 2:  Validation Accuracy: 0.6399999856948853, Loss: 1.0604934692382812\n",
      "Epoch  9, CIFAR-10 Batch 3:  Validation Accuracy: 0.6421999931335449, Loss: 0.8687459230422974\n",
      "Epoch  9, CIFAR-10 Batch 4:  Validation Accuracy: 0.6625999808311462, Loss: 1.0236701965332031\n",
      "Epoch  9, CIFAR-10 Batch 5:  Validation Accuracy: 0.6669999957084656, Loss: 0.971854031085968\n",
      "Epoch 10, CIFAR-10 Batch 1:  Validation Accuracy: 0.6696000099182129, Loss: 0.9923704266548157\n",
      "Epoch 10, CIFAR-10 Batch 2:  Validation Accuracy: 0.6516000032424927, Loss: 1.0177857875823975\n",
      "Epoch 10, CIFAR-10 Batch 3:  Validation Accuracy: 0.6571999788284302, Loss: 0.7892186641693115\n",
      "Epoch 10, CIFAR-10 Batch 4:  Validation Accuracy: 0.6553999781608582, Loss: 0.9617408514022827\n",
      "Epoch 10, CIFAR-10 Batch 5:  Validation Accuracy: 0.676800012588501, Loss: 0.8901505470275879\n",
      "Epoch 11, CIFAR-10 Batch 1:  Validation Accuracy: 0.6850000023841858, Loss: 0.945238471031189\n",
      "Epoch 11, CIFAR-10 Batch 2:  Validation Accuracy: 0.6692000031471252, Loss: 0.9810001254081726\n",
      "Epoch 11, CIFAR-10 Batch 3:  Validation Accuracy: 0.6794000267982483, Loss: 0.7241035103797913\n",
      "Epoch 11, CIFAR-10 Batch 4:  Validation Accuracy: 0.6855999827384949, Loss: 0.9393722414970398\n",
      "Epoch 11, CIFAR-10 Batch 5:  Validation Accuracy: 0.6761999726295471, Loss: 0.9147800207138062\n",
      "Epoch 12, CIFAR-10 Batch 1:  Validation Accuracy: 0.698199987411499, Loss: 0.8329404592514038\n",
      "Epoch 12, CIFAR-10 Batch 2:  Validation Accuracy: 0.6809999942779541, Loss: 0.8586454391479492\n",
      "Epoch 12, CIFAR-10 Batch 3:  Validation Accuracy: 0.6895999908447266, Loss: 0.6942624449729919\n",
      "Epoch 12, CIFAR-10 Batch 4:  Validation Accuracy: 0.6845999956130981, Loss: 0.8787614107131958\n",
      "Epoch 12, CIFAR-10 Batch 5:  Validation Accuracy: 0.6826000213623047, Loss: 0.8973506689071655\n",
      "Epoch 13, CIFAR-10 Batch 1:  Validation Accuracy: 0.6930000185966492, Loss: 0.8943610191345215\n",
      "Epoch 13, CIFAR-10 Batch 2:  Validation Accuracy: 0.6782000064849854, Loss: 0.8600843548774719\n",
      "Epoch 13, CIFAR-10 Batch 3:  Validation Accuracy: 0.6872000098228455, Loss: 0.6931325197219849\n",
      "Epoch 13, CIFAR-10 Batch 4:  Validation Accuracy: 0.6848000288009644, Loss: 0.8765602111816406\n",
      "Epoch 13, CIFAR-10 Batch 5:  Validation Accuracy: 0.6967999935150146, Loss: 0.8027690649032593\n",
      "Epoch 14, CIFAR-10 Batch 1:  Validation Accuracy: 0.7092000246047974, Loss: 0.7994464635848999\n",
      "Epoch 14, CIFAR-10 Batch 2:  Validation Accuracy: 0.6919999718666077, Loss: 0.8013092279434204\n",
      "Epoch 14, CIFAR-10 Batch 3:  Validation Accuracy: 0.6977999806404114, Loss: 0.5984433889389038\n",
      "Epoch 14, CIFAR-10 Batch 4:  Validation Accuracy: 0.7053999900817871, Loss: 0.7687636613845825\n",
      "Epoch 14, CIFAR-10 Batch 5:  Validation Accuracy: 0.7013999819755554, Loss: 0.734404444694519\n",
      "Epoch 15, CIFAR-10 Batch 1:  Validation Accuracy: 0.7184000015258789, Loss: 0.7430408000946045\n",
      "Epoch 15, CIFAR-10 Batch 2:  Validation Accuracy: 0.6970000267028809, Loss: 0.8209512829780579\n",
      "Epoch 15, CIFAR-10 Batch 3:  Validation Accuracy: 0.7120000123977661, Loss: 0.5975877046585083\n",
      "Epoch 15, CIFAR-10 Batch 4:  Validation Accuracy: 0.6868000030517578, Loss: 0.8862724304199219\n",
      "Epoch 15, CIFAR-10 Batch 5:  Validation Accuracy: 0.7102000117301941, Loss: 0.7182339429855347\n",
      "Epoch 16, CIFAR-10 Batch 1:  Validation Accuracy: 0.7149999737739563, Loss: 0.7302590012550354\n",
      "Epoch 16, CIFAR-10 Batch 2:  Validation Accuracy: 0.692799985408783, Loss: 0.7641757726669312\n",
      "Epoch 16, CIFAR-10 Batch 3:  Validation Accuracy: 0.717199981212616, Loss: 0.5536286234855652\n",
      "Epoch 16, CIFAR-10 Batch 4:  Validation Accuracy: 0.699400007724762, Loss: 0.8095558285713196\n",
      "Epoch 16, CIFAR-10 Batch 5:  Validation Accuracy: 0.7071999907493591, Loss: 0.7427782416343689\n",
      "Epoch 17, CIFAR-10 Batch 1:  Validation Accuracy: 0.7210000157356262, Loss: 0.7080920934677124\n",
      "Epoch 17, CIFAR-10 Batch 2:  Validation Accuracy: 0.6966000199317932, Loss: 0.7970284223556519\n",
      "Epoch 17, CIFAR-10 Batch 3:  Validation Accuracy: 0.7156000137329102, Loss: 0.5095286965370178\n",
      "Epoch 17, CIFAR-10 Batch 4:  Validation Accuracy: 0.7062000036239624, Loss: 0.7344179153442383\n",
      "Epoch 17, CIFAR-10 Batch 5:  Validation Accuracy: 0.7175999879837036, Loss: 0.6121547818183899\n",
      "Epoch 18, CIFAR-10 Batch 1:  Validation Accuracy: 0.7251999974250793, Loss: 0.6545306444168091\n"
     ]
    },
    {
     "name": "stdout",
     "output_type": "stream",
     "text": [
      "Epoch 18, CIFAR-10 Batch 2:  Validation Accuracy: 0.7003999948501587, Loss: 0.7150827646255493\n",
      "Epoch 18, CIFAR-10 Batch 3:  Validation Accuracy: 0.7232000231742859, Loss: 0.49789053201675415\n",
      "Epoch 18, CIFAR-10 Batch 4:  Validation Accuracy: 0.7146000266075134, Loss: 0.7438488602638245\n",
      "Epoch 18, CIFAR-10 Batch 5:  Validation Accuracy: 0.7261999845504761, Loss: 0.5807533860206604\n",
      "Epoch 19, CIFAR-10 Batch 1:  Validation Accuracy: 0.7197999954223633, Loss: 0.6152006983757019\n",
      "Epoch 19, CIFAR-10 Batch 2:  Validation Accuracy: 0.7053999900817871, Loss: 0.7097276449203491\n",
      "Epoch 19, CIFAR-10 Batch 3:  Validation Accuracy: 0.7138000130653381, Loss: 0.45913752913475037\n",
      "Epoch 19, CIFAR-10 Batch 4:  Validation Accuracy: 0.7196000218391418, Loss: 0.7238785624504089\n",
      "Epoch 19, CIFAR-10 Batch 5:  Validation Accuracy: 0.7278000116348267, Loss: 0.6139634847640991\n",
      "Epoch 20, CIFAR-10 Batch 1:  Validation Accuracy: 0.7343999743461609, Loss: 0.6300320029258728\n",
      "Epoch 20, CIFAR-10 Batch 2:  Validation Accuracy: 0.70660001039505, Loss: 0.6821403503417969\n",
      "Epoch 20, CIFAR-10 Batch 3:  Validation Accuracy: 0.7278000116348267, Loss: 0.4599023759365082\n",
      "Epoch 20, CIFAR-10 Batch 4:  Validation Accuracy: 0.7264000177383423, Loss: 0.6903114318847656\n",
      "Epoch 20, CIFAR-10 Batch 5:  Validation Accuracy: 0.7297999858856201, Loss: 0.6073898673057556\n",
      "Epoch 21, CIFAR-10 Batch 1:  Validation Accuracy: 0.739799976348877, Loss: 0.6249642372131348\n",
      "Epoch 21, CIFAR-10 Batch 2:  Validation Accuracy: 0.7002000212669373, Loss: 0.668533980846405\n",
      "Epoch 21, CIFAR-10 Batch 3:  Validation Accuracy: 0.7301999926567078, Loss: 0.46065178513526917\n",
      "Epoch 21, CIFAR-10 Batch 4:  Validation Accuracy: 0.7251999974250793, Loss: 0.6972246766090393\n",
      "Epoch 21, CIFAR-10 Batch 5:  Validation Accuracy: 0.7351999878883362, Loss: 0.5531728863716125\n",
      "Epoch 22, CIFAR-10 Batch 1:  Validation Accuracy: 0.7422000169754028, Loss: 0.5888315439224243\n",
      "Epoch 22, CIFAR-10 Batch 2:  Validation Accuracy: 0.7138000130653381, Loss: 0.6249691247940063\n",
      "Epoch 22, CIFAR-10 Batch 3:  Validation Accuracy: 0.7376000285148621, Loss: 0.3987298607826233\n",
      "Epoch 22, CIFAR-10 Batch 4:  Validation Accuracy: 0.7027999758720398, Loss: 0.7977679371833801\n",
      "Epoch 22, CIFAR-10 Batch 5:  Validation Accuracy: 0.7383999824523926, Loss: 0.5296493768692017\n",
      "Epoch 23, CIFAR-10 Batch 1:  Validation Accuracy: 0.7365999817848206, Loss: 0.6187270283699036\n",
      "Epoch 23, CIFAR-10 Batch 2:  Validation Accuracy: 0.7135999798774719, Loss: 0.6403620839118958\n",
      "Epoch 23, CIFAR-10 Batch 3:  Validation Accuracy: 0.7394000291824341, Loss: 0.38369154930114746\n",
      "Epoch 23, CIFAR-10 Batch 4:  Validation Accuracy: 0.7202000021934509, Loss: 0.6787265539169312\n",
      "Epoch 23, CIFAR-10 Batch 5:  Validation Accuracy: 0.7310000061988831, Loss: 0.5300086736679077\n",
      "Epoch 24, CIFAR-10 Batch 1:  Validation Accuracy: 0.7329999804496765, Loss: 0.5691484212875366\n",
      "Epoch 24, CIFAR-10 Batch 2:  Validation Accuracy: 0.7289999723434448, Loss: 0.5484548807144165\n",
      "Epoch 24, CIFAR-10 Batch 3:  Validation Accuracy: 0.7400000095367432, Loss: 0.39316290616989136\n",
      "Epoch 24, CIFAR-10 Batch 4:  Validation Accuracy: 0.7307999730110168, Loss: 0.6283095479011536\n",
      "Epoch 24, CIFAR-10 Batch 5:  Validation Accuracy: 0.7324000000953674, Loss: 0.5525206327438354\n",
      "Epoch 25, CIFAR-10 Batch 1:  Validation Accuracy: 0.7324000000953674, Loss: 0.6122992634773254\n",
      "Epoch 25, CIFAR-10 Batch 2:  Validation Accuracy: 0.7210000157356262, Loss: 0.6369376182556152\n",
      "Epoch 25, CIFAR-10 Batch 3:  Validation Accuracy: 0.7396000027656555, Loss: 0.4039139747619629\n",
      "Epoch 25, CIFAR-10 Batch 4:  Validation Accuracy: 0.7242000102996826, Loss: 0.6561066508293152\n",
      "Epoch 25, CIFAR-10 Batch 5:  Validation Accuracy: 0.7440000176429749, Loss: 0.5005909204483032\n",
      "Epoch 26, CIFAR-10 Batch 1:  Validation Accuracy: 0.7401999831199646, Loss: 0.5509496331214905\n",
      "Epoch 26, CIFAR-10 Batch 2:  Validation Accuracy: 0.7053999900817871, Loss: 0.6146101951599121\n",
      "Epoch 26, CIFAR-10 Batch 3:  Validation Accuracy: 0.7418000102043152, Loss: 0.37321656942367554\n",
      "Epoch 26, CIFAR-10 Batch 4:  Validation Accuracy: 0.7346000075340271, Loss: 0.6032864451408386\n",
      "Epoch 26, CIFAR-10 Batch 5:  Validation Accuracy: 0.7394000291824341, Loss: 0.5083715319633484\n",
      "Epoch 27, CIFAR-10 Batch 1:  Validation Accuracy: 0.7378000020980835, Loss: 0.55401211977005\n",
      "Epoch 27, CIFAR-10 Batch 2:  Validation Accuracy: 0.7157999873161316, Loss: 0.5422518253326416\n",
      "Epoch 27, CIFAR-10 Batch 3:  Validation Accuracy: 0.7409999966621399, Loss: 0.3595317304134369\n",
      "Epoch 27, CIFAR-10 Batch 4:  Validation Accuracy: 0.7301999926567078, Loss: 0.5891836285591125\n",
      "Epoch 27, CIFAR-10 Batch 5:  Validation Accuracy: 0.7401999831199646, Loss: 0.469445139169693\n",
      "Epoch 28, CIFAR-10 Batch 1:  Validation Accuracy: 0.7437999844551086, Loss: 0.5774102210998535\n",
      "Epoch 28, CIFAR-10 Batch 2:  Validation Accuracy: 0.7336000204086304, Loss: 0.5889273881912231\n",
      "Epoch 28, CIFAR-10 Batch 3:  Validation Accuracy: 0.7429999709129333, Loss: 0.36452293395996094\n",
      "Epoch 28, CIFAR-10 Batch 4:  Validation Accuracy: 0.7035999894142151, Loss: 0.665800154209137\n",
      "Epoch 28, CIFAR-10 Batch 5:  Validation Accuracy: 0.7468000054359436, Loss: 0.45656251907348633\n",
      "Epoch 29, CIFAR-10 Batch 1:  Validation Accuracy: 0.7422000169754028, Loss: 0.5300992727279663\n",
      "Epoch 29, CIFAR-10 Batch 2:  Validation Accuracy: 0.7333999872207642, Loss: 0.5053504705429077\n",
      "Epoch 29, CIFAR-10 Batch 3:  Validation Accuracy: 0.7347999811172485, Loss: 0.3750630021095276\n",
      "Epoch 29, CIFAR-10 Batch 4:  Validation Accuracy: 0.7253999710083008, Loss: 0.5913275480270386\n",
      "Epoch 29, CIFAR-10 Batch 5:  Validation Accuracy: 0.7422000169754028, Loss: 0.42698851227760315\n",
      "Epoch 30, CIFAR-10 Batch 1:  Validation Accuracy: 0.7376000285148621, Loss: 0.5909948945045471\n",
      "Epoch 30, CIFAR-10 Batch 2:  Validation Accuracy: 0.7250000238418579, Loss: 0.5491074919700623\n",
      "Epoch 30, CIFAR-10 Batch 3:  Validation Accuracy: 0.7429999709129333, Loss: 0.3362569212913513\n",
      "Epoch 30, CIFAR-10 Batch 4:  Validation Accuracy: 0.7408000230789185, Loss: 0.5232275128364563\n",
      "Epoch 30, CIFAR-10 Batch 5:  Validation Accuracy: 0.7473999857902527, Loss: 0.4305465817451477\n",
      "Epoch 31, CIFAR-10 Batch 1:  Validation Accuracy: 0.7450000047683716, Loss: 0.49773234128952026\n",
      "Epoch 31, CIFAR-10 Batch 2:  Validation Accuracy: 0.7251999974250793, Loss: 0.5013961791992188\n",
      "Epoch 31, CIFAR-10 Batch 3:  Validation Accuracy: 0.7519999742507935, Loss: 0.34571704268455505\n",
      "Epoch 31, CIFAR-10 Batch 4:  Validation Accuracy: 0.7253999710083008, Loss: 0.5607736110687256\n",
      "Epoch 31, CIFAR-10 Batch 5:  Validation Accuracy: 0.751800000667572, Loss: 0.41756075620651245\n",
      "Epoch 32, CIFAR-10 Batch 1:  Validation Accuracy: 0.7545999884605408, Loss: 0.49159693717956543\n",
      "Epoch 32, CIFAR-10 Batch 2:  Validation Accuracy: 0.7307999730110168, Loss: 0.5679861307144165\n",
      "Epoch 32, CIFAR-10 Batch 3:  Validation Accuracy: 0.7422000169754028, Loss: 0.3387461006641388\n",
      "Epoch 32, CIFAR-10 Batch 4:  Validation Accuracy: 0.7268000245094299, Loss: 0.5617976188659668\n",
      "Epoch 32, CIFAR-10 Batch 5:  Validation Accuracy: 0.7436000108718872, Loss: 0.40223416686058044\n",
      "Epoch 33, CIFAR-10 Batch 1:  Validation Accuracy: 0.7504000067710876, Loss: 0.491752952337265\n",
      "Epoch 33, CIFAR-10 Batch 2:  Validation Accuracy: 0.7193999886512756, Loss: 0.543520450592041\n",
      "Epoch 33, CIFAR-10 Batch 3:  Validation Accuracy: 0.7559999823570251, Loss: 0.31440576910972595\n",
      "Epoch 33, CIFAR-10 Batch 4:  Validation Accuracy: 0.7365999817848206, Loss: 0.5270586609840393\n",
      "Epoch 33, CIFAR-10 Batch 5:  Validation Accuracy: 0.7447999715805054, Loss: 0.43998679518699646\n",
      "Epoch 34, CIFAR-10 Batch 1:  Validation Accuracy: 0.7508000135421753, Loss: 0.5023090243339539\n",
      "Epoch 34, CIFAR-10 Batch 2:  Validation Accuracy: 0.7268000245094299, Loss: 0.5527496933937073\n",
      "Epoch 34, CIFAR-10 Batch 3:  Validation Accuracy: 0.7495999932289124, Loss: 0.2797005772590637\n",
      "Epoch 34, CIFAR-10 Batch 4:  Validation Accuracy: 0.7289999723434448, Loss: 0.51567542552948\n",
      "Epoch 34, CIFAR-10 Batch 5:  Validation Accuracy: 0.7458000183105469, Loss: 0.3961493968963623\n",
      "Epoch 35, CIFAR-10 Batch 1:  Validation Accuracy: 0.7476000189781189, Loss: 0.4499787390232086\n",
      "Epoch 35, CIFAR-10 Batch 2:  Validation Accuracy: 0.7336000204086304, Loss: 0.46063724160194397\n"
     ]
    },
    {
     "name": "stdout",
     "output_type": "stream",
     "text": [
      "Epoch 35, CIFAR-10 Batch 3:  Validation Accuracy: 0.7531999945640564, Loss: 0.3060848116874695\n",
      "Epoch 35, CIFAR-10 Batch 4:  Validation Accuracy: 0.7300000190734863, Loss: 0.5399853587150574\n",
      "Epoch 35, CIFAR-10 Batch 5:  Validation Accuracy: 0.7480000257492065, Loss: 0.4227120876312256\n",
      "Epoch 36, CIFAR-10 Batch 1:  Validation Accuracy: 0.7437999844551086, Loss: 0.4714537262916565\n",
      "Epoch 36, CIFAR-10 Batch 2:  Validation Accuracy: 0.7361999750137329, Loss: 0.43181800842285156\n",
      "Epoch 36, CIFAR-10 Batch 3:  Validation Accuracy: 0.7491999864578247, Loss: 0.3215203285217285\n",
      "Epoch 36, CIFAR-10 Batch 4:  Validation Accuracy: 0.7289999723434448, Loss: 0.5442779064178467\n",
      "Epoch 36, CIFAR-10 Batch 5:  Validation Accuracy: 0.7472000122070312, Loss: 0.39372771978378296\n",
      "Epoch 37, CIFAR-10 Batch 1:  Validation Accuracy: 0.7491999864578247, Loss: 0.4648149609565735\n",
      "Epoch 37, CIFAR-10 Batch 2:  Validation Accuracy: 0.7333999872207642, Loss: 0.475867360830307\n",
      "Epoch 37, CIFAR-10 Batch 3:  Validation Accuracy: 0.7541999816894531, Loss: 0.29030609130859375\n",
      "Epoch 37, CIFAR-10 Batch 4:  Validation Accuracy: 0.7287999987602234, Loss: 0.5300392508506775\n",
      "Epoch 37, CIFAR-10 Batch 5:  Validation Accuracy: 0.7523999810218811, Loss: 0.370669424533844\n",
      "Epoch 38, CIFAR-10 Batch 1:  Validation Accuracy: 0.7476000189781189, Loss: 0.44366416335105896\n",
      "Epoch 38, CIFAR-10 Batch 2:  Validation Accuracy: 0.7382000088691711, Loss: 0.4603806436061859\n",
      "Epoch 38, CIFAR-10 Batch 3:  Validation Accuracy: 0.7458000183105469, Loss: 0.31941133737564087\n",
      "Epoch 38, CIFAR-10 Batch 4:  Validation Accuracy: 0.7264000177383423, Loss: 0.5589087009429932\n",
      "Epoch 38, CIFAR-10 Batch 5:  Validation Accuracy: 0.7494000196456909, Loss: 0.36682167649269104\n",
      "Epoch 39, CIFAR-10 Batch 1:  Validation Accuracy: 0.754800021648407, Loss: 0.44327592849731445\n",
      "Epoch 39, CIFAR-10 Batch 2:  Validation Accuracy: 0.7373999953269958, Loss: 0.4218366742134094\n",
      "Epoch 39, CIFAR-10 Batch 3:  Validation Accuracy: 0.7558000087738037, Loss: 0.29984381794929504\n",
      "Epoch 39, CIFAR-10 Batch 4:  Validation Accuracy: 0.7343999743461609, Loss: 0.5220884680747986\n",
      "Epoch 39, CIFAR-10 Batch 5:  Validation Accuracy: 0.7577999830245972, Loss: 0.36626291275024414\n",
      "Epoch 40, CIFAR-10 Batch 1:  Validation Accuracy: 0.7455999851226807, Loss: 0.48425325751304626\n",
      "Epoch 40, CIFAR-10 Batch 2:  Validation Accuracy: 0.7289999723434448, Loss: 0.42194756865501404\n",
      "Epoch 40, CIFAR-10 Batch 3:  Validation Accuracy: 0.7639999985694885, Loss: 0.27391642332077026\n",
      "Epoch 40, CIFAR-10 Batch 4:  Validation Accuracy: 0.739799976348877, Loss: 0.4961578845977783\n",
      "Epoch 40, CIFAR-10 Batch 5:  Validation Accuracy: 0.7523999810218811, Loss: 0.371405690908432\n"
     ]
    }
   ],
   "source": [
    "\"\"\"\n",
    "DON'T MODIFY ANYTHING IN THIS CELL\n",
    "\"\"\"\n",
    "save_model_path = './image_classification'\n",
    "\n",
    "print('Training...')\n",
    "with tf.Session() as sess:\n",
    "    # Initializing the variables\n",
    "    sess.run(tf.global_variables_initializer())\n",
    "    \n",
    "    # Training cycle\n",
    "    for epoch in range(epochs):\n",
    "        # Loop over all batches\n",
    "        n_batches = 5\n",
    "        for batch_i in range(1, n_batches + 1):\n",
    "            for batch_features, batch_labels in helper.load_preprocess_training_batch(batch_i, batch_size):\n",
    "                train_neural_network(sess, optimizer, keep_probability, batch_features, batch_labels)\n",
    "            print('Epoch {:>2}, CIFAR-10 Batch {}:  '.format(epoch + 1, batch_i), end='')\n",
    "            print_stats(sess, batch_features, batch_labels, cost, accuracy)\n",
    "            \n",
    "    # Save Model\n",
    "    saver = tf.train.Saver()\n",
    "    save_path = saver.save(sess, save_model_path)"
   ]
  },
  {
   "cell_type": "markdown",
   "metadata": {},
   "source": [
    "# Checkpoint\n",
    "The model has been saved to disk.\n",
    "## Test Model\n",
    "Test your model against the test dataset.  This will be your final accuracy. You should have an accuracy greater than 50%. If you don't, keep tweaking the model architecture and parameters."
   ]
  },
  {
   "cell_type": "code",
   "execution_count": 25,
   "metadata": {},
   "outputs": [
    {
     "name": "stdout",
     "output_type": "stream",
     "text": [
      "INFO:tensorflow:Restoring parameters from ./image_classification\n",
      "Testing Accuracy: 0.7448575949367089\n",
      "\n"
     ]
    },
    {
     "data": {
      "image/png": "[encoded data removed]",
      "text/plain": [
       "<matplotlib.figure.Figure at 0x11b4fbeb8>"
      ]
     },
     "metadata": {
      "image/png": {
       "height": 319,
       "width": 355
      }
     },
     "output_type": "display_data"
    }
   ],
   "source": [
    "\"\"\"\n",
    "DON'T MODIFY ANYTHING IN THIS CELL\n",
    "\"\"\"\n",
    "%matplotlib inline\n",
    "%config InlineBackend.figure_format = 'retina'\n",
    "\n",
    "import tensorflow as tf\n",
    "import pickle\n",
    "import helper\n",
    "import random\n",
    "\n",
    "# Set batch size if not already set\n",
    "try:\n",
    "    if batch_size:\n",
    "        pass\n",
    "except NameError:\n",
    "    batch_size = 64\n",
    "\n",
    "save_model_path = './image_classification'\n",
    "n_samples = 4\n",
    "top_n_predictions = 3\n",
    "\n",
    "def test_model():\n",
    "    \"\"\"\n",
    "    Test the saved model against the test dataset\n",
    "    \"\"\"\n",
    "\n",
    "    test_features, test_labels = pickle.load(open('preprocess_training.p', mode='rb'))\n",
    "    loaded_graph = tf.Graph()\n",
    "\n",
    "    with tf.Session(graph=loaded_graph) as sess:\n",
    "        # Load model\n",
    "        loader = tf.train.import_meta_graph(save_model_path + '.meta')\n",
    "        loader.restore(sess, save_model_path)\n",
    "\n",
    "        # Get Tensors from loaded model\n",
    "        loaded_x = loaded_graph.get_tensor_by_name('x:0')\n",
    "        loaded_y = loaded_graph.get_tensor_by_name('y:0')\n",
    "        loaded_keep_prob = loaded_graph.get_tensor_by_name('keep_prob:0')\n",
    "        loaded_logits = loaded_graph.get_tensor_by_name('logits:0')\n",
    "        loaded_acc = loaded_graph.get_tensor_by_name('accuracy:0')\n",
    "        \n",
    "        # Get accuracy in batches for memory limitations\n",
    "        test_batch_acc_total = 0\n",
    "        test_batch_count = 0\n",
    "        \n",
    "        for train_feature_batch, train_label_batch in helper.batch_features_labels(test_features, test_labels, batch_size):\n",
    "            test_batch_acc_total += sess.run(\n",
    "                loaded_acc,\n",
    "                feed_dict={loaded_x: train_feature_batch, loaded_y: train_label_batch, loaded_keep_prob: 1.0})\n",
    "            test_batch_count += 1\n",
    "\n",
    "        print('Testing Accuracy: {}\\n'.format(test_batch_acc_total/test_batch_count))\n",
    "\n",
    "        # Print Random Samples\n",
    "        random_test_features, random_test_labels = tuple(zip(*random.sample(list(zip(test_features, test_labels)), n_samples)))\n",
    "        random_test_predictions = sess.run(\n",
    "            tf.nn.top_k(tf.nn.softmax(loaded_logits), top_n_predictions),\n",
    "            feed_dict={loaded_x: random_test_features, loaded_y: random_test_labels, loaded_keep_prob: 1.0})\n",
    "        helper.display_image_predictions(random_test_features, random_test_labels, random_test_predictions)\n",
    "\n",
    "\n",
    "test_model()"
   ]
  },
  {
   "cell_type": "markdown",
   "metadata": {},
   "source": [
    "## Why 50-70% Accuracy?\n",
    "You might be wondering why you can't get an accuracy any higher. First things first, 50% isn't bad for a simple CNN.  Pure guessing would get you 10% accuracy. However, you might notice people are getting scores [well above 70%](http://rodrigob.github.io/are_we_there_yet/build/classification_datasets_results.html#43494641522d3130).  That's because we haven't taught you all there is to know about neural networks. We still need to cover a few more techniques.\n",
    "## Submitting This Project\n",
    "When submitting this project, make sure to run all the cells before saving the notebook.  Save the notebook file as \"dlnd_image_classification.ipynb\" and save it as a HTML file under \"File\" -> \"Download as\".  Include the \"helper.py\" and \"problem_unittests.py\" files in your submission."
   ]
  }
 ],
 "metadata": {
  "kernelspec": {
   "display_name": "Python 3",
   "language": "python",
   "name": "python3"
  },
  "language_info": {
   "codemirror_mode": {
    "name": "ipython",
    "version": 3
   },
   "file_extension": ".py",
   "mimetype": "text/x-python",
   "name": "python",
   "nbconvert_exporter": "python",
   "pygments_lexer": "ipython3",
   "version": "3.6.1"
  }
 },
 "nbformat": 4,
 "nbformat_minor": 1
}
