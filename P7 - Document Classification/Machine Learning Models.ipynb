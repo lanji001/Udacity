{
 "cells": [
  {
   "cell_type": "markdown",
   "metadata": {},
   "source": [
    "# Load Data"
   ]
  },
  {
   "cell_type": "code",
   "execution_count": 1,
   "metadata": {},
   "outputs": [
    {
     "name": "stderr",
     "output_type": "stream",
     "text": [
      "Using TensorFlow backend.\n"
     ]
    }
   ],
   "source": [
    "import helper"
   ]
  },
  {
   "cell_type": "code",
   "execution_count": 2,
   "metadata": {
    "collapsed": true
   },
   "outputs": [],
   "source": [
    "# 只选择四类话题的新闻数据，涉及计算机科学、棒球、医学和宗教\n",
    "\n",
    "categories = ['comp.graphics','rec.sport.baseball','sci.med', 'soc.religion.christian']\n",
    "\n",
    "newsgroups_train, newsgroups_test, newsgroups_data = helper.load_data(categories)"
   ]
  },
  {
   "cell_type": "code",
   "execution_count": 3,
   "metadata": {},
   "outputs": [
    {
     "name": "stdout",
     "output_type": "stream",
     "text": [
      "2374\n",
      "1580\n",
      "3954\n"
     ]
    }
   ],
   "source": [
    "print(len(newsgroups_train.data))\n",
    "print(len(newsgroups_test.data))\n",
    "print(len(newsgroups_data.data))"
   ]
  },
  {
   "cell_type": "markdown",
   "metadata": {},
   "source": [
    "# 训练 tf-idf向量器"
   ]
  },
  {
   "cell_type": "markdown",
   "metadata": {},
   "source": [
    "### 测试停词库"
   ]
  },
  {
   "cell_type": "code",
   "execution_count": 4,
   "metadata": {},
   "outputs": [
    {
     "name": "stdout",
     "output_type": "stream",
     "text": [
      "['All', 'work', 'and', 'no', 'play', 'makes', 'jack', 'dull', 'boy', '.', '45', 'All', 'work', 'and', 'no', 'play', 'makes', 'jack', 'a', 'dull', 'boy', '.', '!']\n"
     ]
    }
   ],
   "source": [
    "# import nltk\n",
    "# nltk.download('punkt')\n",
    "\n",
    "from nltk.tokenize import sent_tokenize, word_tokenize\n",
    " \n",
    "data = \"All work and no play makes jack dull boy. 45 All work and no play makes jack a dull boy.!\"\n",
    "words = word_tokenize(data)\n",
    "print(words)"
   ]
  },
  {
   "cell_type": "code",
   "execution_count": 5,
   "metadata": {},
   "outputs": [
    {
     "name": "stdout",
     "output_type": "stream",
     "text": [
      "['All', 'work', 'play', 'makes', 'jack', 'dull', 'boy', '.', '45', 'All', 'work', 'play', 'makes', 'jack', 'dull', 'boy', '.', '!']\n"
     ]
    }
   ],
   "source": [
    "# nltk.download('stopwords')\n",
    "\n",
    "from nltk.tokenize import sent_tokenize, word_tokenize\n",
    "from nltk.corpus import stopwords\n",
    " \n",
    "stopWords = set(stopwords.words('english'))\n",
    "words = word_tokenize(data)\n",
    "wordsFiltered = []\n",
    " \n",
    "for w in words:\n",
    "    if w not in stopWords:\n",
    "        wordsFiltered.append(w)\n",
    " \n",
    "print(wordsFiltered)"
   ]
  },
  {
   "cell_type": "code",
   "execution_count": 6,
   "metadata": {},
   "outputs": [
    {
     "data": {
      "text/plain": [
       "153"
      ]
     },
     "execution_count": 6,
     "metadata": {},
     "output_type": "execute_result"
    }
   ],
   "source": [
    "# 有153个停词\n",
    "len(stopWords)"
   ]
  },
  {
   "cell_type": "markdown",
   "metadata": {},
   "source": [
    "### tokenizer去掉标点符号"
   ]
  },
  {
   "cell_type": "code",
   "execution_count": 7,
   "metadata": {},
   "outputs": [
    {
     "name": "stdout",
     "output_type": "stream",
     "text": [
      "['All', 'work', 'and', 'no', 'play', 'makes', 'jack', 'dull', 'boy', 'All', 'work', 'and', 'no', 'play', 'makes', 'jack', 'a', 'dull', 'boy']\n"
     ]
    }
   ],
   "source": [
    "from nltk.tokenize import RegexpTokenizer\n",
    "\n",
    "tokenizer = RegexpTokenizer(r'(?!\\d)\\w+')\n",
    "\n",
    "words = tokenizer.tokenize(data)\n",
    "print(words)"
   ]
  },
  {
   "cell_type": "markdown",
   "metadata": {},
   "source": [
    "### 训练tf-idf向量容器"
   ]
  },
  {
   "cell_type": "code",
   "execution_count": 8,
   "metadata": {
    "collapsed": true
   },
   "outputs": [],
   "source": [
    "from sklearn.feature_extraction.text import TfidfVectorizer\n",
    "\n",
    "vectorizer = TfidfVectorizer(lowercase=True, \n",
    "                             tokenizer=word_tokenize, \n",
    "                             stop_words=stopWords, \n",
    "                             token_pattern='(?!\\d)\\w+',\n",
    "                             max_features=8000)"
   ]
  },
  {
   "cell_type": "markdown",
   "metadata": {},
   "source": [
    "# 训练并测试模型"
   ]
  },
  {
   "cell_type": "markdown",
   "metadata": {},
   "source": [
    "### 向量化训练集和测试集"
   ]
  },
  {
   "cell_type": "code",
   "execution_count": 9,
   "metadata": {
    "collapsed": true
   },
   "outputs": [],
   "source": [
    "# 学习并向量化训练集\n",
    "# 向量化测试集\n",
    "\n",
    "X_train, y_train, X_test, y_test = helper.fit_transform(vectorizer, \\\n",
    "                                                        newsgroups_train, newsgroups_test)"
   ]
  },
  {
   "cell_type": "code",
   "execution_count": 10,
   "metadata": {},
   "outputs": [
    {
     "data": {
      "text/plain": [
       "((2374, 8000), (1580, 8000))"
      ]
     },
     "execution_count": 10,
     "metadata": {},
     "output_type": "execute_result"
    }
   ],
   "source": [
    "X_train.shape, X_test.shape"
   ]
  },
  {
   "cell_type": "markdown",
   "metadata": {},
   "source": [
    "### 训练并测试MultinomialNB模型"
   ]
  },
  {
   "cell_type": "code",
   "execution_count": 11,
   "metadata": {},
   "outputs": [
    {
     "name": "stdout",
     "output_type": "stream",
     "text": [
      "{'alpha': 0.01}\n"
     ]
    }
   ],
   "source": [
    "from sklearn.naive_bayes import MultinomialNB\n",
    "\n",
    "nb = MultinomialNB()\n",
    "parameters = {'alpha' : (0.01, 0.05, 0.1, 0.5, 1.0)}\n",
    "\n",
    "helper.grid_search(nb, parameters, X_train ,y_train)"
   ]
  },
  {
   "cell_type": "code",
   "execution_count": 12,
   "metadata": {},
   "outputs": [
    {
     "name": "stdout",
     "output_type": "stream",
     "text": [
      "CPU times: user 4.04 ms, sys: 1.38 ms, total: 5.41 ms\n",
      "Wall time: 4.09 ms\n"
     ]
    },
    {
     "data": {
      "text/plain": [
       "MultinomialNB(alpha=0.01, class_prior=None, fit_prior=True)"
      ]
     },
     "execution_count": 12,
     "metadata": {},
     "output_type": "execute_result"
    }
   ],
   "source": [
    "from sklearn.naive_bayes import MultinomialNB\n",
    "\n",
    "# 初始化一个MultinomialNB模型\n",
    "# nb_clf = MultinomialNB(),accuracy=0.85\n",
    "# alpha=0.01有优化效果\n",
    "nb_clf = MultinomialNB(alpha=0.01)\n",
    "# 通过训练集模型学习\n",
    "%time nb_clf.fit(X_train, y_train)"
   ]
  },
  {
   "cell_type": "code",
   "execution_count": 13,
   "metadata": {},
   "outputs": [
    {
     "name": "stdout",
     "output_type": "stream",
     "text": [
      "accuracy score: 0.90\n",
      "f1-score: 0.90\n",
      "precision score: 0.90\n",
      "recall score: 0.90\n"
     ]
    }
   ],
   "source": [
    "helper.valuate_model(X_test, y_test, nb_clf)"
   ]
  },
  {
   "cell_type": "code",
   "execution_count": 44,
   "metadata": {},
   "outputs": [
    {
     "data": {
      "text/plain": [
       "['models/nb_clf.pkl']"
      ]
     },
     "execution_count": 44,
     "metadata": {},
     "output_type": "execute_result"
    }
   ],
   "source": [
    "joblib.dump(nb_clf, 'models/nb_clf.pkl')"
   ]
  },
  {
   "cell_type": "markdown",
   "metadata": {},
   "source": [
    "### 训练并测试KNN模型"
   ]
  },
  {
   "cell_type": "code",
   "execution_count": 128,
   "metadata": {},
   "outputs": [
    {
     "name": "stdout",
     "output_type": "stream",
     "text": [
      "{'leaf_size': 10, 'n_neighbors': 150, 'p': 2, 'weights': 'distance'}\n"
     ]
    }
   ],
   "source": [
    "# 优化参数\n",
    "from sklearn.model_selection import GridSearchCV\n",
    "\n",
    "knn = KNeighborsClassifier()\n",
    "\n",
    "parameters = {'n_neighbors':(110,120,130,140,150,160,170,180,190),\n",
    "              'weights':('uniform','distance'),\n",
    "              'leaf_size':(10,30,50),\n",
    "              'p':(1,2)}\n",
    "\n",
    "helper.grid_search(knn, parameters, X_train, y_train)"
   ]
  },
  {
   "cell_type": "code",
   "execution_count": 14,
   "metadata": {},
   "outputs": [
    {
     "name": "stdout",
     "output_type": "stream",
     "text": [
      "CPU times: user 1.76 ms, sys: 878 µs, total: 2.64 ms\n",
      "Wall time: 1.69 ms\n"
     ]
    },
    {
     "data": {
      "text/plain": [
       "KNeighborsClassifier(algorithm='auto', leaf_size=10, metric='minkowski',\n",
       "           metric_params=None, n_jobs=1, n_neighbors=150, p=2,\n",
       "           weights='distance')"
      ]
     },
     "execution_count": 14,
     "metadata": {},
     "output_type": "execute_result"
    }
   ],
   "source": [
    "from sklearn.neighbors import KNeighborsClassifier\n",
    "\n",
    "# 初始化一个KNN模型\n",
    "knn_clf = KNeighborsClassifier(n_neighbors=150, weights='distance', leaf_size=10, p=2)\n",
    "# 通过训练集模型学习\n",
    "%time knn_clf.fit(X_train, y_train)"
   ]
  },
  {
   "cell_type": "code",
   "execution_count": 15,
   "metadata": {},
   "outputs": [
    {
     "name": "stdout",
     "output_type": "stream",
     "text": [
      "accuracy score: 0.68\n",
      "f1-score: 0.67\n",
      "precision score: 0.70\n",
      "recall score: 0.68\n"
     ]
    }
   ],
   "source": [
    "helper.valuate_model(X_test, y_test, knn_clf)"
   ]
  },
  {
   "cell_type": "markdown",
   "metadata": {},
   "source": [
    "### 训练并测试SVM模型"
   ]
  },
  {
   "cell_type": "code",
   "execution_count": 26,
   "metadata": {},
   "outputs": [
    {
     "name": "stdout",
     "output_type": "stream",
     "text": [
      "{'loss': 'squared_hinge', 'max_iter': 500, 'tol': 0.001}\n"
     ]
    }
   ],
   "source": [
    "from sklearn.svm import LinearSVC\n",
    "\n",
    "svm = LinearSVC()\n",
    "parameters = {'loss':('hinge','squared_hinge'),\n",
    "              'tol':(0.001,0.0005,0.0001),\n",
    "              'max_iter':(500,1000,2000)}\n",
    "\n",
    "helper.grid_search(svm, parameters, X_train, y_train)"
   ]
  },
  {
   "cell_type": "code",
   "execution_count": 17,
   "metadata": {},
   "outputs": [
    {
     "name": "stdout",
     "output_type": "stream",
     "text": [
      "CPU times: user 48 ms, sys: 2.81 ms, total: 50.8 ms\n",
      "Wall time: 52.3 ms\n"
     ]
    },
    {
     "data": {
      "text/plain": [
       "LinearSVC(C=1.0, class_weight=None, dual=True, fit_intercept=True,\n",
       "     intercept_scaling=1, loss='squared_hinge', max_iter=500,\n",
       "     multi_class='ovr', penalty='l2', random_state=None, tol=0.001,\n",
       "     verbose=0)"
      ]
     },
     "execution_count": 17,
     "metadata": {},
     "output_type": "execute_result"
    }
   ],
   "source": [
    "# 使用默认的LinearSVC参数，模型在测试集的表现约为0.89\n",
    "from sklearn.svm import LinearSVC\n",
    "\n",
    "# 初始化一个KNN模型\n",
    "svm_clf = LinearSVC(loss='squared_hinge', tol=0.001, max_iter=500)\n",
    "# 通过训练集模型学习\n",
    "%time svm_clf.fit(X_train, y_train)"
   ]
  },
  {
   "cell_type": "code",
   "execution_count": 18,
   "metadata": {},
   "outputs": [
    {
     "name": "stdout",
     "output_type": "stream",
     "text": [
      "accuracy score: 0.89\n",
      "f1-score: 0.89\n",
      "precision score: 0.89\n",
      "recall score: 0.89\n"
     ]
    }
   ],
   "source": [
    "helper.valuate_model(X_test, y_test, svm_clf)"
   ]
  },
  {
   "cell_type": "code",
   "execution_count": 34,
   "metadata": {},
   "outputs": [
    {
     "data": {
      "text/plain": [
       "['models/svm_clf.pkl']"
      ]
     },
     "execution_count": 34,
     "metadata": {},
     "output_type": "execute_result"
    }
   ],
   "source": [
    "from sklearn.externals import joblib\n",
    "joblib.dump(svm_clf, 'models/svm_clf.pkl')"
   ]
  },
  {
   "cell_type": "markdown",
   "metadata": {},
   "source": [
    "### 训练并测试GradientBoostingClassifier模型"
   ]
  },
  {
   "cell_type": "code",
   "execution_count": 296,
   "metadata": {
    "scrolled": true
   },
   "outputs": [
    {
     "data": {
      "text/plain": [
       "GradientBoostingClassifier(criterion='friedman_mse', init=None,\n",
       "              learning_rate=0.1, loss='deviance', max_depth=3,\n",
       "              max_features=None, max_leaf_nodes=None,\n",
       "              min_impurity_split=1e-07, min_samples_leaf=1,\n",
       "              min_samples_split=2, min_weight_fraction_leaf=0.0,\n",
       "              n_estimators=100, presort='auto', random_state=None,\n",
       "              subsample=1.0, verbose=0, warm_start=False)"
      ]
     },
     "execution_count": 296,
     "metadata": {},
     "output_type": "execute_result"
    }
   ],
   "source": [
    "from sklearn.ensemble import GradientBoostingClassifier\n",
    "\n",
    "# 默认分类器，accuracy=0.796, f1_score=0.797, precision=0.805, recall=0.796\n",
    "gbdt_clf = GradientBoostingClassifier()\n",
    "gbdt_clf.fit(X_train.toarray(), y_train)"
   ]
  },
  {
   "cell_type": "code",
   "execution_count": null,
   "metadata": {
    "collapsed": true
   },
   "outputs": [],
   "source": [
    "helper.valuate_model(X_test, y_test, gbdt_clf)"
   ]
  },
  {
   "cell_type": "code",
   "execution_count": null,
   "metadata": {
    "collapsed": true
   },
   "outputs": [],
   "source": [
    "# 优化参数\n",
    "\n",
    "from sklearn.model_selection import GridSearchCV\n",
    "\n",
    "gbdt = GradientBoostingClassifier()\n",
    "\n",
    "parameters = {'learning_rate': (0.08, 0.1, 0.12),\n",
    "              'n_estimators': (100, 150, 200),\n",
    "              'max_depth': (3, 4, 5),\n",
    "              'min_samples_split': (2, 3),\n",
    "              'min_samples_leaf': (1, 2, 3)}\n",
    "\n",
    "helper.grid_search(gbdt, parameters, X_train, y_train)"
   ]
  },
  {
   "cell_type": "code",
   "execution_count": 36,
   "metadata": {},
   "outputs": [
    {
     "name": "stdout",
     "output_type": "stream",
     "text": [
      "CPU times: user 17min 59s, sys: 2.75 s, total: 18min 2s\n",
      "Wall time: 18min 4s\n"
     ]
    },
    {
     "data": {
      "text/plain": [
       "GradientBoostingClassifier(criterion='friedman_mse', init=None,\n",
       "              learning_rate=0.12, loss='deviance', max_depth=5,\n",
       "              max_features=None, max_leaf_nodes=None,\n",
       "              min_impurity_split=1e-07, min_samples_leaf=2,\n",
       "              min_samples_split=2, min_weight_fraction_leaf=0.0,\n",
       "              n_estimators=200, presort='auto', random_state=None,\n",
       "              subsample=1.0, verbose=0, warm_start=False)"
      ]
     },
     "execution_count": 36,
     "metadata": {},
     "output_type": "execute_result"
    }
   ],
   "source": [
    "# 优化参数, 在Pycharm中运行\n",
    "# learning_rate=0.12, n_estimators=200, max_depth=5, min_samples_split=2, min_samples_leaf=2\n",
    "from sklearn.ensemble import GradientBoostingClassifier\n",
    "\n",
    "gbdt_clf_2 = GradientBoostingClassifier(learning_rate=0.12, n_estimators=200, \\\n",
    "                                        max_depth=5, min_samples_split=2, min_samples_leaf=2)\n",
    "%time gbdt_clf_2.fit(X_train.toarray(), y_train)"
   ]
  },
  {
   "cell_type": "code",
   "execution_count": null,
   "metadata": {
    "collapsed": true
   },
   "outputs": [],
   "source": [
    "helper.valuate_model(X_test, y_test, gbdt_clf_2)"
   ]
  },
  {
   "cell_type": "code",
   "execution_count": 26,
   "metadata": {},
   "outputs": [
    {
     "data": {
      "text/plain": [
       "['models/gbdt_clf.pkl']"
      ]
     },
     "execution_count": 26,
     "metadata": {},
     "output_type": "execute_result"
    }
   ],
   "source": [
    "# 保存最优的随GBDT模型\n",
    "joblib.dump(rf_clf, 'models/gbdt_clf.pkl')"
   ]
  },
  {
   "cell_type": "markdown",
   "metadata": {},
   "source": [
    "### 训练并测试随机森林模型"
   ]
  },
  {
   "cell_type": "markdown",
   "metadata": {},
   "source": [
    "默认参数的随机森林模型，在Pycharm中已测\n",
    "\n",
    "rf = RandomForestClassifier()\n",
    "\n",
    "rf.fit(X_train, y_train)\n",
    "\n",
    "y_pred_6 = rf.predict(X_test)\n",
    "\n",
    "accuracy_score: 0.747468；\n",
    "f1_score: 0.745566；\n",
    "precision_score: 0.755224；\n",
    "recall_score: 0.747741"
   ]
  },
  {
   "cell_type": "code",
   "execution_count": null,
   "metadata": {
    "collapsed": true
   },
   "outputs": [],
   "source": [
    "# 优化参数, 在Pycharm中运行\n",
    "# min_samples_leaf = 3, min_samples_split=2, n_estimators=300\n",
    "\n",
    "rf = RandomForestClassifier()\n",
    "\n",
    "parameters = {'n_estimators':(250,300,350),\n",
    "              'min_samples_split':(2,3,4),\n",
    "              'min_samples_leaf':(1,3,5)}\n",
    "\n",
    "helper.grid_search(rf, parameters, X_train, y_train)"
   ]
  },
  {
   "cell_type": "code",
   "execution_count": 37,
   "metadata": {},
   "outputs": [
    {
     "name": "stdout",
     "output_type": "stream",
     "text": [
      "CPU times: user 1.96 s, sys: 10.6 ms, total: 1.97 s\n",
      "Wall time: 1.99 s\n"
     ]
    },
    {
     "data": {
      "text/plain": [
       "RandomForestClassifier(bootstrap=True, class_weight=None, criterion='gini',\n",
       "            max_depth=None, max_features='auto', max_leaf_nodes=None,\n",
       "            min_impurity_split=1e-07, min_samples_leaf=3,\n",
       "            min_samples_split=2, min_weight_fraction_leaf=0.0,\n",
       "            n_estimators=300, n_jobs=1, oob_score=False, random_state=None,\n",
       "            verbose=0, warm_start=False)"
      ]
     },
     "execution_count": 37,
     "metadata": {},
     "output_type": "execute_result"
    }
   ],
   "source": [
    "from sklearn.ensemble import RandomForestClassifier\n",
    "\n",
    "rf_clf = RandomForestClassifier(n_estimators=300, min_samples_split=2, min_samples_leaf=3)\n",
    "\n",
    "%time rf_clf.fit(X_train, y_train)"
   ]
  },
  {
   "cell_type": "code",
   "execution_count": null,
   "metadata": {
    "collapsed": true
   },
   "outputs": [],
   "source": [
    "helper.valuate_model(X_test, y_test, rf_clf)"
   ]
  },
  {
   "cell_type": "code",
   "execution_count": 25,
   "metadata": {},
   "outputs": [
    {
     "data": {
      "text/plain": [
       "['models/rf_clf.pkl']"
      ]
     },
     "execution_count": 25,
     "metadata": {},
     "output_type": "execute_result"
    }
   ],
   "source": [
    "from sklearn.externals import joblib\n",
    "\n",
    "# 保存最优的随机森林模型\n",
    "joblib.dump(rf_clf, 'models/rf_clf.pkl')"
   ]
  },
  {
   "cell_type": "markdown",
   "metadata": {
    "collapsed": true
   },
   "source": [
    "###  进一步分析朴素贝叶斯模型"
   ]
  },
  {
   "cell_type": "code",
   "execution_count": 14,
   "metadata": {
    "collapsed": true
   },
   "outputs": [],
   "source": [
    "import matplotlib.pyplot as plt\n",
    "\n",
    "def plot_learning_curve(train_sizes, train_accuracy, test_accuracy, alpha, ylim=None):\n",
    "    plt.figure()\n",
    "    plt.title(\"NB Learning curve alpha = %.2f\" % alpha)\n",
    "    \n",
    "    if ylim is not None:\n",
    "        plt.ylim(*ylim)\n",
    "    \n",
    "    plt.xlabel(\"Training examples\")\n",
    "    plt.ylabel(\"Score\")\n",
    "    plt.grid()\n",
    "\n",
    "    plt.plot(train_sizes, train_accuracy, '-', color=\"r\",\n",
    "             label=\"Training accuracy\")\n",
    "    plt.plot(train_sizes, test_accuracy, '-', color=\"g\",\n",
    "             label=\"Testing accuracy\")\n",
    "\n",
    "    plt.legend(loc=\"best\")\n",
    "    return plt"
   ]
  },
  {
   "cell_type": "code",
   "execution_count": 15,
   "metadata": {
    "collapsed": true
   },
   "outputs": [],
   "source": [
    "from sklearn.metrics import accuracy_score\n",
    "\n",
    "def learning_curve(num, X_train, y_train, X_test, y_test, alpha):\n",
    "    \n",
    "    train_sizes = np.linspace(0.001, 1.0, num) * X_train.shape[0]\n",
    "    train_accuracy = np.zeros(num)\n",
    "    test_accuracy = np.zeros(num)\n",
    "    \n",
    "    for i in range(num):\n",
    "        clf = MultinomialNB(alpha)\n",
    "        temp_X_train = X_train[0: int(train_sizes[i])]\n",
    "        temp_y_train = y_train[0: int(train_sizes[i])]\n",
    "        clf.fit(temp_X_train, temp_y_train)\n",
    "        train_accuracy[i] = accuracy_score(temp_y_train, clf.predict(temp_X_train))\n",
    "        test_accuracy[i] = accuracy_score(y_test, clf.predict(X_test))\n",
    "        \n",
    "    return train_sizes, train_accuracy, test_accuracy"
   ]
  },
  {
   "cell_type": "code",
   "execution_count": 18,
   "metadata": {},
   "outputs": [
    {
     "data": {
      "text/plain": [
       "<module 'matplotlib.pyplot' from '/Users/lanji/anaconda2/envs/dlnd/lib/python3.6/site-packages/matplotlib/pyplot.py'>"
      ]
     },
     "execution_count": 18,
     "metadata": {},
     "output_type": "execute_result"
    }
   ],
   "source": [
    "import numpy as np\n",
    "from sklearn.naive_bayes import MultinomialNB\n",
    "\n",
    "alpha = 0.01\n",
    "\n",
    "train_sizes, train_accuracy, test_accuracy = learning_curve(20, X_train, y_train, \\\n",
    "                                                            X_test, y_test, alpha)\n",
    "\n",
    "plot_learning_curve(train_sizes, train_accuracy, test_accuracy, alpha)"
   ]
  },
  {
   "cell_type": "code",
   "execution_count": 19,
   "metadata": {},
   "outputs": [
    {
     "data": {
      "image/png": "[encoded data removed]",
      "text/plain": [
       "<matplotlib.figure.Figure at 0x113ca7390>"
      ]
     },
     "metadata": {},
     "output_type": "display_data"
    }
   ],
   "source": [
    "plt.show()"
   ]
  },
  {
   "cell_type": "code",
   "execution_count": null,
   "metadata": {
    "collapsed": true
   },
   "outputs": [],
   "source": []
  }
 ],
 "metadata": {
  "kernelspec": {
   "display_name": "Python 3",
   "language": "python",
   "name": "python3"
  },
  "language_info": {
   "codemirror_mode": {
    "name": "ipython",
    "version": 3
   },
   "file_extension": ".py",
   "mimetype": "text/x-python",
   "name": "python",
   "nbconvert_exporter": "python",
   "pygments_lexer": "ipython3",
   "version": "3.6.1"
  }
 },
 "nbformat": 4,
 "nbformat_minor": 2
}
