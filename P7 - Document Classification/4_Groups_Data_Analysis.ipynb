{
 "cells": [
  {
   "cell_type": "markdown",
   "metadata": {},
   "source": [
    "# 加载数据"
   ]
  },
  {
   "cell_type": "code",
   "execution_count": 8,
   "metadata": {
    "collapsed": true
   },
   "outputs": [],
   "source": [
    "# 只选择四类话题的新闻数据，涉及计算机科学、棒球、医学和宗教\n",
    "\n",
    "import helper\n",
    "\n",
    "categories = ['comp.graphics','rec.sport.baseball','sci.med', 'soc.religion.christian']\n",
    "\n",
    "newsgroups_train, newsgroups_test, newsgroups_data = helper.load_data(categories)"
   ]
  },
  {
   "cell_type": "markdown",
   "metadata": {},
   "source": [
    "# 分析数据"
   ]
  },
  {
   "cell_type": "markdown",
   "metadata": {},
   "source": [
    "### 证明训练集和测试集中各类数据的平衡性"
   ]
  },
  {
   "cell_type": "code",
   "execution_count": 9,
   "metadata": {},
   "outputs": [
    {
     "data": {
      "text/plain": [
       "((2374,), (2374,))"
      ]
     },
     "execution_count": 9,
     "metadata": {},
     "output_type": "execute_result"
    }
   ],
   "source": [
    "# 训练集共有2374条新闻 \n",
    "    \n",
    "newsgroups_train.filenames.shape, newsgroups_train.target.shape"
   ]
  },
  {
   "cell_type": "code",
   "execution_count": 4,
   "metadata": {},
   "outputs": [
    {
     "data": {
      "text/plain": [
       "(array([0, 1, 2, 3]), array([584, 597, 594, 599]))"
      ]
     },
     "execution_count": 4,
     "metadata": {},
     "output_type": "execute_result"
    }
   ],
   "source": [
    "import numpy as np\n",
    "\n",
    "train_unique, train_counts = np.unique(newsgroups_train.target, return_counts=True)\n",
    "\n",
    "# 训练集中每一类话题对应的新闻数量\n",
    "\n",
    "train_unique, train_counts"
   ]
  },
  {
   "cell_type": "code",
   "execution_count": 8,
   "metadata": {},
   "outputs": [
    {
     "data": {
      "image/png": "[encoded data removed]",
      "text/plain": [
       "<matplotlib.figure.Figure at 0x115755dd8>"
      ]
     },
     "metadata": {},
     "output_type": "display_data"
    }
   ],
   "source": [
    "# 为了可视化，将话题与新闻数量存储到一个DataFrame中\n",
    "\n",
    "data = {'name':newsgroups_train.target_names, 'number':train_counts}\n",
    "\n",
    "import pandas as pd\n",
    "\n",
    "df_train = pd.DataFrame(data)\n",
    "\n",
    "# 可视化训练集中每个话题\n",
    "\n",
    "import matplotlib.pyplot as plt\n",
    "\n",
    "df_train.set_index('name').plot.bar(rot=0, title='Distribution of News', \n",
    "                                    figsize=(8,4), legend=False)\n",
    "\n",
    "plt.show()"
   ]
  },
  {
   "cell_type": "code",
   "execution_count": 5,
   "metadata": {},
   "outputs": [
    {
     "data": {
      "text/plain": [
       "((1580,), (1580,))"
      ]
     },
     "execution_count": 5,
     "metadata": {},
     "output_type": "execute_result"
    }
   ],
   "source": [
    "# 测试集共有1580条新闻\n",
    "\n",
    "newsgroups_test.filenames.shape, newsgroups_test.target.shape"
   ]
  },
  {
   "cell_type": "code",
   "execution_count": 10,
   "metadata": {},
   "outputs": [
    {
     "data": {
      "text/plain": [
       "(array([0, 1, 2, 3]), array([389, 397, 396, 398]))"
      ]
     },
     "execution_count": 10,
     "metadata": {},
     "output_type": "execute_result"
    }
   ],
   "source": [
    "test_unique, test_counts = np.unique(newsgroups_test.target, return_counts=True)\n",
    "\n",
    "# 测试集中每一类话题对应的新闻数量\n",
    "\n",
    "test_unique, test_counts"
   ]
  },
  {
   "cell_type": "code",
   "execution_count": 11,
   "metadata": {},
   "outputs": [
    {
     "data": {
      "image/png": "[encoded data removed]",
      "text/plain": [
       "<matplotlib.figure.Figure at 0x115785940>"
      ]
     },
     "metadata": {},
     "output_type": "display_data"
    }
   ],
   "source": [
    "# 为了可视化，将话题与新闻数量存储到一个DataFrame中\n",
    "\n",
    "test_data = {'name':newsgroups_train.target_names, 'number':test_counts}\n",
    "\n",
    "import pandas as pd\n",
    "\n",
    "df_test = pd.DataFrame(test_data)\n",
    "\n",
    "# 可视化测试集中每个话题\n",
    "\n",
    "df_test.set_index('name').plot.bar(rot=0, title='Distribution of News', \n",
    "                                    figsize=(8,4), legend=False)\n",
    "plt.show()"
   ]
  },
  {
   "cell_type": "code",
   "execution_count": null,
   "metadata": {
    "collapsed": true
   },
   "outputs": [],
   "source": []
  },
  {
   "cell_type": "code",
   "execution_count": null,
   "metadata": {
    "collapsed": true
   },
   "outputs": [],
   "source": []
  },
  {
   "cell_type": "markdown",
   "metadata": {},
   "source": [
    "### 探索新闻的行数"
   ]
  },
  {
   "cell_type": "code",
   "execution_count": 8,
   "metadata": {},
   "outputs": [
    {
     "data": {
      "text/plain": [
       "'A good source of information on Burzynski\\'s method is in *The Cancer Industry*\\nby pulitzer-prize nominee Ralph Moss. Also, a non-profit organization called\\n\"People Against Cancer,\" which was formed for the purpose of allowing cancer\\npatients to access information regarding cancer therapies not endorsed by the\\ncancer industry, but which have shown highly promising results (all of which\\nare non-toxic). Anyone interested in cancer therapy should contact this organi-\\nzation ASAP:              People Against Cancer\\n                          PO Box 10\\n                          Otho IA 50569-0010\\n(515)972-4444\\nFAX (515)972-4415\\n\\n\\npeace'"
      ]
     },
     "execution_count": 8,
     "metadata": {},
     "output_type": "execute_result"
    }
   ],
   "source": [
    "newsgroups_train.data[0]"
   ]
  },
  {
   "cell_type": "code",
   "execution_count": 9,
   "metadata": {},
   "outputs": [
    {
     "data": {
      "text/plain": [
       "([\"A good source of information on Burzynski's method is in *The Cancer Industry*\",\n",
       "  'by pulitzer-prize nominee Ralph Moss. Also, a non-profit organization called',\n",
       "  '\"People Against Cancer,\" which was formed for the purpose of allowing cancer',\n",
       "  'patients to access information regarding cancer therapies not endorsed by the',\n",
       "  'cancer industry, but which have shown highly promising results (all of which',\n",
       "  'are non-toxic). Anyone interested in cancer therapy should contact this organi-',\n",
       "  'zation ASAP:              People Against Cancer',\n",
       "  '                          PO Box 10',\n",
       "  '                          Otho IA 50569-0010',\n",
       "  '(515)972-4444',\n",
       "  'FAX (515)972-4415',\n",
       "  '',\n",
       "  '',\n",
       "  'peace'],\n",
       " 14)"
      ]
     },
     "execution_count": 9,
     "metadata": {},
     "output_type": "execute_result"
    }
   ],
   "source": [
    "# 以第一条新闻为例\n",
    "\n",
    "newsgroups_train.data[0].split('\\n'), len(newsgroups_train.data[0].split('\\n'))"
   ]
  },
  {
   "cell_type": "code",
   "execution_count": 28,
   "metadata": {
    "collapsed": true
   },
   "outputs": [],
   "source": [
    "# 计算出每条新闻的行数\n",
    "\n",
    "news_line_counts = [len(news.split('\\n')) for news in newsgroups_data.data]"
   ]
  },
  {
   "cell_type": "code",
   "execution_count": 29,
   "metadata": {},
   "outputs": [
    {
     "data": {
      "text/plain": [
       "(1585, 1, 27.39453717754173)"
      ]
     },
     "execution_count": 29,
     "metadata": {},
     "output_type": "execute_result"
    }
   ],
   "source": [
    "# 新闻中最大、最小、平均的行数\n",
    "\n",
    "max(news_line_counts), min(news_line_counts), sum(news_line_counts) / float(len(news_line_counts))"
   ]
  },
  {
   "cell_type": "code",
   "execution_count": 30,
   "metadata": {},
   "outputs": [
    {
     "data": {
      "image/png": "[encoded data removed]",
      "text/plain": [
       "<matplotlib.figure.Figure at 0x1197839e8>"
      ]
     },
     "metadata": {},
     "output_type": "display_data"
    }
   ],
   "source": [
    "import pandas as pd\n",
    "import matplotlib.pyplot as plt\n",
    "\n",
    "line_series = pd.Series(news_line_counts)\n",
    "\n",
    "line_series.plot(kind='hist', bins=10, range=(0,200), \n",
    "            color='blue', edgecolor='black', linewidth=1.5)\n",
    "plt.show()"
   ]
  },
  {
   "cell_type": "markdown",
   "metadata": {},
   "source": [
    "### 探索新闻的单词数"
   ]
  },
  {
   "cell_type": "code",
   "execution_count": 31,
   "metadata": {
    "collapsed": true
   },
   "outputs": [],
   "source": [
    "# 使用nltk对新闻分词\n",
    "\n",
    "from nltk.tokenize import RegexpTokenizer\n",
    "tokenizer = RegexpTokenizer(r'\\w+')\n",
    "# tokenizer = RegexpTokenizer(r'(?!\\d)\\w+')"
   ]
  },
  {
   "cell_type": "code",
   "execution_count": 32,
   "metadata": {},
   "outputs": [
    {
     "name": "stdout",
     "output_type": "stream",
     "text": [
      "['A', 'good', 'source', 'of', 'information', 'on', 'Burzynski', 's', 'method', 'is', 'in', 'The', 'Cancer', 'Industry', 'by', 'pulitzer', 'prize', 'nominee', 'Ralph', 'Moss', 'Also', 'a', 'non', 'profit', 'organization', 'called', 'People', 'Against', 'Cancer', 'which', 'was', 'formed', 'for', 'the', 'purpose', 'of', 'allowing', 'cancer', 'patients', 'to', 'access', 'information', 'regarding', 'cancer', 'therapies', 'not', 'endorsed', 'by', 'the', 'cancer', 'industry', 'but', 'which', 'have', 'shown', 'highly', 'promising', 'results', 'all', 'of', 'which', 'are', 'non', 'toxic', 'Anyone', 'interested', 'in', 'cancer', 'therapy', 'should', 'contact', 'this', 'organi', 'zation', 'ASAP', 'People', 'Against', 'Cancer', 'PO', 'Box', '10', 'Otho', 'IA', '50569', '0010', '515', '972', '4444', 'FAX', '515', '972', '4415', 'peace']\n"
     ]
    }
   ],
   "source": [
    "# 以第一个新闻为例\n",
    "\n",
    "tokens = tokenizer.tokenize(newsgroups_train.data[0])\n",
    "print(tokens)"
   ]
  },
  {
   "cell_type": "code",
   "execution_count": 33,
   "metadata": {},
   "outputs": [
    {
     "data": {
      "text/plain": [
       "93"
      ]
     },
     "execution_count": 33,
     "metadata": {},
     "output_type": "execute_result"
    }
   ],
   "source": [
    "# 第一篇新闻的长度\n",
    "\n",
    "len(tokens)"
   ]
  },
  {
   "cell_type": "code",
   "execution_count": 34,
   "metadata": {
    "collapsed": true
   },
   "outputs": [],
   "source": [
    "token_length = [len(tokenizer.tokenize(news)) for news in newsgroups_data.data]"
   ]
  },
  {
   "cell_type": "code",
   "execution_count": 36,
   "metadata": {},
   "outputs": [
    {
     "data": {
      "text/plain": [
       "(9974, 0, 208.4441072331816)"
      ]
     },
     "execution_count": 36,
     "metadata": {},
     "output_type": "execute_result"
    }
   ],
   "source": [
    "# 最多、最少、平均的新闻单词数\n",
    "\n",
    "max(token_length), min(token_length), sum(token_length) / float(len(token_length))"
   ]
  },
  {
   "cell_type": "code",
   "execution_count": 40,
   "metadata": {},
   "outputs": [
    {
     "data": {
      "text/plain": [
       "0.025290844714213456"
      ]
     },
     "execution_count": 40,
     "metadata": {},
     "output_type": "execute_result"
    }
   ],
   "source": [
    "# 超过1000个单词的新闻占比\n",
    "\n",
    "len([1 for length in token_length if length > 1000]) / float(len(token_length))"
   ]
  },
  {
   "cell_type": "code",
   "execution_count": 51,
   "metadata": {},
   "outputs": [
    {
     "data": {
      "text/plain": [
       "0.03566009104704097"
      ]
     },
     "execution_count": 51,
     "metadata": {},
     "output_type": "execute_result"
    }
   ],
   "source": [
    "# 超过800个单词的新闻占比\n",
    "\n",
    "len([1 for length in token_length if length > 800]) / float(len(token_length))"
   ]
  },
  {
   "cell_type": "code",
   "execution_count": 38,
   "metadata": {},
   "outputs": [
    {
     "data": {
      "image/png": "[encoded data removed]",
      "text/plain": [
       "<matplotlib.figure.Figure at 0x118282f28>"
      ]
     },
     "metadata": {},
     "output_type": "display_data"
    }
   ],
   "source": [
    "word_series = pd.Series(token_length)\n",
    "\n",
    "word_series.plot(kind='hist', bins=20, range=(0,1000), \n",
    "                 color='blue', edgecolor='black', linewidth=1.5)\n",
    "plt.show()"
   ]
  },
  {
   "cell_type": "markdown",
   "metadata": {},
   "source": [
    "### 统计共有多少个词（每个词只统计一次）"
   ]
  },
  {
   "cell_type": "code",
   "execution_count": 49,
   "metadata": {},
   "outputs": [
    {
     "data": {
      "text/plain": [
       "46636"
      ]
     },
     "execution_count": 49,
     "metadata": {},
     "output_type": "execute_result"
    }
   ],
   "source": [
    "tokens_map = {}\n",
    "\n",
    "for data in newsgroups_data.data:\n",
    "    tokens = tokenizer.tokenize(data)\n",
    "    for item in tokens:\n",
    "        tokens_map[item] = tokens_map.get(item, 0) + 1\n",
    "\n",
    "len(tokens_map.keys())"
   ]
  },
  {
   "cell_type": "code",
   "execution_count": null,
   "metadata": {
    "collapsed": true
   },
   "outputs": [],
   "source": [
    "# 其中训练集有unique words 35035个"
   ]
  },
  {
   "cell_type": "markdown",
   "metadata": {},
   "source": [
    "### 统计最常见的20个词"
   ]
  },
  {
   "cell_type": "code",
   "execution_count": 41,
   "metadata": {
    "collapsed": true
   },
   "outputs": [],
   "source": [
    "sorted_tokens_list = [(k, tokens_map[k]) \n",
    "                      for k in sorted(tokens_map, key=tokens_map.get, reverse=True)]"
   ]
  },
  {
   "cell_type": "code",
   "execution_count": 42,
   "metadata": {},
   "outputs": [
    {
     "name": "stdout",
     "output_type": "stream",
     "text": [
      "[('the', 33559), ('to', 20079), ('of', 19583), ('and', 16267), ('a', 15277), ('I', 12500), ('is', 12363), ('in', 11766), ('that', 10882), ('for', 7305), ('it', 7100), ('you', 5894), ('be', 5500), ('not', 5105), ('are', 4966), ('s', 4914), ('have', 4833), ('with', 4815), ('on', 4677), ('this', 4500)]\n"
     ]
    }
   ],
   "source": [
    "frequent_words = sorted_tokens_list[0:20]\n",
    "\n",
    "print(frequent_words)"
   ]
  },
  {
   "cell_type": "code",
   "execution_count": 43,
   "metadata": {},
   "outputs": [
    {
     "name": "stdout",
     "output_type": "stream",
     "text": [
      "{'word': ['the', 'to', 'of', 'and', 'a', 'I', 'is', 'in', 'that', 'for', 'it', 'you', 'be', 'not', 'are', 's', 'have', 'with', 'on', 'this'], 'freq': [33559, 20079, 19583, 16267, 15277, 12500, 12363, 11766, 10882, 7305, 7100, 5894, 5500, 5105, 4966, 4914, 4833, 4815, 4677, 4500]}\n"
     ]
    }
   ],
   "source": [
    "frequent_words_dict = {'word':[], 'freq':[]}\n",
    "\n",
    "for pair in frequent_words:\n",
    "    frequent_words_dict['word'].append(pair[0])\n",
    "    frequent_words_dict['freq'].append(pair[1])\n",
    "    \n",
    "print(frequent_words_dict)"
   ]
  },
  {
   "cell_type": "code",
   "execution_count": 44,
   "metadata": {
    "collapsed": true
   },
   "outputs": [],
   "source": [
    "frequent_words_df = pd.DataFrame(frequent_words_dict, columns=['word','freq'])"
   ]
  },
  {
   "cell_type": "code",
   "execution_count": 45,
   "metadata": {},
   "outputs": [
    {
     "data": {
      "text/html": [
       "<div>\n",
       "<style>\n",
       "    .dataframe thead tr:only-child th {\n",
       "        text-align: right;\n",
       "    }\n",
       "\n",
       "    .dataframe thead th {\n",
       "        text-align: left;\n",
       "    }\n",
       "\n",
       "    .dataframe tbody tr th {\n",
       "        vertical-align: top;\n",
       "    }\n",
       "</style>\n",
       "<table border=\"1\" class=\"dataframe\">\n",
       "  <thead>\n",
       "    <tr style=\"text-align: right;\">\n",
       "      <th></th>\n",
       "      <th>word</th>\n",
       "      <th>freq</th>\n",
       "    </tr>\n",
       "  </thead>\n",
       "  <tbody>\n",
       "    <tr>\n",
       "      <th>0</th>\n",
       "      <td>the</td>\n",
       "      <td>33559</td>\n",
       "    </tr>\n",
       "    <tr>\n",
       "      <th>1</th>\n",
       "      <td>to</td>\n",
       "      <td>20079</td>\n",
       "    </tr>\n",
       "    <tr>\n",
       "      <th>2</th>\n",
       "      <td>of</td>\n",
       "      <td>19583</td>\n",
       "    </tr>\n",
       "    <tr>\n",
       "      <th>3</th>\n",
       "      <td>and</td>\n",
       "      <td>16267</td>\n",
       "    </tr>\n",
       "    <tr>\n",
       "      <th>4</th>\n",
       "      <td>a</td>\n",
       "      <td>15277</td>\n",
       "    </tr>\n",
       "    <tr>\n",
       "      <th>5</th>\n",
       "      <td>I</td>\n",
       "      <td>12500</td>\n",
       "    </tr>\n",
       "    <tr>\n",
       "      <th>6</th>\n",
       "      <td>is</td>\n",
       "      <td>12363</td>\n",
       "    </tr>\n",
       "    <tr>\n",
       "      <th>7</th>\n",
       "      <td>in</td>\n",
       "      <td>11766</td>\n",
       "    </tr>\n",
       "    <tr>\n",
       "      <th>8</th>\n",
       "      <td>that</td>\n",
       "      <td>10882</td>\n",
       "    </tr>\n",
       "    <tr>\n",
       "      <th>9</th>\n",
       "      <td>for</td>\n",
       "      <td>7305</td>\n",
       "    </tr>\n",
       "    <tr>\n",
       "      <th>10</th>\n",
       "      <td>it</td>\n",
       "      <td>7100</td>\n",
       "    </tr>\n",
       "    <tr>\n",
       "      <th>11</th>\n",
       "      <td>you</td>\n",
       "      <td>5894</td>\n",
       "    </tr>\n",
       "    <tr>\n",
       "      <th>12</th>\n",
       "      <td>be</td>\n",
       "      <td>5500</td>\n",
       "    </tr>\n",
       "    <tr>\n",
       "      <th>13</th>\n",
       "      <td>not</td>\n",
       "      <td>5105</td>\n",
       "    </tr>\n",
       "    <tr>\n",
       "      <th>14</th>\n",
       "      <td>are</td>\n",
       "      <td>4966</td>\n",
       "    </tr>\n",
       "    <tr>\n",
       "      <th>15</th>\n",
       "      <td>s</td>\n",
       "      <td>4914</td>\n",
       "    </tr>\n",
       "    <tr>\n",
       "      <th>16</th>\n",
       "      <td>have</td>\n",
       "      <td>4833</td>\n",
       "    </tr>\n",
       "    <tr>\n",
       "      <th>17</th>\n",
       "      <td>with</td>\n",
       "      <td>4815</td>\n",
       "    </tr>\n",
       "    <tr>\n",
       "      <th>18</th>\n",
       "      <td>on</td>\n",
       "      <td>4677</td>\n",
       "    </tr>\n",
       "    <tr>\n",
       "      <th>19</th>\n",
       "      <td>this</td>\n",
       "      <td>4500</td>\n",
       "    </tr>\n",
       "  </tbody>\n",
       "</table>\n",
       "</div>"
      ],
      "text/plain": [
       "    word   freq\n",
       "0    the  33559\n",
       "1     to  20079\n",
       "2     of  19583\n",
       "3    and  16267\n",
       "4      a  15277\n",
       "5      I  12500\n",
       "6     is  12363\n",
       "7     in  11766\n",
       "8   that  10882\n",
       "9    for   7305\n",
       "10    it   7100\n",
       "11   you   5894\n",
       "12    be   5500\n",
       "13   not   5105\n",
       "14   are   4966\n",
       "15     s   4914\n",
       "16  have   4833\n",
       "17  with   4815\n",
       "18    on   4677\n",
       "19  this   4500"
      ]
     },
     "execution_count": 45,
     "metadata": {},
     "output_type": "execute_result"
    }
   ],
   "source": [
    "frequent_words_df"
   ]
  },
  {
   "cell_type": "code",
   "execution_count": 46,
   "metadata": {},
   "outputs": [
    {
     "data": {
      "image/png": "[encoded data removed]",
      "text/plain": [
       "<matplotlib.figure.Figure at 0x118a04be0>"
      ]
     },
     "metadata": {},
     "output_type": "display_data"
    }
   ],
   "source": [
    "frequent_words_df.set_index('word').plot.bar(rot=0, title='Most Frequent words', \n",
    "                                    figsize=(10,6), legend=False,\n",
    "                                    color=plt.cm.Paired(np.arange(len(frequent_words_df))))\n",
    "\n",
    "plt.show()"
   ]
  },
  {
   "cell_type": "code",
   "execution_count": 56,
   "metadata": {},
   "outputs": [
    {
     "data": {
      "image/png": "[encoded data removed]",
      "text/plain": [
       "<matplotlib.figure.Figure at 0x116c30630>"
      ]
     },
     "metadata": {},
     "output_type": "display_data"
    }
   ],
   "source": [
    "import matplotlib.pyplot as plt\n",
    "import pandas as pd\n",
    "import numpy as np\n",
    "\n",
    "df = pd.DataFrame({'count': {0: 3372, 1: 68855, 2: 17948, 3: 708, 4: 9117}}).reset_index()\n",
    "\n",
    "plt.bar(range(len(df)), df[\"count\"], color=plt.cm.Paired(np.arange(len(df))))\n",
    "\n",
    "plt.show()"
   ]
  },
  {
   "cell_type": "code",
   "execution_count": null,
   "metadata": {
    "collapsed": true
   },
   "outputs": [],
   "source": []
  }
 ],
 "metadata": {
  "kernelspec": {
   "display_name": "Python 3",
   "language": "python",
   "name": "python3"
  },
  "language_info": {
   "codemirror_mode": {
    "name": "ipython",
    "version": 3
   },
   "file_extension": ".py",
   "mimetype": "text/x-python",
   "name": "python",
   "nbconvert_exporter": "python",
   "pygments_lexer": "ipython3",
   "version": "3.6.1"
  }
 },
 "nbformat": 4,
 "nbformat_minor": 2
}
