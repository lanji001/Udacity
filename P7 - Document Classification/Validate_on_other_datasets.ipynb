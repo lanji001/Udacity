{
 "cells": [
  {
   "cell_type": "markdown",
   "metadata": {},
   "source": [
    "# Load Data"
   ]
  },
  {
   "cell_type": "code",
   "execution_count": 1,
   "metadata": {},
   "outputs": [
    {
     "name": "stderr",
     "output_type": "stream",
     "text": [
      "Using TensorFlow backend.\n"
     ]
    },
    {
     "name": "stdout",
     "output_type": "stream",
     "text": [
      "2350\n",
      "1564\n",
      "3914\n"
     ]
    }
   ],
   "source": [
    "# 只选择四类话题的新闻数据，涉及计算机科学、冰球、太空学、政治\n",
    "\n",
    "import helper\n",
    "\n",
    "categories = ['comp.windows.x','rec.sport.hockey','sci.space', 'talk.politics.mideast']\n",
    "\n",
    "newsgroups_train, newsgroups_test, newsgroups_data = helper.load_data(categories)\n",
    "\n",
    "print(len(newsgroups_train.data))\n",
    "print(len(newsgroups_test.data))\n",
    "print(len(newsgroups_data.data))"
   ]
  },
  {
   "cell_type": "markdown",
   "metadata": {},
   "source": [
    "# 验证朴素贝叶思模型"
   ]
  },
  {
   "cell_type": "code",
   "execution_count": 2,
   "metadata": {
    "collapsed": true
   },
   "outputs": [],
   "source": [
    "import logging\n",
    "logging.basicConfig(format='%(asctime)s : %(levelname)s : %(message)s', level=logging.INFO)"
   ]
  },
  {
   "cell_type": "code",
   "execution_count": 3,
   "metadata": {
    "collapsed": true
   },
   "outputs": [],
   "source": [
    "from sklearn.feature_extraction.text import TfidfVectorizer\n",
    "from nltk.tokenize import word_tokenize\n",
    "from nltk.corpus import stopwords\n",
    " \n",
    "stopWords = set(stopwords.words('english'))\n",
    "\n",
    "vectorizer = TfidfVectorizer(lowercase=True, \n",
    "                             tokenizer=word_tokenize, \n",
    "                             stop_words=stopWords, \n",
    "                             token_pattern='(?!\\d)\\w+',\n",
    "                             max_features=8000)"
   ]
  },
  {
   "cell_type": "code",
   "execution_count": 4,
   "metadata": {},
   "outputs": [
    {
     "data": {
      "text/plain": [
       "((2350, 8000), (1564, 8000))"
      ]
     },
     "execution_count": 4,
     "metadata": {},
     "output_type": "execute_result"
    }
   ],
   "source": [
    "X_train, y_train, X_test, y_test = helper.fit_transform(vectorizer, newsgroups_train, newsgroups_test)\n",
    "\n",
    "X_train.shape, X_test.shape"
   ]
  },
  {
   "cell_type": "code",
   "execution_count": 5,
   "metadata": {},
   "outputs": [
    {
     "name": "stdout",
     "output_type": "stream",
     "text": [
      "CPU times: user 3.54 ms, sys: 1.55 ms, total: 5.1 ms\n",
      "Wall time: 3.41 ms\n"
     ]
    },
    {
     "data": {
      "text/plain": [
       "MultinomialNB(alpha=0.01, class_prior=None, fit_prior=True)"
      ]
     },
     "execution_count": 5,
     "metadata": {},
     "output_type": "execute_result"
    }
   ],
   "source": [
    "from sklearn.naive_bayes import MultinomialNB\n",
    "\n",
    "# 初始化一个MultinomialNB模型\n",
    "# nb_clf = MultinomialNB(),accuracy=0.85\n",
    "# alpha=0.01有优化效果\n",
    "nb_clf = MultinomialNB(alpha=0.01)\n",
    "# 通过训练集模型学习\n",
    "%time nb_clf.fit(X_train, y_train)"
   ]
  },
  {
   "cell_type": "code",
   "execution_count": 6,
   "metadata": {},
   "outputs": [
    {
     "name": "stdout",
     "output_type": "stream",
     "text": [
      "accuracy score: 0.91\n",
      "f1-score: 0.91\n",
      "precision score: 0.91\n",
      "recall score: 0.91\n"
     ]
    }
   ],
   "source": [
    "helper.valuate_model(X_test, y_test, nb_clf)"
   ]
  },
  {
   "cell_type": "markdown",
   "metadata": {},
   "source": [
    "# 验证卷积神经网络"
   ]
  },
  {
   "cell_type": "code",
   "execution_count": 7,
   "metadata": {},
   "outputs": [
    {
     "name": "stderr",
     "output_type": "stream",
     "text": [
      "2017-12-08 03:15:03,217 : INFO : 'pattern' package not found; tag filters are not available for English\n"
     ]
    }
   ],
   "source": [
    "from gensim.models import word2vec\n",
    "import logging\n",
    "logging.basicConfig(format='%(asctime)s : %(levelname)s : %(message)s', level=logging.INFO)"
   ]
  },
  {
   "cell_type": "code",
   "execution_count": 8,
   "metadata": {},
   "outputs": [
    {
     "name": "stderr",
     "output_type": "stream",
     "text": [
      "2017-12-08 03:15:04,730 : INFO : loading projection weights from models/deep_learning/text.model.bin\n",
      "2017-12-08 03:15:05,735 : INFO : loaded (100038, 100) matrix from models/deep_learning/text.model.bin\n"
     ]
    }
   ],
   "source": [
    "import gensim\n",
    "\n",
    "text8_model = gensim.models.KeyedVectors.load_word2vec_format('models/deep_learning/text.model.bin', binary=True)"
   ]
  },
  {
   "cell_type": "code",
   "execution_count": 9,
   "metadata": {},
   "outputs": [
    {
     "name": "stdout",
     "output_type": "stream",
     "text": [
      "Found 46857 unique tokens.\n"
     ]
    }
   ],
   "source": [
    "from keras.preprocessing.text import Tokenizer\n",
    "\n",
    "tokenizer = Tokenizer(num_words=None,\n",
    "                      filters='!\"#$%&()*+,-./:;<=>?@[\\\\]^_`{|}~\\t\\n',\n",
    "                      lower=True,\n",
    "                      split=\" \",\n",
    "                      char_level=False)\n",
    "\n",
    "# fit on all texts\n",
    "tokenizer.fit_on_texts(newsgroups_data.data)\n",
    "\n",
    "word_index = tokenizer.word_index\n",
    "print('Found %s unique tokens.' % len(word_index))"
   ]
  },
  {
   "cell_type": "code",
   "execution_count": 10,
   "metadata": {},
   "outputs": [
    {
     "name": "stdout",
     "output_type": "stream",
     "text": [
      "Shape of train data tensor: (2350, 800)\n",
      "Shape of train label tensor: (2350, 4)\n",
      "Shape of test data tensor: (1564, 800)\n",
      "Shape of test label tensor: (1564, 4)\n"
     ]
    }
   ],
   "source": [
    "MAX_SEQUENCE_LENGTH = 800  # 每条新闻最大长度\n",
    "EMBEDDING_DIM = 100         # 词向量空间维度\n",
    "\n",
    "X_train, y_train, X_test, y_test = helper.vectorize_data(tokenizer, newsgroups_data, newsgroups_train, newsgroups_test)"
   ]
  },
  {
   "cell_type": "code",
   "execution_count": 11,
   "metadata": {
    "collapsed": true
   },
   "outputs": [],
   "source": [
    "embedding_layer = helper.generate_embedding_layer(word_index, text8_model)\n",
    "cnn_model = helper.get_cnn_model(embedding_layer, y_train)\n",
    "history = cnn_model.fit(X_train, y_train, validation_split = 0.2, epochs=50, batch_size=128, verbose=0)"
   ]
  },
  {
   "cell_type": "code",
   "execution_count": 12,
   "metadata": {},
   "outputs": [
    {
     "data": {
      "image/png": "[encoded data removed]",
      "text/plain": [
       "<matplotlib.figure.Figure at 0x1226ebcf8>"
      ]
     },
     "metadata": {},
     "output_type": "display_data"
    }
   ],
   "source": [
    "import visualizer\n",
    "\n",
    "# summarize history for accuracy\n",
    "visualizer.plot_accuracy(history)"
   ]
  },
  {
   "cell_type": "code",
   "execution_count": 13,
   "metadata": {},
   "outputs": [
    {
     "data": {
      "image/png": "[encoded data removed]",
      "text/plain": [
       "<matplotlib.figure.Figure at 0x11f64ecc0>"
      ]
     },
     "metadata": {},
     "output_type": "display_data"
    }
   ],
   "source": [
    "# summarize history for loss\n",
    "visualizer.plot_loss(history)"
   ]
  },
  {
   "cell_type": "code",
   "execution_count": 75,
   "metadata": {
    "collapsed": true
   },
   "outputs": [
    {
     "data": {
      "text/plain": [
       "[0.90212765932083128,\n",
       " 0.88297872416516565,\n",
       " 0.88723404229955471,\n",
       " 0.90425531990984653,\n",
       " 0.87872340400168236,\n",
       " 0.89361702102295892,\n",
       " 0.88936170288856997,\n",
       " 0.89787234220098944,\n",
       " 0.91063829964779797,\n",
       " 0.89361702305205326]"
      ]
     },
     "execution_count": 75,
     "metadata": {},
     "output_type": "execute_result"
    }
   ],
   "source": [
    "history.history['val_acc'][30:40]"
   ]
  },
  {
   "cell_type": "code",
   "execution_count": 76,
   "metadata": {
    "collapsed": true
   },
   "outputs": [
    {
     "data": {
      "text/plain": [
       "[0.30242592603602308,\n",
       " 0.35171150641238436,\n",
       " 0.3411788244196709,\n",
       " 0.30090174155032379,\n",
       " 0.3380404642287721,\n",
       " 0.29803946373310497,\n",
       " 0.30489762285922434,\n",
       " 0.29106762345801007,\n",
       " 0.29962780120524957,\n",
       " 0.31342428605607214]"
      ]
     },
     "execution_count": 76,
     "metadata": {},
     "output_type": "execute_result"
    }
   ],
   "source": [
    "history.history['val_loss'][30:40]"
   ]
  },
  {
   "cell_type": "code",
   "execution_count": 77,
   "metadata": {
    "collapsed": true
   },
   "outputs": [
    {
     "name": "stdout",
     "output_type": "stream",
     "text": [
      "Epoch 1/40\n",
      "2350/2350 [==============================] - 12s 5ms/step - loss: 2.0736 - acc: 0.2834\n",
      "Epoch 2/40\n",
      "2350/2350 [==============================] - 11s 5ms/step - loss: 1.3422 - acc: 0.3464\n",
      "Epoch 3/40\n",
      "2350/2350 [==============================] - 11s 5ms/step - loss: 1.2700 - acc: 0.4226\n",
      "Epoch 4/40\n",
      "2350/2350 [==============================] - 11s 5ms/step - loss: 1.1296 - acc: 0.5174\n",
      "Epoch 5/40\n",
      "2350/2350 [==============================] - 11s 5ms/step - loss: 0.8727 - acc: 0.6336\n",
      "Epoch 6/40\n",
      "2350/2350 [==============================] - 11s 5ms/step - loss: 0.7024 - acc: 0.7055\n",
      "Epoch 7/40\n",
      "2350/2350 [==============================] - 11s 5ms/step - loss: 0.7177 - acc: 0.7115\n",
      "Epoch 8/40\n",
      "2350/2350 [==============================] - 11s 5ms/step - loss: 0.6216 - acc: 0.7626\n",
      "Epoch 9/40\n",
      "2350/2350 [==============================] - 11s 5ms/step - loss: 0.5318 - acc: 0.7889\n",
      "Epoch 10/40\n",
      "2350/2350 [==============================] - 11s 5ms/step - loss: 0.5114 - acc: 0.7936\n",
      "Epoch 11/40\n",
      "2350/2350 [==============================] - 11s 5ms/step - loss: 0.4814 - acc: 0.8179\n",
      "Epoch 12/40\n",
      "2350/2350 [==============================] - 11s 5ms/step - loss: 0.4102 - acc: 0.8417\n",
      "Epoch 13/40\n",
      "2350/2350 [==============================] - 11s 5ms/step - loss: 0.4335 - acc: 0.8349\n",
      "Epoch 14/40\n",
      "2350/2350 [==============================] - 11s 5ms/step - loss: 0.3777 - acc: 0.8494\n",
      "Epoch 15/40\n",
      "2350/2350 [==============================] - 11s 5ms/step - loss: 0.3675 - acc: 0.8511\n",
      "Epoch 16/40\n",
      "2350/2350 [==============================] - 11s 5ms/step - loss: 0.3417 - acc: 0.8681\n",
      "Epoch 17/40\n",
      "2350/2350 [==============================] - 11s 5ms/step - loss: 0.3446 - acc: 0.8668\n",
      "Epoch 18/40\n",
      "2350/2350 [==============================] - 11s 5ms/step - loss: 0.3245 - acc: 0.8647\n",
      "Epoch 19/40\n",
      "2350/2350 [==============================] - 11s 5ms/step - loss: 0.3112 - acc: 0.8749\n",
      "Epoch 20/40\n",
      "2350/2350 [==============================] - 11s 5ms/step - loss: 0.3044 - acc: 0.8787\n",
      "Epoch 21/40\n",
      "2350/2350 [==============================] - 11s 5ms/step - loss: 0.3103 - acc: 0.8847\n",
      "Epoch 22/40\n",
      "2350/2350 [==============================] - 11s 5ms/step - loss: 0.2800 - acc: 0.8902\n",
      "Epoch 23/40\n",
      "2350/2350 [==============================] - 11s 5ms/step - loss: 0.2712 - acc: 0.8877\n",
      "Epoch 24/40\n",
      "2350/2350 [==============================] - 11s 5ms/step - loss: 0.2674 - acc: 0.8932\n",
      "Epoch 25/40\n",
      "2350/2350 [==============================] - 11s 5ms/step - loss: 0.2648 - acc: 0.8936\n",
      "Epoch 26/40\n",
      "2350/2350 [==============================] - 11s 5ms/step - loss: 0.2781 - acc: 0.8987\n",
      "Epoch 27/40\n",
      "2350/2350 [==============================] - 11s 5ms/step - loss: 0.2446 - acc: 0.9055\n",
      "Epoch 28/40\n",
      "2350/2350 [==============================] - 11s 5ms/step - loss: 0.2438 - acc: 0.9055\n",
      "Epoch 29/40\n",
      "2350/2350 [==============================] - 12s 5ms/step - loss: 0.2407 - acc: 0.9111\n",
      "Epoch 30/40\n",
      "2350/2350 [==============================] - 12s 5ms/step - loss: 0.2379 - acc: 0.9106\n",
      "Epoch 31/40\n",
      "2350/2350 [==============================] - 12s 5ms/step - loss: 0.2264 - acc: 0.9081\n",
      "Epoch 32/40\n",
      "2350/2350 [==============================] - 11s 5ms/step - loss: 0.2540 - acc: 0.9038\n",
      "Epoch 33/40\n",
      "2350/2350 [==============================] - 11s 5ms/step - loss: 0.2218 - acc: 0.9098\n",
      "Epoch 34/40\n",
      "2350/2350 [==============================] - 11s 5ms/step - loss: 0.2194 - acc: 0.9102\n",
      "Epoch 35/40\n",
      "2350/2350 [==============================] - 11s 5ms/step - loss: 0.2123 - acc: 0.9102\n",
      "Epoch 36/40\n",
      "2350/2350 [==============================] - 11s 5ms/step - loss: 0.2009 - acc: 0.9187\n",
      "Epoch 37/40\n",
      "2350/2350 [==============================] - 11s 5ms/step - loss: 0.2157 - acc: 0.9191\n",
      "Epoch 38/40\n",
      "2350/2350 [==============================] - 11s 5ms/step - loss: 0.2128 - acc: 0.9234\n",
      "Epoch 39/40\n",
      "2350/2350 [==============================] - 12s 5ms/step - loss: 0.1842 - acc: 0.9260\n",
      "Epoch 40/40\n",
      "2350/2350 [==============================] - 12s 5ms/step - loss: 0.2176 - acc: 0.9221\n"
     ]
    },
    {
     "data": {
      "text/plain": [
       "<keras.callbacks.History at 0x1a3a7c25c0>"
      ]
     },
     "execution_count": 77,
     "metadata": {},
     "output_type": "execute_result"
    }
   ],
   "source": [
    "# 综合分析val_acc和val_test，epochs=40可以训练出最好的模型\n",
    "cnn_model = get_cnn_model()\n",
    "cnn_model.fit(X_train, y_train, epochs=40, batch_size=128)"
   ]
  },
  {
   "cell_type": "code",
   "execution_count": 78,
   "metadata": {},
   "outputs": [
    {
     "name": "stdout",
     "output_type": "stream",
     "text": [
      "1564/1564 [==============================] - 3s 2ms/step\n",
      "[0.3293603677350237, 0.88299232690840423]\n"
     ]
    }
   ],
   "source": [
    "print(cnn_model.evaluate(X_test,y_test))"
   ]
  },
  {
   "cell_type": "code",
   "execution_count": null,
   "metadata": {
    "collapsed": true
   },
   "outputs": [],
   "source": []
  }
 ],
 "metadata": {
  "kernelspec": {
   "display_name": "Python 3",
   "language": "python",
   "name": "python3"
  },
  "language_info": {
   "codemirror_mode": {
    "name": "ipython",
    "version": 3
   },
   "file_extension": ".py",
   "mimetype": "text/x-python",
   "name": "python",
   "nbconvert_exporter": "python",
   "pygments_lexer": "ipython3",
   "version": "3.6.1"
  }
 },
 "nbformat": 4,
 "nbformat_minor": 2
}
