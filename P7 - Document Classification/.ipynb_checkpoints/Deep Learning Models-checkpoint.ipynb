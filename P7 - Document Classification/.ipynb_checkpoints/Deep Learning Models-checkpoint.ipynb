{
 "cells": [
  {
   "cell_type": "markdown",
   "metadata": {},
   "source": [
    "# Load Data"
   ]
  },
  {
   "cell_type": "code",
   "execution_count": 8,
   "metadata": {},
   "outputs": [],
   "source": [
    "# 只选择四类话题的新闻数据，涉及计算机科学、棒球、医学和宗教\n",
    "\n",
    "import helper\n",
    "\n",
    "categories = ['comp.graphics','rec.sport.baseball','sci.med', 'soc.religion.christian']\n",
    "\n",
    "newsgroups_train, newsgroups_test, newsgroups_data = helper.load_data(categories)"
   ]
  },
  {
   "cell_type": "code",
   "execution_count": 9,
   "metadata": {},
   "outputs": [
    {
     "name": "stdout",
     "output_type": "stream",
     "text": [
      "2374\n",
      "1580\n",
      "3954\n"
     ]
    }
   ],
   "source": [
    "print(len(newsgroups_train.data))\n",
    "print(len(newsgroups_test.data))\n",
    "print(len(newsgroups_data.data))"
   ]
  },
  {
   "cell_type": "markdown",
   "metadata": {},
   "source": [
    "# Word2Vec"
   ]
  },
  {
   "cell_type": "code",
   "execution_count": 10,
   "metadata": {
    "collapsed": true
   },
   "outputs": [],
   "source": [
    "from gensim.models import word2vec\n",
    "import logging\n",
    "logging.basicConfig(format='%(asctime)s : %(levelname)s : %(message)s', level=logging.INFO)"
   ]
  },
  {
   "cell_type": "code",
   "execution_count": 5,
   "metadata": {
    "collapsed": true
   },
   "outputs": [
    {
     "name": "stderr",
     "output_type": "stream",
     "text": [
      "2017-11-08 15:09:39,200 : INFO : collecting all words and their counts\n",
      "2017-11-08 15:09:39,203 : INFO : PROGRESS: at sentence #0, processed 0 words, keeping 0 word types\n",
      "2017-11-08 15:09:44,443 : INFO : collected 253854 word types from a corpus of 17005207 raw words and 1701 sentences\n",
      "2017-11-08 15:09:44,444 : INFO : Loading a fresh vocabulary\n",
      "2017-11-08 15:09:44,756 : INFO : min_count=3 retains 100038 unique words (39% of original 253854, drops 153816)\n",
      "2017-11-08 15:09:44,757 : INFO : min_count=3 leaves 16816094 word corpus (98% of original 17005207, drops 189113)\n",
      "2017-11-08 15:09:45,033 : INFO : deleting the raw counts dictionary of 253854 items\n",
      "2017-11-08 15:09:45,044 : INFO : sample=0.001 downsamples 38 most-common words\n",
      "2017-11-08 15:09:45,045 : INFO : downsampling leaves estimated 12612693 word corpus (75.0% of prior 16816094)\n",
      "2017-11-08 15:09:45,046 : INFO : estimated required memory for 100038 words and 100 dimensions: 130049400 bytes\n",
      "2017-11-08 15:09:45,379 : INFO : resetting layer weights\n",
      "2017-11-08 15:09:46,343 : INFO : training model with 4 workers on 100038 vocabulary and 100 features, using sg=0 hs=0 sample=0.001 negative=5 window=5\n",
      "2017-11-08 15:09:47,347 : INFO : PROGRESS: at 2.45% examples, 1531708 words/s, in_qsize 7, out_qsize 0\n",
      "2017-11-08 15:09:48,351 : INFO : PROGRESS: at 4.93% examples, 1545611 words/s, in_qsize 8, out_qsize 0\n",
      "2017-11-08 15:09:49,352 : INFO : PROGRESS: at 7.35% examples, 1544866 words/s, in_qsize 6, out_qsize 0\n",
      "2017-11-08 15:09:50,357 : INFO : PROGRESS: at 9.83% examples, 1549670 words/s, in_qsize 7, out_qsize 0\n",
      "2017-11-08 15:09:51,359 : INFO : PROGRESS: at 12.30% examples, 1551849 words/s, in_qsize 7, out_qsize 0\n",
      "2017-11-08 15:09:52,360 : INFO : PROGRESS: at 14.77% examples, 1553205 words/s, in_qsize 7, out_qsize 0\n",
      "2017-11-08 15:09:53,365 : INFO : PROGRESS: at 17.25% examples, 1550829 words/s, in_qsize 7, out_qsize 0\n",
      "2017-11-08 15:09:54,369 : INFO : PROGRESS: at 19.72% examples, 1550025 words/s, in_qsize 7, out_qsize 0\n",
      "2017-11-08 15:09:55,370 : INFO : PROGRESS: at 22.23% examples, 1552580 words/s, in_qsize 8, out_qsize 0\n",
      "2017-11-08 15:09:56,372 : INFO : PROGRESS: at 24.73% examples, 1554648 words/s, in_qsize 6, out_qsize 0\n",
      "2017-11-08 15:09:57,378 : INFO : PROGRESS: at 26.93% examples, 1539920 words/s, in_qsize 7, out_qsize 0\n",
      "2017-11-08 15:09:58,384 : INFO : PROGRESS: at 29.15% examples, 1528138 words/s, in_qsize 5, out_qsize 0\n",
      "2017-11-08 15:09:59,388 : INFO : PROGRESS: at 31.46% examples, 1523014 words/s, in_qsize 7, out_qsize 0\n",
      "2017-11-08 15:10:00,393 : INFO : PROGRESS: at 33.86% examples, 1522034 words/s, in_qsize 7, out_qsize 0\n",
      "2017-11-08 15:10:01,395 : INFO : PROGRESS: at 36.31% examples, 1522031 words/s, in_qsize 7, out_qsize 0\n",
      "2017-11-08 15:10:02,396 : INFO : PROGRESS: at 38.74% examples, 1522529 words/s, in_qsize 6, out_qsize 0\n",
      "2017-11-08 15:10:03,396 : INFO : PROGRESS: at 41.21% examples, 1524037 words/s, in_qsize 7, out_qsize 0\n",
      "2017-11-08 15:10:04,398 : INFO : PROGRESS: at 43.63% examples, 1523774 words/s, in_qsize 7, out_qsize 0\n",
      "2017-11-08 15:10:05,399 : INFO : PROGRESS: at 46.08% examples, 1525262 words/s, in_qsize 7, out_qsize 1\n",
      "2017-11-08 15:10:06,400 : INFO : PROGRESS: at 48.49% examples, 1525463 words/s, in_qsize 7, out_qsize 1\n",
      "2017-11-08 15:10:07,406 : INFO : PROGRESS: at 50.91% examples, 1525481 words/s, in_qsize 7, out_qsize 1\n",
      "2017-11-08 15:10:08,410 : INFO : PROGRESS: at 53.36% examples, 1526092 words/s, in_qsize 6, out_qsize 0\n",
      "2017-11-08 15:10:09,414 : INFO : PROGRESS: at 55.80% examples, 1525980 words/s, in_qsize 7, out_qsize 0\n",
      "2017-11-08 15:10:10,421 : INFO : PROGRESS: at 58.22% examples, 1525521 words/s, in_qsize 7, out_qsize 0\n",
      "2017-11-08 15:10:11,424 : INFO : PROGRESS: at 60.66% examples, 1525416 words/s, in_qsize 7, out_qsize 0\n",
      "2017-11-08 15:10:12,428 : INFO : PROGRESS: at 63.13% examples, 1525948 words/s, in_qsize 7, out_qsize 0\n",
      "2017-11-08 15:10:13,430 : INFO : PROGRESS: at 65.57% examples, 1526725 words/s, in_qsize 7, out_qsize 0\n",
      "2017-11-08 15:10:14,431 : INFO : PROGRESS: at 68.03% examples, 1527944 words/s, in_qsize 7, out_qsize 0\n",
      "2017-11-08 15:10:15,431 : INFO : PROGRESS: at 70.41% examples, 1527098 words/s, in_qsize 7, out_qsize 0\n",
      "2017-11-08 15:10:16,432 : INFO : PROGRESS: at 72.82% examples, 1527020 words/s, in_qsize 7, out_qsize 0\n",
      "2017-11-08 15:10:17,433 : INFO : PROGRESS: at 75.25% examples, 1527026 words/s, in_qsize 7, out_qsize 0\n",
      "2017-11-08 15:10:18,436 : INFO : PROGRESS: at 77.65% examples, 1526138 words/s, in_qsize 8, out_qsize 1\n",
      "2017-11-08 15:10:19,439 : INFO : PROGRESS: at 80.08% examples, 1526057 words/s, in_qsize 7, out_qsize 0\n",
      "2017-11-08 15:10:20,442 : INFO : PROGRESS: at 82.55% examples, 1526535 words/s, in_qsize 7, out_qsize 0\n",
      "2017-11-08 15:10:21,444 : INFO : PROGRESS: at 85.01% examples, 1527135 words/s, in_qsize 7, out_qsize 0\n",
      "2017-11-08 15:10:22,448 : INFO : PROGRESS: at 87.45% examples, 1527906 words/s, in_qsize 8, out_qsize 0\n",
      "2017-11-08 15:10:23,453 : INFO : PROGRESS: at 89.89% examples, 1528029 words/s, in_qsize 7, out_qsize 1\n",
      "2017-11-08 15:10:24,454 : INFO : PROGRESS: at 92.31% examples, 1528140 words/s, in_qsize 7, out_qsize 0\n",
      "2017-11-08 15:10:25,457 : INFO : PROGRESS: at 94.72% examples, 1527930 words/s, in_qsize 7, out_qsize 0\n",
      "2017-11-08 15:10:26,462 : INFO : PROGRESS: at 96.92% examples, 1523744 words/s, in_qsize 7, out_qsize 0\n",
      "2017-11-08 15:10:27,465 : INFO : PROGRESS: at 99.27% examples, 1522565 words/s, in_qsize 7, out_qsize 0\n",
      "2017-11-08 15:10:27,744 : INFO : worker thread finished; awaiting finish of 3 more threads\n",
      "2017-11-08 15:10:27,748 : INFO : worker thread finished; awaiting finish of 2 more threads\n",
      "2017-11-08 15:10:27,750 : INFO : worker thread finished; awaiting finish of 1 more threads\n",
      "2017-11-08 15:10:27,754 : INFO : worker thread finished; awaiting finish of 0 more threads\n",
      "2017-11-08 15:10:27,755 : INFO : training on 85026035 raw words (63063517 effective words) took 41.4s, 1522864 effective words/s\n"
     ]
    }
   ],
   "source": [
    "# 采用Mikolov曾经使用过的text8数据包进行训练\n",
    "\n",
    "text8_sentences = word2vec.Text8Corpus('text8')\n",
    "\n",
    "model = word2vec.Word2Vec(text8_sentences, size=100, window=5, min_count=3, workers=4)"
   ]
  },
  {
   "cell_type": "code",
   "execution_count": 61,
   "metadata": {
    "collapsed": true
   },
   "outputs": [
    {
     "data": {
      "text/plain": [
       "[('woman', 0.7156496047973633),\n",
       " ('girl', 0.6739988327026367),\n",
       " ('creature', 0.6172822117805481),\n",
       " ('person', 0.5797319412231445),\n",
       " ('god', 0.5764418244361877),\n",
       " ('soul', 0.5685361623764038),\n",
       " ('evil', 0.5667415857315063),\n",
       " ('demon', 0.5553998947143555),\n",
       " ('humanity', 0.5522022247314453),\n",
       " ('curse', 0.5471194982528687)]"
      ]
     },
     "execution_count": 61,
     "metadata": {},
     "output_type": "execute_result"
    }
   ],
   "source": [
    "model.most_similar(['man'])"
   ]
  },
  {
   "cell_type": "code",
   "execution_count": 7,
   "metadata": {
    "collapsed": true
   },
   "outputs": [
    {
     "data": {
      "text/plain": [
       "[('queen', 0.7154322266578674),\n",
       " ('empress', 0.6414068937301636),\n",
       " ('princess', 0.6256770491600037)]"
      ]
     },
     "execution_count": 7,
     "metadata": {},
     "output_type": "execute_result"
    }
   ],
   "source": [
    "model.most_similar(positive=['woman','king'], negative=['man'], topn=3)"
   ]
  },
  {
   "cell_type": "code",
   "execution_count": 67,
   "metadata": {},
   "outputs": [
    {
     "name": "stderr",
     "output_type": "stream",
     "text": [
      "2017-11-09 15:59:25,552 : INFO : storing 100038x100 projection weights into models/deep_learning/text.model.bin\n"
     ]
    }
   ],
   "source": [
    "# 测试保存和加载词向量模型\n",
    "\n",
    "model.wv.save_word2vec_format('models/deep_learning/text.model.bin', binary=True)"
   ]
  },
  {
   "cell_type": "code",
   "execution_count": 11,
   "metadata": {},
   "outputs": [
    {
     "name": "stderr",
     "output_type": "stream",
     "text": [
      "2017-12-08 03:26:07,816 : INFO : loading projection weights from models/deep_learning/text.model.bin\n",
      "2017-12-08 03:26:08,717 : INFO : loaded (100038, 100) matrix from models/deep_learning/text.model.bin\n"
     ]
    }
   ],
   "source": [
    "import gensim\n",
    "\n",
    "text8_model = gensim.models.KeyedVectors.load_word2vec_format('models/deep_learning/text.model.bin', binary=True)"
   ]
  },
  {
   "cell_type": "code",
   "execution_count": 6,
   "metadata": {
    "collapsed": true
   },
   "outputs": [
    {
     "name": "stderr",
     "output_type": "stream",
     "text": [
      "2017-11-16 10:58:15,125 : INFO : precomputing L2-norms of word weight vectors\n"
     ]
    },
    {
     "data": {
      "text/plain": [
       "[('woman', 0.7156496047973633),\n",
       " ('girl', 0.6739988327026367),\n",
       " ('creature', 0.6172822117805481),\n",
       " ('person', 0.5797319412231445),\n",
       " ('god', 0.5764418244361877),\n",
       " ('soul', 0.5685361623764038),\n",
       " ('evil', 0.5667415857315063),\n",
       " ('demon', 0.5553998947143555),\n",
       " ('humanity', 0.5522022247314453),\n",
       " ('curse', 0.5471194982528687)]"
      ]
     },
     "execution_count": 6,
     "metadata": {},
     "output_type": "execute_result"
    }
   ],
   "source": [
    "text8_model.most_similar(['man'])"
   ]
  },
  {
   "cell_type": "markdown",
   "metadata": {},
   "source": [
    "# 向量化数据"
   ]
  },
  {
   "cell_type": "code",
   "execution_count": 12,
   "metadata": {},
   "outputs": [
    {
     "name": "stdout",
     "output_type": "stream",
     "text": [
      "Found 38983 unique tokens.\n"
     ]
    }
   ],
   "source": [
    "from keras.preprocessing.text import Tokenizer\n",
    "\n",
    "MAX_SEQUENCE_LENGTH = 800  # 每条新闻最大长度\n",
    "EMBEDDING_DIM = 100         # 词向量空间维度\n",
    "\n",
    "tokenizer = Tokenizer(num_words=None,\n",
    "                          filters='!\"#$%&()*+,-./:;<=>?@[\\\\]^_`{|}~\\t\\n',\n",
    "                          lower=True,\n",
    "                          split=\" \",\n",
    "                          char_level=False)\n",
    "# fit on all texts\n",
    "tokenizer.fit_on_texts(newsgroups_data.data)\n",
    "\n",
    "word_index = tokenizer.word_index\n",
    "print('Found %s unique tokens.' % len(word_index))"
   ]
  },
  {
   "cell_type": "code",
   "execution_count": 13,
   "metadata": {},
   "outputs": [
    {
     "name": "stdout",
     "output_type": "stream",
     "text": [
      "Shape of train data tensor: (2374, 800)\n",
      "Shape of train label tensor: (2374, 4)\n",
      "Shape of test data tensor: (1580, 800)\n",
      "Shape of test label tensor: (1580, 4)\n"
     ]
    }
   ],
   "source": [
    "X_train, y_train, X_test, y_test = helper.vectorize_data(tokenizer, \\\n",
    "                                                         newsgroups_data, newsgroups_train, newsgroups_test)"
   ]
  },
  {
   "cell_type": "markdown",
   "metadata": {},
   "source": [
    "# CNN+Word2Vec"
   ]
  },
  {
   "cell_type": "code",
   "execution_count": 14,
   "metadata": {
    "collapsed": true
   },
   "outputs": [],
   "source": [
    "import numpy as np\n",
    "from keras.layers import Embedding\n",
    "\n",
    "embedding_layer = helper.generate_embedding_layer(word_index, text8_model)"
   ]
  },
  {
   "cell_type": "code",
   "execution_count": 43,
   "metadata": {
    "collapsed": true
   },
   "outputs": [
    {
     "name": "stdout",
     "output_type": "stream",
     "text": [
      "Epoch 00001: val_acc improved from -inf to 0.30737, saving model to weights-improvement-01-0.3074.hdf5\n",
      "Epoch 00002: val_acc improved from 0.30737 to 0.46316, saving model to weights-improvement-02-0.4632.hdf5\n",
      "Epoch 00003: val_acc improved from 0.46316 to 0.51368, saving model to weights-improvement-03-0.5137.hdf5\n",
      "Epoch 00004: val_acc improved from 0.51368 to 0.65053, saving model to weights-improvement-04-0.6505.hdf5\n",
      "Epoch 00005: val_acc improved from 0.65053 to 0.75158, saving model to weights-improvement-05-0.7516.hdf5\n",
      "Epoch 00006: val_acc improved from 0.75158 to 0.77684, saving model to weights-improvement-06-0.7768.hdf5\n",
      "Epoch 00007: val_acc improved from 0.77684 to 0.85053, saving model to weights-improvement-07-0.8505.hdf5\n",
      "Epoch 00008: val_acc did not improve\n",
      "Epoch 00009: val_acc did not improve\n",
      "Epoch 00010: val_acc improved from 0.85053 to 0.88421, saving model to weights-improvement-10-0.8842.hdf5\n",
      "Epoch 00011: val_acc did not improve\n",
      "Epoch 00012: val_acc improved from 0.88421 to 0.88842, saving model to weights-improvement-12-0.8884.hdf5\n",
      "Epoch 00013: val_acc improved from 0.88842 to 0.90316, saving model to weights-improvement-13-0.9032.hdf5\n",
      "Epoch 00014: val_acc did not improve\n",
      "Epoch 00015: val_acc did not improve\n",
      "Epoch 00016: val_acc did not improve\n",
      "Epoch 00017: val_acc did not improve\n",
      "Epoch 00018: val_acc did not improve\n",
      "Epoch 00019: val_acc did not improve\n",
      "Epoch 00020: val_acc did not improve\n",
      "Epoch 00021: val_acc did not improve\n",
      "Epoch 00022: val_acc did not improve\n",
      "Epoch 00023: val_acc did not improve\n",
      "Epoch 00024: val_acc did not improve\n",
      "Epoch 00025: val_acc did not improve\n",
      "Epoch 00026: val_acc did not improve\n",
      "Epoch 00027: val_acc did not improve\n",
      "Epoch 00028: val_acc did not improve\n",
      "Epoch 00029: val_acc did not improve\n",
      "Epoch 00030: val_acc did not improve\n",
      "Epoch 00031: val_acc did not improve\n",
      "Epoch 00032: val_acc did not improve\n",
      "Epoch 00033: val_acc did not improve\n",
      "Epoch 00034: val_acc improved from 0.90316 to 0.90526, saving model to weights-improvement-34-0.9053.hdf5\n",
      "Epoch 00035: val_acc did not improve\n",
      "Epoch 00036: val_acc did not improve\n",
      "Epoch 00037: val_acc did not improve\n",
      "Epoch 00038: val_acc did not improve\n",
      "Epoch 00039: val_acc improved from 0.90526 to 0.90947, saving model to weights-improvement-39-0.9095.hdf5\n",
      "Epoch 00040: val_acc did not improve\n",
      "Epoch 00041: val_acc did not improve\n",
      "Epoch 00042: val_acc did not improve\n",
      "Epoch 00043: val_acc did not improve\n",
      "Epoch 00044: val_acc did not improve\n",
      "Epoch 00045: val_acc did not improve\n",
      "Epoch 00046: val_acc improved from 0.90947 to 0.91158, saving model to weights-improvement-46-0.9116.hdf5\n",
      "Epoch 00047: val_acc did not improve\n",
      "Epoch 00048: val_acc did not improve\n",
      "Epoch 00049: val_acc did not improve\n",
      "Epoch 00050: val_acc improved from 0.91158 to 0.91789, saving model to weights-improvement-50-0.9179.hdf5\n"
     ]
    },
    {
     "data": {
      "text/plain": [
       "<keras.callbacks.History at 0x1a46c72470>"
      ]
     },
     "execution_count": 43,
     "metadata": {},
     "output_type": "execute_result"
    }
   ],
   "source": [
    "from keras.callbacks import ModelCheckpoint\n",
    "\n",
    "cnn_model = helper.get_cnn_model(embedding_layer, y_train)\n",
    "\n",
    "# checkpoint\n",
    "filepath=\"weights-improvement-{epoch:02d}-{val_acc:.4f}.hdf5\"\n",
    "checkpoint = ModelCheckpoint(filepath, monitor='val_acc', verbose=1, \n",
    "                             save_best_only=True, mode='max')\n",
    "callbacks_list = [checkpoint]\n",
    "\n",
    "# Fit the model\n",
    "cnn_model.fit(X_train, y_train, validation_split = 0.2, epochs=50, \\\n",
    "              batch_size=128, callbacks=callbacks_list, verbose=0)"
   ]
  },
  {
   "cell_type": "code",
   "execution_count": 44,
   "metadata": {
    "collapsed": true
   },
   "outputs": [
    {
     "name": "stdout",
     "output_type": "stream",
     "text": [
      "Epoch 1/50\n",
      "2374/2374 [==============================] - 12s 5ms/step - loss: 1.8683 - acc: 0.3239\n",
      "Epoch 2/50\n",
      "2374/2374 [==============================] - 12s 5ms/step - loss: 1.3325 - acc: 0.3825\n",
      "Epoch 3/50\n",
      "2374/2374 [==============================] - 12s 5ms/step - loss: 1.2504 - acc: 0.4322\n",
      "Epoch 4/50\n",
      "2374/2374 [==============================] - 12s 5ms/step - loss: 1.1072 - acc: 0.5215\n",
      "Epoch 5/50\n",
      "2374/2374 [==============================] - 12s 5ms/step - loss: 0.8770 - acc: 0.6563\n",
      "Epoch 6/50\n",
      "2374/2374 [==============================] - 12s 5ms/step - loss: 0.7519 - acc: 0.7115\n",
      "Epoch 7/50\n",
      "2374/2374 [==============================] - 13s 5ms/step - loss: 0.6160 - acc: 0.7616\n",
      "Epoch 8/50\n",
      "2374/2374 [==============================] - 12s 5ms/step - loss: 0.5421 - acc: 0.7944\n",
      "Epoch 9/50\n",
      "2374/2374 [==============================] - 11s 5ms/step - loss: 0.5166 - acc: 0.8130\n",
      "Epoch 10/50\n",
      "2374/2374 [==============================] - 12s 5ms/step - loss: 0.4550 - acc: 0.8260\n",
      "Epoch 11/50\n",
      "2374/2374 [==============================] - 12s 5ms/step - loss: 0.4149 - acc: 0.8450\n",
      "Epoch 12/50\n",
      "2374/2374 [==============================] - 12s 5ms/step - loss: 0.4080 - acc: 0.8408\n",
      "Epoch 13/50\n",
      "2374/2374 [==============================] - 12s 5ms/step - loss: 0.3648 - acc: 0.8614\n",
      "Epoch 14/50\n",
      "2374/2374 [==============================] - 12s 5ms/step - loss: 0.3566 - acc: 0.8665\n",
      "Epoch 15/50\n",
      "2374/2374 [==============================] - 11s 5ms/step - loss: 0.3288 - acc: 0.8770\n",
      "Epoch 16/50\n",
      "2374/2374 [==============================] - 12s 5ms/step - loss: 0.3215 - acc: 0.8812\n",
      "Epoch 17/50\n",
      "2374/2374 [==============================] - 11s 5ms/step - loss: 0.2971 - acc: 0.8858\n",
      "Epoch 18/50\n",
      "2374/2374 [==============================] - 12s 5ms/step - loss: 0.3013 - acc: 0.8913\n",
      "Epoch 19/50\n",
      "2374/2374 [==============================] - 12s 5ms/step - loss: 0.3045 - acc: 0.8901\n",
      "Epoch 20/50\n",
      "2374/2374 [==============================] - 12s 5ms/step - loss: 0.2970 - acc: 0.8858\n",
      "Epoch 21/50\n",
      "2374/2374 [==============================] - 12s 5ms/step - loss: 0.2702 - acc: 0.9010\n",
      "Epoch 22/50\n",
      "2374/2374 [==============================] - 11s 5ms/step - loss: 0.2749 - acc: 0.8993\n",
      "Epoch 23/50\n",
      "2374/2374 [==============================] - 11s 5ms/step - loss: 0.2818 - acc: 0.8939\n",
      "Epoch 24/50\n",
      "2374/2374 [==============================] - 11s 5ms/step - loss: 0.2532 - acc: 0.9107\n",
      "Epoch 25/50\n",
      "2374/2374 [==============================] - 12s 5ms/step - loss: 0.2399 - acc: 0.9086\n",
      "Epoch 26/50\n",
      "2374/2374 [==============================] - 11s 5ms/step - loss: 0.2378 - acc: 0.9065\n",
      "Epoch 27/50\n",
      "2374/2374 [==============================] - 12s 5ms/step - loss: 0.2282 - acc: 0.9124\n",
      "Epoch 28/50\n",
      "2374/2374 [==============================] - 11s 5ms/step - loss: 0.2380 - acc: 0.9111\n",
      "Epoch 29/50\n",
      "2374/2374 [==============================] - 12s 5ms/step - loss: 0.2042 - acc: 0.9233\n",
      "Epoch 30/50\n",
      "2374/2374 [==============================] - 12s 5ms/step - loss: 0.2335 - acc: 0.9158\n",
      "Epoch 31/50\n",
      "2374/2374 [==============================] - 12s 5ms/step - loss: 0.2147 - acc: 0.9136\n",
      "Epoch 32/50\n",
      "2374/2374 [==============================] - 12s 5ms/step - loss: 0.2422 - acc: 0.9090\n",
      "Epoch 33/50\n",
      "2374/2374 [==============================] - 12s 5ms/step - loss: 0.2025 - acc: 0.9229\n",
      "Epoch 34/50\n",
      "2374/2374 [==============================] - 12s 5ms/step - loss: 0.2000 - acc: 0.9250\n",
      "Epoch 35/50\n",
      "2374/2374 [==============================] - 11s 5ms/step - loss: 0.1919 - acc: 0.9271\n",
      "Epoch 36/50\n",
      "2374/2374 [==============================] - 12s 5ms/step - loss: 0.1986 - acc: 0.9305\n",
      "Epoch 37/50\n",
      "2374/2374 [==============================] - 11s 5ms/step - loss: 0.2124 - acc: 0.9212\n",
      "Epoch 38/50\n",
      "2374/2374 [==============================] - 12s 5ms/step - loss: 0.1809 - acc: 0.9322\n",
      "Epoch 39/50\n",
      "2374/2374 [==============================] - 12s 5ms/step - loss: 0.1894 - acc: 0.9271\n",
      "Epoch 40/50\n",
      "2374/2374 [==============================] - 12s 5ms/step - loss: 0.1668 - acc: 0.9385\n",
      "Epoch 41/50\n",
      "2374/2374 [==============================] - 12s 5ms/step - loss: 0.1812 - acc: 0.9280\n",
      "Epoch 42/50\n",
      "2374/2374 [==============================] - 12s 5ms/step - loss: 0.1654 - acc: 0.9385\n",
      "Epoch 43/50\n",
      "2374/2374 [==============================] - 11s 5ms/step - loss: 0.1616 - acc: 0.9351\n",
      "Epoch 44/50\n",
      "2374/2374 [==============================] - 12s 5ms/step - loss: 0.1710 - acc: 0.9356\n",
      "Epoch 45/50\n",
      "2374/2374 [==============================] - 12s 5ms/step - loss: 0.1758 - acc: 0.9301\n",
      "Epoch 46/50\n",
      "2374/2374 [==============================] - 12s 5ms/step - loss: 0.1792 - acc: 0.9313\n",
      "Epoch 47/50\n",
      "2374/2374 [==============================] - 12s 5ms/step - loss: 0.1543 - acc: 0.9398\n",
      "Epoch 48/50\n",
      "2374/2374 [==============================] - 12s 5ms/step - loss: 0.1580 - acc: 0.9423\n",
      "Epoch 49/50\n",
      "2374/2374 [==============================] - 11s 5ms/step - loss: 0.1743 - acc: 0.9347\n",
      "Epoch 50/50\n",
      "2374/2374 [==============================] - 12s 5ms/step - loss: 0.1590 - acc: 0.9368\n"
     ]
    },
    {
     "data": {
      "text/plain": [
       "<keras.callbacks.History at 0x1a461f1278>"
      ]
     },
     "execution_count": 44,
     "metadata": {},
     "output_type": "execute_result"
    }
   ],
   "source": [
    "# 通过 ModelCheckpoint 的结果，epochs=50可以训练出最好的模型\n",
    "cnn_model = helper.get_cnn_model(embedding_layer, y_train)\n",
    "cnn_model.fit(X_train, y_train, epochs=50, batch_size=128)"
   ]
  },
  {
   "cell_type": "code",
   "execution_count": 45,
   "metadata": {},
   "outputs": [
    {
     "name": "stdout",
     "output_type": "stream",
     "text": [
      "1580/1580 [==============================] - 3s 2ms/step\n",
      "[0.40519786827926396, 0.88164556946935535]\n"
     ]
    }
   ],
   "source": [
    "print(cnn_model.evaluate(X_test,y_test))"
   ]
  },
  {
   "cell_type": "code",
   "execution_count": 50,
   "metadata": {},
   "outputs": [
    {
     "name": "stdout",
     "output_type": "stream",
     "text": [
      "Saved model to disk\n"
     ]
    }
   ],
   "source": [
    "# serialize model to JSON\n",
    "model_json = cnn_model.to_json()\n",
    "with open(\"models/deep_learning/cnn_model/cnn_model.json\", \"w\") as json_file:\n",
    "    json_file.write(model_json)\n",
    "# serialize weights to HDF5\n",
    "cnn_model.save_weights(\"models/deep_learning/cnn_model/cnn_model.h5\")\n",
    "print(\"Saved model to disk\")"
   ]
  },
  {
   "cell_type": "code",
   "execution_count": 53,
   "metadata": {
    "scrolled": true
   },
   "outputs": [
    {
     "name": "stdout",
     "output_type": "stream",
     "text": [
      "Loaded model from disk\n"
     ]
    }
   ],
   "source": [
    "# 测试保存的模型是否能够被重载并再次使用\n",
    "\n",
    "from keras.models import model_from_json\n",
    "\n",
    "# load json and create model\n",
    "json_file = open('models/deep_learning/cnn_model/cnn_model.json', 'r')\n",
    "loaded_model_json = json_file.read()\n",
    "json_file.close()\n",
    "loaded_model = model_from_json(loaded_model_json)\n",
    "# load weights into new model\n",
    "loaded_model.load_weights(\"models/deep_learning/cnn_model/cnn_model.h5\")\n",
    "print(\"Loaded model from disk\")"
   ]
  },
  {
   "cell_type": "code",
   "execution_count": 55,
   "metadata": {
    "collapsed": true
   },
   "outputs": [
    {
     "name": "stdout",
     "output_type": "stream",
     "text": [
      "1580/1580 [==============================] - 3s 2ms/step\n",
      "[0.40519786827926396, 0.88164556946935535]\n"
     ]
    }
   ],
   "source": [
    "loaded_model.compile(loss='categorical_crossentropy',\n",
    "                     optimizer='rmsprop',\n",
    "                     metrics=['acc'])\n",
    "print(loaded_model.evaluate(X_test,y_test))"
   ]
  },
  {
   "cell_type": "markdown",
   "metadata": {},
   "source": [
    "# LSTM(RNN) + Word2Vec"
   ]
  },
  {
   "cell_type": "code",
   "execution_count": 12,
   "metadata": {
    "collapsed": true
   },
   "outputs": [],
   "source": [
    "from keras.layers import Dense, Input, Flatten, Dropout\n",
    "from keras.layers import LSTM, Embedding\n",
    "from keras.models import Sequential\n",
    "\n",
    "def get_rnn_model():\n",
    "    rnn_model = Sequential()\n",
    "    rnn_model.add(embedding_layer)\n",
    "    rnn_model.add(Dropout(0.2))\n",
    "\n",
    "    rnn_model.add(LSTM(128, activation='tanh', recurrent_activation='hard_sigmoid', \n",
    "                       dropout=0.2, recurrent_dropout=0.2))\n",
    "    \n",
    "    # rnn_model.add(LSTM(128, activation='tanh', recurrent_activation='hard_sigmoid', \n",
    "    #                    dropout=0.3, recurrent_dropout=0.3))\n",
    "    # rnn_model.add(Dropout(0.5))\n",
    "    \n",
    "    # rnn_model.add(LSTM(256,  activation='tanh', recurrent_activation='hard_sigmoid', \n",
    "    #                    dropout=0.2, recurrent_dropout=0.2))\n",
    "    \n",
    "    rnn_model.add(Dropout(0.2))\n",
    "    \n",
    "    rnn_model.add(Dense(y_train.shape[1], activation='softmax'))\n",
    "\n",
    "    rnn_model.compile(loss='categorical_crossentropy',\n",
    "                      optimizer='rmsprop',\n",
    "                      metrics=['acc'])\n",
    "    \n",
    "    return rnn_model"
   ]
  },
  {
   "cell_type": "markdown",
   "metadata": {},
   "source": [
    "### 测试 LSTM cell 为128个的RNN模型"
   ]
  },
  {
   "cell_type": "code",
   "execution_count": 43,
   "metadata": {
    "collapsed": true
   },
   "outputs": [
    {
     "name": "stdout",
     "output_type": "stream",
     "text": [
      "Epoch 00000: val_acc improved from -inf to 0.62947, saving model to weights-improvement-00-0.6295.hdf5\n",
      "Epoch 00001: val_acc improved from 0.62947 to 0.78737, saving model to weights-improvement-01-0.7874.hdf5\n",
      "Epoch 00002: val_acc improved from 0.78737 to 0.81474, saving model to weights-improvement-02-0.8147.hdf5\n",
      "Epoch 00003: val_acc improved from 0.81474 to 0.82526, saving model to weights-improvement-03-0.8253.hdf5\n",
      "Epoch 00004: val_acc improved from 0.82526 to 0.84842, saving model to weights-improvement-04-0.8484.hdf5\n",
      "Epoch 00005: val_acc improved from 0.84842 to 0.85474, saving model to weights-improvement-05-0.8547.hdf5\n",
      "Epoch 00006: val_acc did not improve\n",
      "Epoch 00007: val_acc improved from 0.85474 to 0.86737, saving model to weights-improvement-07-0.8674.hdf5\n",
      "Epoch 00008: val_acc did not improve\n",
      "Epoch 00009: val_acc improved from 0.86737 to 0.89895, saving model to weights-improvement-09-0.8989.hdf5\n",
      "Epoch 00010: val_acc improved from 0.89895 to 0.90105, saving model to weights-improvement-10-0.9011.hdf5\n",
      "Epoch 00011: val_acc did not improve\n",
      "Epoch 00012: val_acc did not improve\n",
      "Epoch 00013: val_acc did not improve\n",
      "Epoch 00014: val_acc did not improve\n",
      "Epoch 00015: val_acc did not improve\n",
      "Epoch 00016: val_acc did not improve\n",
      "Epoch 00017: val_acc improved from 0.90105 to 0.90737, saving model to weights-improvement-17-0.9074.hdf5\n",
      "Epoch 00018: val_acc did not improve\n",
      "Epoch 00019: val_acc did not improve\n",
      "Epoch 00020: val_acc did not improve\n",
      "Epoch 00021: val_acc improved from 0.90737 to 0.90737, saving model to weights-improvement-21-0.9074.hdf5\n",
      "Epoch 00022: val_acc did not improve\n",
      "Epoch 00023: val_acc improved from 0.90737 to 0.90737, saving model to weights-improvement-23-0.9074.hdf5\n",
      "Epoch 00024: val_acc did not improve\n",
      "Epoch 00025: val_acc did not improve\n",
      "Epoch 00026: val_acc did not improve\n",
      "Epoch 00027: val_acc did not improve\n",
      "Epoch 00028: val_acc did not improve\n",
      "Epoch 00029: val_acc did not improve\n",
      "Epoch 00030: val_acc did not improve\n",
      "Epoch 00031: val_acc did not improve\n",
      "Epoch 00032: val_acc did not improve\n",
      "Epoch 00033: val_acc did not improve\n",
      "Epoch 00034: val_acc did not improve\n",
      "Epoch 00035: val_acc did not improve\n",
      "Epoch 00036: val_acc did not improve\n",
      "Epoch 00037: val_acc did not improve\n",
      "Epoch 00038: val_acc did not improve\n",
      "Epoch 00039: val_acc did not improve\n",
      "Epoch 00040: val_acc did not improve\n",
      "Epoch 00041: val_acc did not improve\n",
      "Epoch 00042: val_acc improved from 0.90737 to 0.91368, saving model to weights-improvement-42-0.9137.hdf5\n",
      "Epoch 00043: val_acc did not improve\n",
      "Epoch 00044: val_acc improved from 0.91368 to 0.91579, saving model to weights-improvement-44-0.9158.hdf5\n",
      "Epoch 00045: val_acc did not improve\n",
      "Epoch 00046: val_acc did not improve\n",
      "Epoch 00047: val_acc did not improve\n",
      "Epoch 00048: val_acc did not improve\n",
      "Epoch 00049: val_acc did not improve\n"
     ]
    },
    {
     "data": {
      "text/plain": [
       "<keras.callbacks.History at 0x12c03aac8>"
      ]
     },
     "execution_count": 43,
     "metadata": {},
     "output_type": "execute_result"
    }
   ],
   "source": [
    "# 测试 LSTM cell较少的RNN模型，128个\n",
    "\n",
    "from keras.callbacks import ModelCheckpoint\n",
    "\n",
    "simple_rnn_model = get_rnn_model()\n",
    "\n",
    "# checkpoint\n",
    "filepath=\"weights-improvement-{epoch:02d}-{val_acc:.4f}.hdf5\"\n",
    "checkpoint = ModelCheckpoint(filepath, monitor='val_acc', verbose=1, \n",
    "                             save_best_only=True, mode='max')\n",
    "callbacks_list = [checkpoint]\n",
    "\n",
    "# Fit the model\n",
    "simple_rnn_model.fit(X_train, y_train, validation_split = 0.2, epochs=50, \\\n",
    "                     batch_size=128, callbacks=callbacks_list, verbose=0)"
   ]
  },
  {
   "cell_type": "code",
   "execution_count": 13,
   "metadata": {
    "collapsed": true
   },
   "outputs": [
    {
     "name": "stdout",
     "output_type": "stream",
     "text": [
      "Epoch 1/44\n",
      "2374/2374 [==============================] - 32s 14ms/step - loss: 1.1637 - acc: 0.4949\n",
      "Epoch 2/44\n",
      "2374/2374 [==============================] - 32s 14ms/step - loss: 0.8135 - acc: 0.6862\n",
      "Epoch 3/44\n",
      "2374/2374 [==============================] - 33s 14ms/step - loss: 0.6927 - acc: 0.7422\n",
      "Epoch 4/44\n",
      "2374/2374 [==============================] - 31s 13ms/step - loss: 0.6302 - acc: 0.7641\n",
      "Epoch 5/44\n",
      "2374/2374 [==============================] - 30s 13ms/step - loss: 0.5920 - acc: 0.7784\n",
      "Epoch 6/44\n",
      "2374/2374 [==============================] - 31s 13ms/step - loss: 0.5129 - acc: 0.8151\n",
      "Epoch 7/44\n",
      "2374/2374 [==============================] - 31s 13ms/step - loss: 0.5204 - acc: 0.8159\n",
      "Epoch 8/44\n",
      "2374/2374 [==============================] - 31s 13ms/step - loss: 0.4702 - acc: 0.8281\n",
      "Epoch 9/44\n",
      "2374/2374 [==============================] - 31s 13ms/step - loss: 0.4063 - acc: 0.8530\n",
      "Epoch 10/44\n",
      "2374/2374 [==============================] - 31s 13ms/step - loss: 0.4083 - acc: 0.8568\n",
      "Epoch 11/44\n",
      "2374/2374 [==============================] - 32s 13ms/step - loss: 0.3956 - acc: 0.8648\n",
      "Epoch 12/44\n",
      "2374/2374 [==============================] - 32s 14ms/step - loss: 0.3850 - acc: 0.8707\n",
      "Epoch 13/44\n",
      "2374/2374 [==============================] - 32s 14ms/step - loss: 0.3584 - acc: 0.8736\n",
      "Epoch 14/44\n",
      "2374/2374 [==============================] - 32s 14ms/step - loss: 0.3538 - acc: 0.8821\n",
      "Epoch 15/44\n",
      "2374/2374 [==============================] - 32s 13ms/step - loss: 0.3248 - acc: 0.8799\n",
      "Epoch 16/44\n",
      "2374/2374 [==============================] - 32s 13ms/step - loss: 0.3102 - acc: 0.8905\n",
      "Epoch 17/44\n",
      "2374/2374 [==============================] - 32s 13ms/step - loss: 0.3122 - acc: 0.8960\n",
      "Epoch 18/44\n",
      "2374/2374 [==============================] - 31s 13ms/step - loss: 0.2681 - acc: 0.9065\n",
      "Epoch 19/44\n",
      "2374/2374 [==============================] - 32s 14ms/step - loss: 0.2741 - acc: 0.9103\n",
      "Epoch 20/44\n",
      "2374/2374 [==============================] - 31s 13ms/step - loss: 0.2588 - acc: 0.9065\n",
      "Epoch 21/44\n",
      "2374/2374 [==============================] - 31s 13ms/step - loss: 0.2703 - acc: 0.9061\n",
      "Epoch 22/44\n",
      "2374/2374 [==============================] - 31s 13ms/step - loss: 0.2541 - acc: 0.9107\n",
      "Epoch 23/44\n",
      "2374/2374 [==============================] - 32s 14ms/step - loss: 0.2284 - acc: 0.9195\n",
      "Epoch 24/44\n",
      "2374/2374 [==============================] - 31s 13ms/step - loss: 0.2154 - acc: 0.9238\n",
      "Epoch 25/44\n",
      "2374/2374 [==============================] - 31s 13ms/step - loss: 0.2275 - acc: 0.9200\n",
      "Epoch 26/44\n",
      "2374/2374 [==============================] - 31s 13ms/step - loss: 0.2240 - acc: 0.9242\n",
      "Epoch 27/44\n",
      "2374/2374 [==============================] - 31s 13ms/step - loss: 0.1981 - acc: 0.9318\n",
      "Epoch 28/44\n",
      "2374/2374 [==============================] - 31s 13ms/step - loss: 0.2064 - acc: 0.9263\n",
      "Epoch 29/44\n",
      "2374/2374 [==============================] - 31s 13ms/step - loss: 0.2144 - acc: 0.9191\n",
      "Epoch 30/44\n",
      "2374/2374 [==============================] - 31s 13ms/step - loss: 0.1916 - acc: 0.9322\n",
      "Epoch 31/44\n",
      "2374/2374 [==============================] - 31s 13ms/step - loss: 0.1856 - acc: 0.9351\n",
      "Epoch 32/44\n",
      "2374/2374 [==============================] - 31s 13ms/step - loss: 0.1708 - acc: 0.9385\n",
      "Epoch 33/44\n",
      "2374/2374 [==============================] - 31s 13ms/step - loss: 0.1723 - acc: 0.9372\n",
      "Epoch 34/44\n",
      "2374/2374 [==============================] - 31s 13ms/step - loss: 0.1566 - acc: 0.9423\n",
      "Epoch 35/44\n",
      "2374/2374 [==============================] - 31s 13ms/step - loss: 0.1728 - acc: 0.9372\n",
      "Epoch 36/44\n",
      "2374/2374 [==============================] - 32s 14ms/step - loss: 0.1515 - acc: 0.9465\n",
      "Epoch 37/44\n",
      "2374/2374 [==============================] - 32s 14ms/step - loss: 0.1463 - acc: 0.9448\n",
      "Epoch 38/44\n",
      "2374/2374 [==============================] - 31s 13ms/step - loss: 0.1441 - acc: 0.9478\n",
      "Epoch 39/44\n",
      "2374/2374 [==============================] - 32s 13ms/step - loss: 0.1427 - acc: 0.9482\n",
      "Epoch 40/44\n",
      "2374/2374 [==============================] - 33s 14ms/step - loss: 0.1426 - acc: 0.9465\n",
      "Epoch 41/44\n",
      "2374/2374 [==============================] - 32s 13ms/step - loss: 0.1359 - acc: 0.9507\n",
      "Epoch 42/44\n",
      "2374/2374 [==============================] - 32s 13ms/step - loss: 0.1206 - acc: 0.9532\n",
      "Epoch 43/44\n",
      "2374/2374 [==============================] - 32s 13ms/step - loss: 0.1269 - acc: 0.9549\n",
      "Epoch 44/44\n",
      "2374/2374 [==============================] - 32s 13ms/step - loss: 0.1215 - acc: 0.9541\n"
     ]
    },
    {
     "data": {
      "text/plain": [
       "<keras.callbacks.History at 0x1a2e4bd6a0>"
      ]
     },
     "execution_count": 13,
     "metadata": {},
     "output_type": "execute_result"
    }
   ],
   "source": [
    "# 通过 ModelCheckpoint 的结果，epochs=44可以训练出最好的模型\n",
    "simple_rnn_model = get_rnn_model()\n",
    "simple_rnn_model.fit(X_train, y_train, epochs=44, batch_size=128)"
   ]
  },
  {
   "cell_type": "code",
   "execution_count": 14,
   "metadata": {},
   "outputs": [
    {
     "name": "stdout",
     "output_type": "stream",
     "text": [
      "1580/1580 [==============================] - 9s 6ms/step\n",
      "[0.38230368514792828, 0.89430379746835442]\n"
     ]
    }
   ],
   "source": [
    "print(simple_rnn_model.evaluate(X_test,y_test))"
   ]
  },
  {
   "cell_type": "code",
   "execution_count": 35,
   "metadata": {},
   "outputs": [
    {
     "name": "stdout",
     "output_type": "stream",
     "text": [
      "Saved model to disk\n"
     ]
    }
   ],
   "source": [
    "# serialize model to JSON\n",
    "rnn_model_json = simple_rnn_model.to_json()\n",
    "with open(\"models/deep_learning/rnn_model/rnn_model.json\", \"w\") as json_file:\n",
    "    json_file.write(rnn_model_json)\n",
    "# serialize weights to HDF5\n",
    "simple_rnn_model.save_weights(\"models/deep_learning/rnn_model/rnn_model.h5\")\n",
    "print(\"Saved model to disk\")"
   ]
  },
  {
   "cell_type": "markdown",
   "metadata": {},
   "source": [
    "### 测试LSTM cell为256个的模型"
   ]
  },
  {
   "cell_type": "code",
   "execution_count": 60,
   "metadata": {
    "collapsed": true
   },
   "outputs": [
    {
     "name": "stdout",
     "output_type": "stream",
     "text": [
      "Epoch 00001: val_acc improved from -inf to 0.70526, saving model to weights-improvement-01-0.7053.hdf5\n",
      "Epoch 00002: val_acc improved from 0.70526 to 0.77684, saving model to weights-improvement-02-0.7768.hdf5\n",
      "Epoch 00003: val_acc did not improve\n",
      "Epoch 00004: val_acc improved from 0.77684 to 0.84842, saving model to weights-improvement-04-0.8484.hdf5\n",
      "Epoch 00005: val_acc did not improve\n",
      "Epoch 00006: val_acc did not improve\n",
      "Epoch 00007: val_acc improved from 0.84842 to 0.86105, saving model to weights-improvement-07-0.8611.hdf5\n",
      "Epoch 00008: val_acc improved from 0.86105 to 0.87789, saving model to weights-improvement-08-0.8779.hdf5\n",
      "Epoch 00009: val_acc did not improve\n",
      "Epoch 00010: val_acc did not improve\n",
      "Epoch 00011: val_acc did not improve\n",
      "Epoch 00012: val_acc improved from 0.87789 to 0.89895, saving model to weights-improvement-12-0.8989.hdf5\n",
      "Epoch 00013: val_acc did not improve\n",
      "Epoch 00014: val_acc did not improve\n",
      "Epoch 00015: val_acc did not improve\n",
      "Epoch 00016: val_acc did not improve\n",
      "Epoch 00017: val_acc did not improve\n",
      "Epoch 00018: val_acc did not improve\n",
      "Epoch 00019: val_acc improved from 0.89895 to 0.90737, saving model to weights-improvement-19-0.9074.hdf5\n",
      "Epoch 00020: val_acc did not improve\n",
      "Epoch 00021: val_acc did not improve\n",
      "Epoch 00022: val_acc did not improve\n",
      "Epoch 00023: val_acc did not improve\n",
      "Epoch 00024: val_acc did not improve\n",
      "Epoch 00025: val_acc did not improve\n",
      "Epoch 00026: val_acc did not improve\n",
      "Epoch 00027: val_acc did not improve\n",
      "Epoch 00028: val_acc did not improve\n",
      "Epoch 00029: val_acc did not improve\n",
      "Epoch 00030: val_acc did not improve\n",
      "Epoch 00031: val_acc did not improve\n",
      "Epoch 00032: val_acc did not improve\n",
      "Epoch 00033: val_acc did not improve\n",
      "Epoch 00034: val_acc did not improve\n",
      "Epoch 00035: val_acc did not improve\n",
      "Epoch 00036: val_acc did not improve\n",
      "Epoch 00037: val_acc did not improve\n",
      "Epoch 00038: val_acc did not improve\n",
      "Epoch 00039: val_acc did not improve\n",
      "Epoch 00040: val_acc did not improve\n",
      "Epoch 00041: val_acc did not improve\n",
      "Epoch 00042: val_acc did not improve\n",
      "Epoch 00043: val_acc did not improve\n",
      "Epoch 00044: val_acc did not improve\n",
      "Epoch 00045: val_acc did not improve\n",
      "Epoch 00046: val_acc did not improve\n",
      "Epoch 00047: val_acc did not improve\n",
      "Epoch 00048: val_acc improved from 0.90737 to 0.91579, saving model to weights-improvement-48-0.9158.hdf5\n",
      "Epoch 00049: val_acc did not improve\n",
      "Epoch 00050: val_acc did not improve\n"
     ]
    },
    {
     "data": {
      "text/plain": [
       "<keras.callbacks.History at 0x1a53cfdd30>"
      ]
     },
     "execution_count": 60,
     "metadata": {},
     "output_type": "execute_result"
    }
   ],
   "source": [
    "# RNN模型中有256个LSTM cell\n",
    "\n",
    "from keras.callbacks import ModelCheckpoint\n",
    "\n",
    "rnn_model = get_rnn_model()\n",
    "\n",
    "# checkpoint\n",
    "filepath=\"weights-improvement-{epoch:02d}-{val_acc:.4f}.hdf5\"\n",
    "checkpoint = ModelCheckpoint(filepath, monitor='val_acc', verbose=1, \n",
    "                             save_best_only=True, mode='max')\n",
    "callbacks_list = [checkpoint]\n",
    "\n",
    "# Fit the model\n",
    "rnn_model.fit(X_train, y_train, validation_split = 0.2, epochs=50, \\\n",
    "              batch_size=128, callbacks=callbacks_list, verbose=0)"
   ]
  },
  {
   "cell_type": "code",
   "execution_count": null,
   "metadata": {
    "collapsed": true
   },
   "outputs": [
    {
     "name": "stdout",
     "output_type": "stream",
     "text": [
      "Epoch 1/48\n",
      "2374/2374 [==============================] - 77s 33ms/step - loss: 1.1539 - acc: 0.5088\n",
      "Epoch 2/48\n",
      "2374/2374 [==============================] - 74s 31ms/step - loss: 0.8357 - acc: 0.6723\n",
      "Epoch 3/48\n",
      "2374/2374 [==============================] - 77s 32ms/step - loss: 0.6541 - acc: 0.7616\n",
      "Epoch 4/48\n",
      "2374/2374 [==============================] - 75s 32ms/step - loss: 0.6112 - acc: 0.7818\n",
      "Epoch 5/48\n",
      "2374/2374 [==============================] - 77s 32ms/step - loss: 0.5399 - acc: 0.8147\n",
      "Epoch 6/48\n",
      "2374/2374 [==============================] - 74s 31ms/step - loss: 0.5010 - acc: 0.8260\n",
      "Epoch 7/48\n",
      "2374/2374 [==============================] - 74s 31ms/step - loss: 0.4963 - acc: 0.8298\n",
      "Epoch 8/48\n",
      "2374/2374 [==============================] - 73s 31ms/step - loss: 0.4294 - acc: 0.8551\n",
      "Epoch 9/48\n",
      "2374/2374 [==============================] - 73s 31ms/step - loss: 0.4183 - acc: 0.8631\n",
      "Epoch 10/48\n",
      "2374/2374 [==============================] - 73s 31ms/step - loss: 0.4056 - acc: 0.8703\n",
      "Epoch 11/48\n",
      "2374/2374 [==============================] - 73s 31ms/step - loss: 0.3799 - acc: 0.8656\n",
      "Epoch 12/48\n",
      "2374/2374 [==============================] - 73s 31ms/step - loss: 0.3583 - acc: 0.8787\n",
      "Epoch 13/48\n",
      "2374/2374 [==============================] - 73s 31ms/step - loss: 0.3470 - acc: 0.8812\n",
      "Epoch 14/48\n",
      "2374/2374 [==============================] - 73s 31ms/step - loss: 0.2992 - acc: 0.8917\n",
      "Epoch 15/48\n",
      "2374/2374 [==============================] - 73s 31ms/step - loss: 0.3213 - acc: 0.8829\n",
      "Epoch 16/48\n",
      "2374/2374 [==============================] - 74s 31ms/step - loss: 0.2958 - acc: 0.8960\n",
      "Epoch 17/48\n",
      "2374/2374 [==============================] - 73s 31ms/step - loss: 0.2916 - acc: 0.8943\n",
      "Epoch 18/48\n",
      "2374/2374 [==============================] - 75s 32ms/step - loss: 0.2763 - acc: 0.9010\n",
      "Epoch 19/48\n",
      "2374/2374 [==============================] - 76s 32ms/step - loss: 0.2345 - acc: 0.9141\n",
      "Epoch 20/48\n",
      "2374/2374 [==============================] - 76s 32ms/step - loss: 0.2458 - acc: 0.9111\n",
      "Epoch 21/48\n",
      "2374/2374 [==============================] - 78s 33ms/step - loss: 0.2288 - acc: 0.9221\n",
      "Epoch 22/48\n",
      "2374/2374 [==============================] - 76s 32ms/step - loss: 0.2175 - acc: 0.9280\n",
      "Epoch 23/48\n",
      "2374/2374 [==============================] - 76s 32ms/step - loss: 0.2103 - acc: 0.9292\n",
      "Epoch 24/48\n",
      "2374/2374 [==============================] - 77s 32ms/step - loss: 0.1877 - acc: 0.9343\n",
      "Epoch 25/48\n",
      "2374/2374 [==============================] - 77s 33ms/step - loss: 0.1799 - acc: 0.9364\n",
      "Epoch 26/48\n",
      "2374/2374 [==============================] - 75s 32ms/step - loss: 0.1954 - acc: 0.9309\n",
      "Epoch 27/48\n",
      "2374/2374 [==============================] - 76s 32ms/step - loss: 0.1767 - acc: 0.9377\n",
      "Epoch 28/48\n",
      "2374/2374 [==============================] - 77s 32ms/step - loss: 0.1617 - acc: 0.9398\n",
      "Epoch 29/48\n",
      "2374/2374 [==============================] - 76s 32ms/step - loss: 0.1513 - acc: 0.9423\n",
      "Epoch 30/48\n",
      "1664/2374 [====================>.........] - ETA: 22s - loss: 0.1586 - acc: 0.9357"
     ]
    }
   ],
   "source": [
    "# 通过 ModelCheckpoint 的结果，epochs=48可以训练出最好的模型\n",
    "rnn_model = get_rnn_model()\n",
    "rnn_model.fit(X_train, y_train, epochs=48, batch_size=128)"
   ]
  },
  {
   "cell_type": "code",
   "execution_count": 23,
   "metadata": {},
   "outputs": [
    {
     "name": "stdout",
     "output_type": "stream",
     "text": [
      "1580/1580 [==============================] - 25s 16ms/step\n",
      "[0.35807295835848096, 0.88291139240506333]\n"
     ]
    }
   ],
   "source": [
    "print(rnn_model.evaluate(X_test,y_test))"
   ]
  },
  {
   "cell_type": "markdown",
   "metadata": {},
   "source": [
    "### 继续探索LSTM cell为128个的模型"
   ]
  },
  {
   "cell_type": "code",
   "execution_count": 24,
   "metadata": {
    "collapsed": true
   },
   "outputs": [
    {
     "name": "stdout",
     "output_type": "stream",
     "text": [
      "Epoch 00001: val_acc improved from -inf to 0.58737, saving model to weights-improvement-01-0.5874.hdf5\n",
      "Epoch 00002: val_acc improved from 0.58737 to 0.67368, saving model to weights-improvement-02-0.6737.hdf5\n",
      "Epoch 00003: val_acc improved from 0.67368 to 0.74105, saving model to weights-improvement-03-0.7411.hdf5\n",
      "Epoch 00004: val_acc improved from 0.74105 to 0.77895, saving model to weights-improvement-04-0.7789.hdf5\n",
      "Epoch 00005: val_acc improved from 0.77895 to 0.77895, saving model to weights-improvement-05-0.7789.hdf5\n",
      "Epoch 00006: val_acc improved from 0.77895 to 0.81684, saving model to weights-improvement-06-0.8168.hdf5\n",
      "Epoch 00007: val_acc improved from 0.81684 to 0.84842, saving model to weights-improvement-07-0.8484.hdf5\n",
      "Epoch 00008: val_acc did not improve\n",
      "Epoch 00009: val_acc improved from 0.84842 to 0.85053, saving model to weights-improvement-09-0.8505.hdf5\n",
      "Epoch 00010: val_acc did not improve\n",
      "Epoch 00011: val_acc did not improve\n",
      "Epoch 00012: val_acc improved from 0.85053 to 0.86105, saving model to weights-improvement-12-0.8611.hdf5\n",
      "Epoch 00013: val_acc improved from 0.86105 to 0.87789, saving model to weights-improvement-13-0.8779.hdf5\n",
      "Epoch 00014: val_acc did not improve\n",
      "Epoch 00015: val_acc did not improve\n",
      "Epoch 00016: val_acc did not improve\n",
      "Epoch 00017: val_acc did not improve\n",
      "Epoch 00018: val_acc did not improve\n",
      "Epoch 00019: val_acc did not improve\n",
      "Epoch 00020: val_acc improved from 0.87789 to 0.88421, saving model to weights-improvement-20-0.8842.hdf5\n",
      "Epoch 00021: val_acc did not improve\n",
      "Epoch 00022: val_acc improved from 0.88421 to 0.89474, saving model to weights-improvement-22-0.8947.hdf5\n",
      "Epoch 00023: val_acc did not improve\n",
      "Epoch 00024: val_acc did not improve\n",
      "Epoch 00025: val_acc did not improve\n",
      "Epoch 00026: val_acc did not improve\n",
      "Epoch 00027: val_acc improved from 0.89474 to 0.90105, saving model to weights-improvement-27-0.9011.hdf5\n",
      "Epoch 00028: val_acc did not improve\n",
      "Epoch 00029: val_acc did not improve\n",
      "Epoch 00030: val_acc did not improve\n",
      "Epoch 00031: val_acc improved from 0.90105 to 0.90316, saving model to weights-improvement-31-0.9032.hdf5\n",
      "Epoch 00032: val_acc did not improve\n",
      "Epoch 00033: val_acc did not improve\n",
      "Epoch 00034: val_acc did not improve\n",
      "Epoch 00035: val_acc did not improve\n",
      "Epoch 00036: val_acc improved from 0.90316 to 0.90737, saving model to weights-improvement-36-0.9074.hdf5\n",
      "Epoch 00037: val_acc did not improve\n",
      "Epoch 00038: val_acc did not improve\n",
      "Epoch 00039: val_acc did not improve\n",
      "Epoch 00040: val_acc improved from 0.90737 to 0.91579, saving model to weights-improvement-40-0.9158.hdf5\n",
      "Epoch 00041: val_acc did not improve\n",
      "Epoch 00042: val_acc did not improve\n",
      "Epoch 00043: val_acc did not improve\n",
      "Epoch 00044: val_acc did not improve\n",
      "Epoch 00045: val_acc did not improve\n",
      "Epoch 00046: val_acc did not improve\n",
      "Epoch 00047: val_acc did not improve\n",
      "Epoch 00048: val_acc did not improve\n",
      "Epoch 00049: val_acc did not improve\n",
      "Epoch 00050: val_acc did not improve\n"
     ]
    },
    {
     "data": {
      "text/plain": [
       "<keras.callbacks.History at 0x1a438a1cc0>"
      ]
     },
     "execution_count": 24,
     "metadata": {},
     "output_type": "execute_result"
    }
   ],
   "source": [
    "from keras.callbacks import ModelCheckpoint\n",
    "\n",
    "simple_rnn_model_2 = get_rnn_model()\n",
    "\n",
    "# checkpoint\n",
    "filepath=\"weights-improvement-{epoch:02d}-{val_acc:.4f}.hdf5\"\n",
    "checkpoint = ModelCheckpoint(filepath, monitor='val_acc', verbose=1, \n",
    "                             save_best_only=True, mode='max')\n",
    "callbacks_list = [checkpoint]\n",
    "\n",
    "# Fit the model\n",
    "simple_rnn_model_2.fit(X_train, y_train, validation_split = 0.2, epochs=50, \\\n",
    "                       batch_size=128, callbacks=callbacks_list, verbose=0)"
   ]
  },
  {
   "cell_type": "code",
   "execution_count": null,
   "metadata": {
    "collapsed": true
   },
   "outputs": [],
   "source": [
    "# 通过 ModelCheckpoint 的结果，epochs=40可以训练出最好的模型\n",
    "simple_rnn_model_2 = get_rnn_model()\n",
    "simple_rnn_model_2.fit(X_train, y_train, epochs=40, batch_size=128)"
   ]
  },
  {
   "cell_type": "code",
   "execution_count": 27,
   "metadata": {},
   "outputs": [
    {
     "name": "stdout",
     "output_type": "stream",
     "text": [
      "1580/1580 [==============================] - 9s 6ms/step\n",
      "[0.35345583239782458, 0.89113924050632909]\n"
     ]
    }
   ],
   "source": [
    "print(simple_rnn_model_2.evaluate(X_test,y_test))"
   ]
  },
  {
   "cell_type": "markdown",
   "metadata": {},
   "source": [
    "### 记录卷积神经网络的学习曲线，寻找更好的epoch"
   ]
  },
  {
   "cell_type": "code",
   "execution_count": 15,
   "metadata": {
    "collapsed": true
   },
   "outputs": [],
   "source": [
    "cnn_model = helper.get_cnn_model(embedding_layer, y_train)\n",
    "\n",
    "history = cnn_model.fit(X_train, y_train, validation_split = 0.2, epochs=50, \\\n",
    "                        batch_size=128, verbose=0)"
   ]
  },
  {
   "cell_type": "code",
   "execution_count": 16,
   "metadata": {},
   "outputs": [
    {
     "name": "stdout",
     "output_type": "stream",
     "text": [
      "dict_keys(['val_loss', 'val_acc', 'loss', 'acc'])\n"
     ]
    }
   ],
   "source": [
    "print(history.history.keys())"
   ]
  },
  {
   "cell_type": "code",
   "execution_count": 58,
   "metadata": {
    "collapsed": true
   },
   "outputs": [
    {
     "data": {
      "text/plain": [
       "[0.89684210689444288,\n",
       " 0.888421054262864,\n",
       " 0.90315789586619322,\n",
       " 0.88210526504014664,\n",
       " 0.89473684373654816,\n",
       " 0.89473684361106476,\n",
       " 0.90315789599167673,\n",
       " 0.90315789636812716]"
      ]
     },
     "execution_count": 58,
     "metadata": {},
     "output_type": "execute_result"
    }
   ],
   "source": [
    "history.history['val_acc'][10:18]"
   ]
  },
  {
   "cell_type": "code",
   "execution_count": 59,
   "metadata": {
    "collapsed": true
   },
   "outputs": [
    {
     "data": {
      "text/plain": [
       "[0.29485621998184608,\n",
       " 0.35605605865779677,\n",
       " 0.31848961390947039,\n",
       " 0.37608345132125054,\n",
       " 0.33130517005920412,\n",
       " 0.37729367469486436,\n",
       " 0.29123197197914125,\n",
       " 0.29378827804013302]"
      ]
     },
     "execution_count": 59,
     "metadata": {},
     "output_type": "execute_result"
    }
   ],
   "source": [
    "history.history['val_loss'][10:18]"
   ]
  },
  {
   "cell_type": "code",
   "execution_count": 25,
   "metadata": {},
   "outputs": [
    {
     "data": {
      "image/png": "[encoded data removed]",
      "text/plain": [
       "<matplotlib.figure.Figure at 0x12aa65438>"
      ]
     },
     "metadata": {},
     "output_type": "display_data"
    }
   ],
   "source": [
    "import visualizer\n",
    "\n",
    "visualizer.plot_accuracy(history)"
   ]
  },
  {
   "cell_type": "code",
   "execution_count": 29,
   "metadata": {},
   "outputs": [
    {
     "data": {
      "image/png": "[encoded data removed]",
      "text/plain": [
       "<matplotlib.figure.Figure at 0x12565e1d0>"
      ]
     },
     "metadata": {},
     "output_type": "display_data"
    }
   ],
   "source": [
    "# summarize history for loss\n",
    "visualizer.plot_loss(history)"
   ]
  },
  {
   "cell_type": "code",
   "execution_count": 60,
   "metadata": {
    "collapsed": true
   },
   "outputs": [
    {
     "name": "stdout",
     "output_type": "stream",
     "text": [
      "Epoch 1/17\n",
      "2374/2374 [==============================] - 11s - loss: 1.3405 - acc: 0.3534    \n",
      "Epoch 2/17\n",
      "2374/2374 [==============================] - 11s - loss: 1.0069 - acc: 0.5670    \n",
      "Epoch 3/17\n",
      "2374/2374 [==============================] - 11s - loss: 0.5835 - acc: 0.8020    \n",
      "Epoch 4/17\n",
      "2374/2374 [==============================] - 11s - loss: 0.3965 - acc: 0.8551    \n",
      "Epoch 5/17\n",
      "2374/2374 [==============================] - 11s - loss: 0.3536 - acc: 0.8677    \n",
      "Epoch 6/17\n",
      "2374/2374 [==============================] - 11s - loss: 0.3374 - acc: 0.8762    \n",
      "Epoch 7/17\n",
      "2374/2374 [==============================] - 11s - loss: 0.2854 - acc: 0.8993    \n",
      "Epoch 8/17\n",
      "2374/2374 [==============================] - 11s - loss: 0.2795 - acc: 0.8993    \n",
      "Epoch 9/17\n",
      "2374/2374 [==============================] - 11s - loss: 0.2528 - acc: 0.9019    \n",
      "Epoch 10/17\n",
      "2374/2374 [==============================] - 11s - loss: 0.2502 - acc: 0.9090    \n",
      "Epoch 11/17\n",
      "2374/2374 [==============================] - 11s - loss: 0.2411 - acc: 0.9099    \n",
      "Epoch 12/17\n",
      "2374/2374 [==============================] - 11s - loss: 0.2097 - acc: 0.9225    \n",
      "Epoch 13/17\n",
      "2374/2374 [==============================] - 11s - loss: 0.2175 - acc: 0.9217    \n",
      "Epoch 14/17\n",
      "2374/2374 [==============================] - 11s - loss: 0.2135 - acc: 0.9208    \n",
      "Epoch 15/17\n",
      "2374/2374 [==============================] - 11s - loss: 0.2077 - acc: 0.9254    \n",
      "Epoch 16/17\n",
      "2374/2374 [==============================] - 11s - loss: 0.1780 - acc: 0.9356    \n",
      "Epoch 17/17\n",
      "2374/2374 [==============================] - 11s - loss: 0.1819 - acc: 0.9292    \n"
     ]
    },
    {
     "data": {
      "text/plain": [
       "<keras.callbacks.History at 0x12ee7a5f8>"
      ]
     },
     "execution_count": 60,
     "metadata": {},
     "output_type": "execute_result"
    }
   ],
   "source": [
    "# 综合分析val_acc和val_test，epochs=17可以训练出最好的模型\n",
    "cnn_model = helper.get_cnn_model(embedding_layer, y_train)\n",
    "cnn_model.fit(X_train, y_train, epochs=17, batch_size=128)"
   ]
  },
  {
   "cell_type": "code",
   "execution_count": 61,
   "metadata": {},
   "outputs": [
    {
     "name": "stdout",
     "output_type": "stream",
     "text": [
      "1568/1580 [============================>.] - ETA: 0s[0.38855008426346355, 0.89240506344203707]\n"
     ]
    }
   ],
   "source": [
    "print(cnn_model.evaluate(X_test,y_test))"
   ]
  },
  {
   "cell_type": "code",
   "execution_count": 62,
   "metadata": {},
   "outputs": [
    {
     "name": "stdout",
     "output_type": "stream",
     "text": [
      "Saved model to disk\n"
     ]
    }
   ],
   "source": [
    "# serialize model to JSON\n",
    "model_json = cnn_model.to_json()\n",
    "with open(\"models/deep_learning/cnn_model/cnn_model.json\", \"w\") as json_file:\n",
    "    json_file.write(model_json)\n",
    "# serialize weights to HDF5\n",
    "cnn_model.save_weights(\"models/deep_learning/cnn_model/cnn_model.h5\")\n",
    "print(\"Saved model to disk\")"
   ]
  },
  {
   "cell_type": "markdown",
   "metadata": {},
   "source": [
    "### 记录循环神经网络的学习曲线，寻找更好的epoch"
   ]
  },
  {
   "cell_type": "code",
   "execution_count": 34,
   "metadata": {
    "collapsed": true
   },
   "outputs": [],
   "source": [
    "rnn_model = get_rnn_model()\n",
    "\n",
    "# Fit the model\n",
    "rnn_history = rnn_model.fit(X_train, y_train, validation_split = 0.2, epochs=50, \\\n",
    "                            batch_size=128, verbose=0)"
   ]
  },
  {
   "cell_type": "code",
   "execution_count": 39,
   "metadata": {},
   "outputs": [
    {
     "data": {
      "text/plain": [
       "[0.90526315940053836, 0.90736842255843309, 0.89263158070413695]"
      ]
     },
     "execution_count": 39,
     "metadata": {},
     "output_type": "execute_result"
    }
   ],
   "source": [
    "rnn_history.history['val_acc'][29:32]"
   ]
  },
  {
   "cell_type": "code",
   "execution_count": 41,
   "metadata": {},
   "outputs": [
    {
     "data": {
      "text/plain": [
       "[0.24832860871365195, 0.25200192746363187, 0.31205478919179819]"
      ]
     },
     "execution_count": 41,
     "metadata": {},
     "output_type": "execute_result"
    }
   ],
   "source": [
    "rnn_history.history['val_loss'][29:32]"
   ]
  },
  {
   "cell_type": "code",
   "execution_count": 36,
   "metadata": {},
   "outputs": [
    {
     "data": {
      "image/png": "[encoded data removed]",
      "text/plain": [
       "<matplotlib.figure.Figure at 0x12a745198>"
      ]
     },
     "metadata": {},
     "output_type": "display_data"
    }
   ],
   "source": [
    "# summarize history for accuracy\n",
    "visualizer.plot_accuracy(rnn_history)"
   ]
  },
  {
   "cell_type": "code",
   "execution_count": 37,
   "metadata": {},
   "outputs": [
    {
     "data": {
      "image/png": "[encoded data removed]",
      "text/plain": [
       "<matplotlib.figure.Figure at 0x129e87780>"
      ]
     },
     "metadata": {},
     "output_type": "display_data"
    }
   ],
   "source": [
    "# summarize history for loss\n",
    "visualizer.plot_loss(rn_history)"
   ]
  },
  {
   "cell_type": "code",
   "execution_count": 14,
   "metadata": {
    "collapsed": true
   },
   "outputs": [
    {
     "name": "stdout",
     "output_type": "stream",
     "text": [
      "Epoch 1/30\n",
      "2374/2374 [==============================] - 32s 14ms/step - loss: 1.1834 - acc: 0.4933\n",
      "Epoch 2/30\n",
      "2374/2374 [==============================] - 33s 14ms/step - loss: 0.8249 - acc: 0.6782\n",
      "Epoch 3/30\n",
      "2374/2374 [==============================] - 32s 14ms/step - loss: 0.6838 - acc: 0.7422\n",
      "Epoch 4/30\n",
      "2374/2374 [==============================] - 31s 13ms/step - loss: 0.6120 - acc: 0.7742\n",
      "Epoch 5/30\n",
      "2374/2374 [==============================] - 31s 13ms/step - loss: 0.5508 - acc: 0.8041\n",
      "Epoch 6/30\n",
      "2374/2374 [==============================] - 32s 14ms/step - loss: 0.5213 - acc: 0.8214\n",
      "Epoch 7/30\n",
      "2374/2374 [==============================] - 31s 13ms/step - loss: 0.4926 - acc: 0.8239\n",
      "Epoch 8/30\n",
      "2374/2374 [==============================] - 32s 14ms/step - loss: 0.4472 - acc: 0.8433\n",
      "Epoch 9/30\n",
      "2374/2374 [==============================] - 32s 13ms/step - loss: 0.4218 - acc: 0.8530\n",
      "Epoch 10/30\n",
      "2374/2374 [==============================] - 32s 13ms/step - loss: 0.4162 - acc: 0.8564\n",
      "Epoch 11/30\n",
      "2374/2374 [==============================] - 32s 14ms/step - loss: 0.3819 - acc: 0.8652\n",
      "Epoch 12/30\n",
      "2374/2374 [==============================] - 32s 14ms/step - loss: 0.3735 - acc: 0.8677\n",
      "Epoch 13/30\n",
      "2374/2374 [==============================] - 32s 14ms/step - loss: 0.3697 - acc: 0.8707\n",
      "Epoch 14/30\n",
      "2374/2374 [==============================] - 31s 13ms/step - loss: 0.3351 - acc: 0.8774\n",
      "Epoch 15/30\n",
      "2374/2374 [==============================] - 31s 13ms/step - loss: 0.3469 - acc: 0.8850\n",
      "Epoch 16/30\n",
      "2374/2374 [==============================] - 31s 13ms/step - loss: 0.2991 - acc: 0.8917\n",
      "Epoch 17/30\n",
      "2374/2374 [==============================] - 33s 14ms/step - loss: 0.3283 - acc: 0.8837\n",
      "Epoch 18/30\n",
      "2374/2374 [==============================] - 32s 14ms/step - loss: 0.2816 - acc: 0.9027\n",
      "Epoch 19/30\n",
      "2374/2374 [==============================] - 32s 13ms/step - loss: 0.2674 - acc: 0.9019\n",
      "Epoch 20/30\n",
      "2374/2374 [==============================] - 32s 13ms/step - loss: 0.2896 - acc: 0.9031\n",
      "Epoch 21/30\n",
      "2374/2374 [==============================] - 32s 14ms/step - loss: 0.2478 - acc: 0.9107\n",
      "Epoch 22/30\n",
      "2374/2374 [==============================] - 32s 13ms/step - loss: 0.2432 - acc: 0.9124\n",
      "Epoch 23/30\n",
      "2374/2374 [==============================] - 31s 13ms/step - loss: 0.2476 - acc: 0.9149\n",
      "Epoch 24/30\n",
      "2374/2374 [==============================] - 33s 14ms/step - loss: 0.2272 - acc: 0.9225\n",
      "Epoch 25/30\n",
      "2374/2374 [==============================] - 33s 14ms/step - loss: 0.2122 - acc: 0.9246\n",
      "Epoch 26/30\n",
      "2374/2374 [==============================] - 33s 14ms/step - loss: 0.2160 - acc: 0.9246\n",
      "Epoch 27/30\n",
      "2374/2374 [==============================] - 32s 14ms/step - loss: 0.2131 - acc: 0.9238\n",
      "Epoch 28/30\n",
      "2374/2374 [==============================] - 32s 14ms/step - loss: 0.2103 - acc: 0.9221\n",
      "Epoch 29/30\n",
      "2374/2374 [==============================] - 34s 14ms/step - loss: 0.1972 - acc: 0.9275\n",
      "Epoch 30/30\n",
      "2374/2374 [==============================] - 33s 14ms/step - loss: 0.2090 - acc: 0.9271\n"
     ]
    },
    {
     "data": {
      "text/plain": [
       "<keras.callbacks.History at 0x1a36e53c18>"
      ]
     },
     "execution_count": 14,
     "metadata": {},
     "output_type": "execute_result"
    }
   ],
   "source": [
    "# 综合分析val_acc和val_test，epochs=30可以训练出最好的模型\n",
    "rnn_model = get_rnn_model()\n",
    "rnn_model.fit(X_train, y_train, epochs=30, batch_size=128)"
   ]
  },
  {
   "cell_type": "code",
   "execution_count": 48,
   "metadata": {},
   "outputs": [
    {
     "name": "stdout",
     "output_type": "stream",
     "text": [
      "1580/1580 [==============================] - 20s    \n",
      "[0.33411237648393532, 0.89303797468354429]\n"
     ]
    }
   ],
   "source": [
    "print(rnn_model.evaluate(X_test,y_test))"
   ]
  },
  {
   "cell_type": "code",
   "execution_count": null,
   "metadata": {
    "collapsed": true
   },
   "outputs": [],
   "source": []
  }
 ],
 "metadata": {
  "kernelspec": {
   "display_name": "Python 3",
   "language": "python",
   "name": "python3"
  },
  "language_info": {
   "codemirror_mode": {
    "name": "ipython",
    "version": 3
   },
   "file_extension": ".py",
   "mimetype": "text/x-python",
   "name": "python",
   "nbconvert_exporter": "python",
   "pygments_lexer": "ipython3",
   "version": "3.6.1"
  }
 },
 "nbformat": 4,
 "nbformat_minor": 2
}
